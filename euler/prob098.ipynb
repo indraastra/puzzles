{
 "cells": [
  {
   "cell_type": "code",
   "execution_count": 9,
   "id": "e269e0a1",
   "metadata": {},
   "outputs": [],
   "source": [
    "from collections import Counter\n",
    "import itertools"
   ]
  },
  {
   "cell_type": "code",
   "execution_count": 3,
   "id": "1567f82e",
   "metadata": {},
   "outputs": [
    {
     "data": {
      "text/plain": [
       "1786"
      ]
     },
     "execution_count": 3,
     "metadata": {},
     "output_type": "execute_result"
    }
   ],
   "source": [
    "words = [w.strip('\"') for w in open('p098_words.txt', 'rt').read().split(',')]\n",
    "len(words)"
   ]
  },
  {
   "cell_type": "code",
   "execution_count": 7,
   "id": "7fddde42",
   "metadata": {},
   "outputs": [],
   "source": [
    "def is_anagram(a, b):\n",
    "    return Counter(a) == Counter(b)"
   ]
  },
  {
   "cell_type": "code",
   "execution_count": 11,
   "id": "3fde70c3",
   "metadata": {},
   "outputs": [],
   "source": [
    "anagrams = [(a, b) for a, b in itertools.combinations(words, 2) if len(a) == len(b) and is_anagram(a, b)]"
   ]
  },
  {
   "cell_type": "code",
   "execution_count": 15,
   "id": "13d8796d",
   "metadata": {},
   "outputs": [],
   "source": [
    "anagrams.sort(key=lambda p: len(p[0]), reverse=True)"
   ]
  },
  {
   "cell_type": "code",
   "execution_count": 25,
   "id": "45257e6d",
   "metadata": {},
   "outputs": [
    {
     "data": {
      "text/plain": [
       "[('INTRODUCE', 'REDUCTION'),\n",
       " ('CREATION', 'REACTION'),\n",
       " ('CENTRE', 'RECENT'),\n",
       " ('COURSE', 'SOURCE'),\n",
       " ('CREDIT', 'DIRECT'),\n",
       " ('DANGER', 'GARDEN'),\n",
       " ('EXCEPT', 'EXPECT'),\n",
       " ('FORMER', 'REFORM')]"
      ]
     },
     "execution_count": 25,
     "metadata": {},
     "output_type": "execute_result"
    }
   ],
   "source": [
    "anagrams[:8]"
   ]
  },
  {
   "cell_type": "code",
   "execution_count": 35,
   "id": "8ce558cc",
   "metadata": {},
   "outputs": [
    {
     "name": "stdout",
     "output_type": "stream",
     "text": [
      "dict_keys([2, 3, 4, 5, 6, 8, 9])\n"
     ]
    }
   ],
   "source": [
    "def squares(digits):\n",
    "    lo = round(int('1'+'0'*(digits-1))**.5)\n",
    "    hi = round(int('9'*digits)**.5)\n",
    "    for i in range(lo, hi+1):\n",
    "        j = i**2\n",
    "        if len(str(j)) > digits: break\n",
    "        elif len(str(j)) != digits: continue\n",
    "        yield j\n",
    "        \n",
    "squares_by_digits = {\n",
    "    d: set(squares(d)) for d in set(len(p[0]) for p in anagrams)\n",
    "}\n",
    "print(squares_by_digits.keys())"
   ]
  },
  {
   "cell_type": "code",
   "execution_count": 48,
   "id": "6300c679",
   "metadata": {},
   "outputs": [
    {
     "name": "stdout",
     "output_type": "stream",
     "text": [
      "17689 BOARD BROAD 18769\n",
      "CPU times: user 63.1 ms, sys: 0 ns, total: 63.1 ms\n",
      "Wall time: 62.8 ms\n"
     ]
    }
   ],
   "source": [
    "%%time\n",
    "\n",
    "def is_anagramic(n, p1, p2):\n",
    "    i_to_a = {}\n",
    "    a_to_i = {}\n",
    "    for i, a in zip(str(n), p1):\n",
    "        if i in i_to_a and i_to_a[i] != a: return None\n",
    "        if a in a_to_i and a_to_i[a] != i: return None\n",
    "        i_to_a[i] = a\n",
    "        a_to_i[a] = i\n",
    "    m = int(p2.translate(str.maketrans(a_to_i)))\n",
    "    return m if m in squares_by_digits[len(p1)] else None\n",
    "\n",
    "for p1, p2 in anagrams:\n",
    "    for n in sorted(squares_by_digits[len(p1)], reverse=True):\n",
    "        m = is_anagramic(n, p1, p2)\n",
    "        if m:\n",
    "            print(n, p1, p2, m)\n",
    "            break\n",
    "    if m:\n",
    "        break"
   ]
  },
  {
   "cell_type": "code",
   "execution_count": null,
   "id": "2dbbeb0b",
   "metadata": {},
   "outputs": [],
   "source": []
  }
 ],
 "metadata": {
  "kernelspec": {
   "display_name": "Python 3 (ipykernel)",
   "language": "python",
   "name": "python3"
  },
  "language_info": {
   "codemirror_mode": {
    "name": "ipython",
    "version": 3
   },
   "file_extension": ".py",
   "mimetype": "text/x-python",
   "name": "python",
   "nbconvert_exporter": "python",
   "pygments_lexer": "ipython3",
   "version": "3.8.10"
  }
 },
 "nbformat": 4,
 "nbformat_minor": 5
}
