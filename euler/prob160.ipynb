{
 "cells": [
  {
   "cell_type": "code",
   "execution_count": 2,
   "id": "11e018eb",
   "metadata": {},
   "outputs": [],
   "source": [
    "import util"
   ]
  },
  {
   "cell_type": "code",
   "execution_count": 3,
   "id": "b500aee1",
   "metadata": {},
   "outputs": [
    {
     "data": {
      "text/plain": [
       "[2, 2, 2, 2, 2, 2, 2, 2, 2, 2, 2, 2, 5, 5, 5, 5, 5, 5, 5, 5, 5, 5, 5, 5]"
      ]
     },
     "execution_count": 3,
     "metadata": {},
     "output_type": "execute_result"
    }
   ],
   "source": [
    "util.prime_factors(1_000_000_000_000)"
   ]
  },
  {
   "cell_type": "code",
   "execution_count": 4,
   "id": "f532380f",
   "metadata": {},
   "outputs": [],
   "source": [
    "def f(n):\n",
    "    return str(n).rstrip('0')[-5:]"
   ]
  },
  {
   "cell_type": "code",
   "execution_count": 5,
   "id": "6a7129a0",
   "metadata": {
    "scrolled": true
   },
   "outputs": [
    {
     "name": "stdout",
     "output_type": "stream",
     "text": [
      "         0|                                                  1 ... 1            |0\n",
      "         1|                                                  1 ... 1            |1\n",
      "         2|                                                  2 ... 2            |2\n",
      "         3|                                                  6 ... 6            |3\n",
      "         4|                                                 24 ... 24           |4\n",
      "         5|                                                120 ... 12           |5\n",
      "         6|                                                720 ... 72           |6\n",
      "         7|                                               5040 ... 504          |7\n",
      "         8|                                              40320 ... 4032         |8\n",
      "         9|                                             362880 ... 36288        |9\n",
      "        10|                                            3628800 ... 36288        |10\n",
      "        11|                                           39916800 ... 99168        |11\n",
      "        12|                                          479001600 ... 90016        |12\n",
      "        13|                                         6227020800 ... 70208        |13\n",
      "        14|                                        87178291200 ... 82912        |14\n",
      "        15|                                      1307674368000 ... 74368        |15\n",
      "        16|                                     20922789888000 ... 89888        |16\n",
      "        17|                                    355687428096000 ... 28096        |17\n",
      "        18|                                   6402373705728000 ... 05728        |18\n",
      "        19|                                 121645100408832000 ... 08832        |19\n",
      "        20|                                2432902008176640000 ... 17664        |20\n",
      "        21|                               51090942171709440000 ... 70944        |21\n",
      "        22|                             1124000727777607680000 ... 60768        |22\n",
      "        23|                            25852016738884976640000 ... 97664        |23\n",
      "        24|                           620448401733239439360000 ... 43936        |24\n",
      "        25|                         15511210043330985984000000 ... 85984        |25\n",
      "        26|                        403291461126605635584000000 ... 35584        |26\n",
      "        27|                      10888869450418352160768000000 ... 60768        |27\n",
      "        28|                     304888344611713860501504000000 ... 01504        |28\n",
      "        29|                    8841761993739701954543616000000 ... 43616        |29\n",
      "        30|                  265252859812191058636308480000000 ... 30848        |30\n",
      "        31|                 8222838654177922817725562880000000 ... 56288        |31\n",
      "        32|               263130836933693530167218012160000000 ... 01216        |32\n",
      "        33|              8683317618811886495518194401280000000 ... 40128        |33\n",
      "        34|            295232799039604140847618609643520000000 ... 64352        |34\n",
      "        35|          10333147966386144929666651337523200000000 ... 75232        |35\n",
      "        36|         371993326789901217467999448150835200000000 ... 08352        |36\n",
      "        37|       13763753091226345046315979581580902400000000 ... 09024        |37\n",
      "        38|      523022617466601111760007224100074291200000000 ... 42912        |38\n",
      "        39|    20397882081197443358640281739902897356800000000 ... 73568        |39\n"
     ]
    }
   ],
   "source": [
    "for i in range(40):\n",
    "    fac = util.factorial(i)\n",
    "    last5 = f(fac)\n",
    "    print(f'{i:>10}| {fac:50} ... {last5}'.ljust(80) + f'|{i:}')"
   ]
  },
  {
   "cell_type": "code",
   "execution_count": 5,
   "id": "506f05b8",
   "metadata": {},
   "outputs": [],
   "source": [
    "def fs(until):\n",
    "    for i in range(until):\n",
    "        yield f(util.factorial(i))"
   ]
  },
  {
   "cell_type": "code",
   "execution_count": 6,
   "id": "f8f950f8",
   "metadata": {},
   "outputs": [
    {
     "name": "stdout",
     "output_type": "stream",
     "text": [
      "60768: this 27, last 22\n",
      "16864: this 100, last 99\n",
      "70944: this 112, last 21\n",
      "11072: this 116, last 62\n",
      "09856: this 139, last 61\n",
      "86112: this 153, last 51\n",
      "61248: this 154, last 77\n",
      "97664: this 156, last 23\n",
      "97536: this 172, last 63\n",
      "64352: this 183, last 34\n",
      "08352: this 194, last 36\n",
      "37472: this 200, last 109\n",
      "83232: this 226, last 97\n",
      "43936: this 234, last 24\n",
      "00736: this 241, last 168\n",
      "78112: this 242, last 90\n",
      "16704: this 244, last 124\n",
      "26976: this 252, last 247\n",
      "81408: this 262, last 80\n",
      "60032: this 270, last 118\n",
      "82912: this 276, last 14\n",
      "90688: this 279, last 83\n",
      "60032: this 306, last 270\n",
      "09728: this 309, last 105\n",
      "43968: this 329, last 318\n",
      "47424: this 339, last 69\n",
      "11936: this 343, last 82\n",
      "99168: this 354, last 11\n",
      "08832: this 375, last 19\n",
      "53664: this 377, last 92\n",
      "56448: this 398, last 345\n",
      "61248: this 403, last 154\n",
      "43136: this 408, last 359\n",
      "75744: this 413, last 259\n",
      "86144: this 428, last 182\n",
      "62656: this 446, last 187\n",
      "39936: this 448, last 366\n",
      "90688: this 450, last 279\n",
      "69728: this 453, last 71\n",
      "56512: this 454, last 367\n",
      "93888: this 462, last 412\n",
      "75584: this 472, last 147\n",
      "51232: this 473, last 85\n",
      "43808: this 487, last 119\n",
      "42144: this 490, last 437\n",
      "31712: this 496, last 254\n",
      "12864: this 500, last 195\n",
      "31008: this 506, last 346\n",
      "68512: this 513, last 88\n",
      "23552: this 522, last 374\n",
      "72704: this 524, last 381\n",
      "49856: this 537, last 192\n",
      "82688: this 541, last 186\n",
      "43232: this 544, last 203\n",
      "54624: this 546, last 468\n",
      "79328: this 547, last 188\n",
      "87456: this 549, last 96\n",
      "31008: this 550, last 506\n",
      "62656: this 555, last 446\n",
      "37664: this 560, last 143\n",
      "42624: this 563, last 409\n",
      "39936: this 564, last 448\n",
      "55488: this 574, last 250\n",
      "69056: this 575, last 236\n",
      "05952: this 580, last 86\n",
      "01216: this 592, last 32\n",
      "57664: this 596, last 415\n",
      "96416: this 599, last 368\n",
      "12352: this 606, last 479\n",
      "97664: this 607, last 156\n",
      "21088: this 610, last 593\n",
      "84768: this 611, last 229\n",
      "78016: this 612, last 338\n",
      "39936: this 617, last 564\n",
      "39744: this 623, last 135\n",
      "65152: this 631, last 41\n",
      "44608: this 635, last 609\n",
      "41536: this 642, last 95\n",
      "69344: this 650, last 260\n",
      "85984: this 662, last 25\n",
      "67232: this 666, last 326\n",
      "35392: this 675, last 328\n",
      "30176: this 688, last 452\n",
      "76256: this 691, last 576\n",
      "32288: this 695, last 54\n",
      "96256: this 697, last 218\n",
      "33184: this 701, last 281\n",
      "85216: this 704, last 569\n",
      "75872: this 716, last 212\n",
      "50976: this 720, last 335\n",
      "68512: this 722, last 513\n",
      "25344: this 728, last 320\n",
      "91616: this 732, last 521\n",
      "23552: this 734, last 522\n",
      "73728: this 739, last 173\n",
      "01152: this 741, last 665\n",
      "54784: this 742, last 380\n",
      "91136: this 745, last 363\n",
      "87456: this 746, last 549\n",
      "08736: this 758, last 504\n",
      "27424: this 760, last 512\n",
      "83968: this 762, last 474\n",
      "34176: this 764, last 723\n",
      "79424: this 766, last 461\n",
      "18208: this 767, last 708\n",
      "65792: this 775, last 407\n",
      "82624: this 780, last 645\n",
      "29344: this 781, last 442\n",
      "56512: this 787, last 454\n",
      "87232: this 806, last 74\n",
      "96224: this 807, last 205\n",
      "54432: this 814, last 659\n",
      "59776: this 817, last 347\n",
      "96768: this 818, last 810\n",
      "27424: this 821, last 760\n",
      "17984: this 839, last 777\n",
      "10656: this 840, last 483\n",
      "83744: this 844, last 768\n",
      "06816: this 847, last 288\n",
      "50272: this 851, last 583\n",
      "55744: this 855, last 141\n",
      "16864: this 856, last 100\n",
      "00384: this 858, last 629\n",
      "29856: this 859, last 178\n",
      "78112: this 862, last 242\n",
      "10656: this 863, last 840\n",
      "82656: this 866, last 756\n",
      "62752: this 867, last 738\n",
      "68736: this 868, last 199\n",
      "40768: this 871, last 184\n",
      "49696: this 872, last 520\n",
      "09472: this 882, last 709\n",
      "03424: this 886, last 827\n",
      "54016: this 889, last 165\n",
      "83904: this 893, last 239\n",
      "10176: this 894, last 79\n",
      "33792: this 896, last 224\n",
      "11424: this 897, last 493\n",
      "51232: this 901, last 473\n",
      "07424: this 906, last 890\n",
      "43936: this 910, last 234\n",
      "25696: this 911, last 120\n",
      "34752: this 912, last 440\n",
      "76256: this 925, last 691\n",
      "70144: this 929, last 463\n",
      "77952: this 931, last 678\n",
      "29312: this 933, last 420\n",
      "77408: this 934, last 108\n",
      "87648: this 935, last 311\n",
      "38528: this 936, last 44\n",
      "00736: this 937, last 241\n",
      "90368: this 938, last 73\n",
      "96608: this 941, last 431\n",
      "66048: this 943, last 567\n",
      "44864: this 946, last 501\n",
      "86208: this 947, last 815\n",
      "98784: this 955, last 261\n",
      "32896: this 961, last 365\n",
      "45952: this 962, last 511\n",
      "14176: this 965, last 786\n",
      "94016: this 966, last 59\n",
      "79328: this 973, last 547\n",
      "31552: this 976, last 167\n",
      "26304: this 977, last 358\n",
      "25312: this 978, last 644\n",
      "80448: this 979, last 618\n",
      "83904: this 980, last 893\n",
      "81216: this 986, last 243\n",
      "29344: this 989, last 781\n",
      "10496: this 991, last 834\n",
      "74528: this 998, last 543\n",
      "53472: this 1000, last 999\n",
      "63904: this 1008, last 604\n",
      "69152: this 1012, last 692\n",
      "50976: this 1013, last 720\n",
      "10336: this 1016, last 960\n",
      "70496: this 1022, last 300\n",
      "25792: this 1024, last 319\n",
      "65408: this 1028, last 396\n",
      "24576: this 1031, last 812\n",
      "62432: this 1032, last 900\n",
      "92704: this 1034, last 491\n",
      "44864: this 1035, last 946\n",
      "79104: this 1036, last 459\n",
      "30848: this 1037, last 30\n",
      "12736: this 1039, last 286\n",
      "41056: this 1044, last 985\n",
      "40352: this 1045, last 421\n",
      "08192: this 1046, last 91\n",
      "58528: this 1055, last 128\n",
      "63712: this 1063, last 436\n",
      "65472: this 1066, last 974\n",
      "43456: this 1070, last 494\n",
      "55072: this 1072, last 362\n",
      "92256: this 1073, last 1033\n",
      "91616: this 1080, last 732\n",
      "21472: this 1082, last 278\n",
      "26784: this 1084, last 486\n",
      "05728: this 1092, last 18\n",
      "10176: this 1094, last 894\n",
      "96608: this 1101, last 941\n",
      "27392: this 1104, last 302\n",
      "55072: this 1107, last 1072\n",
      "31584: this 1109, last 869\n",
      "70464: this 1111, last 355\n",
      "55968: this 1112, last 706\n",
      "09024: this 1115, last 37\n",
      "83904: this 1118, last 980\n",
      "20512: this 1120, last 837\n",
      "92288: this 1124, last 647\n",
      "05824: this 1126, last 1110\n",
      "94944: this 1128, last 919\n",
      "91776: this 1129, last 755\n",
      "70688: this 1130, last 636\n",
      "48128: this 1131, last 57\n",
      "60512: this 1134, last 50\n",
      "18112: this 1135, last 614\n",
      "75232: this 1136, last 35\n",
      "38784: this 1137, last 460\n",
      "36192: this 1138, last 518\n",
      "86432: this 1140, last 148\n",
      "18912: this 1141, last 573\n",
      "97504: this 1142, last 214\n",
      "20832: this 1147, last 376\n",
      "91264: this 1149, last 689\n",
      "15936: this 1151, last 256\n",
      "72928: this 1160, last 382\n",
      "87648: this 1163, last 935\n",
      "44736: this 1167, last 291\n",
      "51648: this 1168, last 476\n",
      "51904: this 1170, last 804\n",
      "79584: this 1171, last 1091\n",
      "72448: this 1172, last 696\n",
      "85696: this 1174, last 984\n",
      "56928: this 1175, last 744\n",
      "05056: this 1177, last 990\n",
      "55968: this 1178, last 1112\n",
      "93376: this 1181, last 791\n",
      "21056: this 1183, last 507\n",
      "48768: this 1187, last 655\n",
      "36384: this 1188, last 42\n",
      "08544: this 1190, last 323\n",
      "75904: this 1191, last 952\n",
      "77632: this 1196, last 853\n",
      "53792: this 1198, last 792\n",
      "96608: this 1199, last 1101\n",
      "24192: this 1202, last 630\n",
      "02976: this 1203, last 649\n",
      "22592: this 1206, last 715\n",
      "01152: this 1208, last 741\n",
      "24928: this 1210, last 253\n",
      "38048: this 1215, last 332\n",
      "84608: this 1218, last 873\n",
      "65728: this 1222, last 1117\n",
      "85216: this 1228, last 704\n",
      "30464: this 1229, last 268\n",
      "47072: this 1230, last 1143\n",
      "18624: this 1232, last 1088\n",
      "25728: this 1234, last 499\n",
      "77408: this 1235, last 934\n",
      "68256: this 1237, last 324\n",
      "74208: this 1240, last 641\n",
      "21504: this 1245, last 532\n",
      "93984: this 1246, last 598\n",
      "63904: this 1248, last 1008\n",
      "64512: this 1250, last 43\n",
      "04512: this 1251, last 743\n",
      "66048: this 1257, last 943\n",
      "44192: this 1262, last 404\n",
      "14496: this 1263, last 1201\n",
      "22944: this 1264, last 1002\n",
      "52416: this 1265, last 258\n",
      "58656: this 1266, last 255\n",
      "45984: this 1269, last 674\n",
      "45216: this 1272, last 552\n",
      "88448: this 1278, last 1049\n",
      "24992: this 1279, last 676\n",
      "44192: this 1282, last 1262\n",
      "63424: this 1284, last 1053\n",
      "79424: this 1286, last 766\n",
      "70144: this 1288, last 929\n",
      "14464: this 1290, last 765\n",
      "47008: this 1292, last 782\n",
      "81344: this 1293, last 517\n",
      "58112: this 1295, last 581\n",
      "23488: this 1302, last 424\n",
      "42656: this 1304, last 458\n",
      "90048: this 1306, last 248\n",
      "92736: this 1307, last 1010\n",
      "65664: this 1312, last 653\n",
      "18112: this 1315, last 1135\n",
      "35392: this 1316, last 675\n",
      "11264: this 1317, last 902\n",
      "45952: this 1318, last 962\n",
      "10688: this 1319, last 357\n",
      "91616: this 1323, last 1080\n",
      "74528: this 1328, last 998\n",
      "72832: this 1332, last 351\n",
      "85056: this 1333, last 587\n",
      "37984: this 1335, last 140\n",
      "36288: this 1337, last 10\n",
      "00544: this 1340, last 823\n",
      "29504: this 1341, last 561\n",
      "36224: this 1343, last 1221\n",
      "85056: this 1344, last 1333\n",
      "00768: this 1349, last 274\n",
      "10368: this 1350, last 492\n",
      "07168: this 1351, last 467\n",
      "91136: this 1352, last 745\n",
      "36736: this 1355, last 556\n",
      "68896: this 1358, last 393\n",
      "07328: this 1362, last 846\n",
      "19296: this 1364, last 301\n",
      "83904: this 1365, last 1118\n",
      "12864: this 1366, last 500\n",
      "00384: this 1368, last 858\n",
      "25696: this 1369, last 911\n",
      "95552: this 1373, last 257\n",
      "88448: this 1374, last 1278\n",
      "71616: this 1375, last 402\n",
      "43616: this 1376, last 29\n",
      "59232: this 1377, last 1060\n",
      "18784: this 1379, last 789\n",
      "17152: this 1381, last 1267\n",
      "20512: this 1383, last 1120\n",
      "22208: this 1385, last 193\n",
      "80288: this 1386, last 813\n",
      "24928: this 1388, last 1210\n",
      "24992: this 1389, last 1279\n",
      "91648: this 1393, last 1075\n",
      "57312: this 1394, last 570\n",
      "45024: this 1395, last 394\n",
      "53504: this 1396, last 152\n",
      "97664: this 1401, last 607\n",
      "24928: this 1402, last 1388\n",
      "22688: this 1408, last 1139\n",
      "67392: this 1409, last 672\n",
      "78304: this 1412, last 488\n",
      "82528: this 1414, last 1099\n",
      "28896: this 1423, last 210\n",
      "83232: this 1426, last 226\n",
      "07392: this 1428, last 663\n",
      "33024: this 1430, last 1398\n",
      "16608: this 1432, last 1305\n",
      "44576: this 1434, last 528\n",
      "48992: this 1437, last 808\n",
      "50496: this 1438, last 800\n",
      "79136: this 1440, last 1009\n",
      "34976: this 1441, last 107\n",
      "35392: this 1442, last 1316\n",
      "31008: this 1446, last 550\n",
      "68576: this 1447, last 285\n",
      "98048: this 1448, last 1247\n",
      "37504: this 1450, last 956\n",
      "77408: this 1452, last 1235\n",
      "83968: this 1455, last 762\n",
      "43456: this 1457, last 1070\n",
      "58848: this 1458, last 584\n",
      "59232: this 1459, last 1377\n",
      "30304: this 1462, last 1184\n",
      "34752: this 1463, last 912\n",
      "10144: this 1467, last 1255\n",
      "62656: this 1470, last 555\n",
      "66976: this 1471, last 397\n",
      "00224: this 1475, last 717\n",
      "30624: this 1476, last 759\n",
      "31648: this 1477, last 730\n",
      "75744: this 1478, last 413\n",
      "14688: this 1481, last 1299\n",
      "67616: this 1482, last 860\n",
      "74528: this 1483, last 1328\n",
      "33472: this 1485, last 770\n",
      "75904: this 1487, last 1191\n",
      "45152: this 1488, last 1061\n",
      "20512: this 1493, last 1383\n",
      "72832: this 1497, last 1332\n",
      "02336: this 1498, last 928\n",
      "46496: this 1501, last 881\n",
      "98976: this 1503, last 1280\n",
      "13472: this 1508, last 967\n",
      "32928: this 1515, last 102\n",
      "94272: this 1519, last 40\n",
      "29344: this 1520, last 989\n",
      "44928: this 1522, last 1494\n",
      "25344: this 1523, last 728\n",
      "73504: this 1526, last 364\n",
      "49024: this 1528, last 1252\n",
      "27488: this 1530, last 251\n",
      "86944: this 1537, last 572\n",
      "83232: this 1540, last 1426\n",
      "60512: this 1541, last 1134\n",
      "76256: this 1545, last 925\n",
      "91776: this 1546, last 1129\n",
      "77472: this 1547, last 773\n",
      "56832: this 1551, last 299\n",
      "03264: this 1552, last 101\n",
      "68992: this 1553, last 736\n",
      "13568: this 1554, last 298\n",
      "09824: this 1555, last 981\n",
      "86144: this 1556, last 428\n",
      "32064: this 1558, last 208\n",
      "69792: this 1562, last 1535\n",
      "77344: this 1564, last 78\n",
      "05792: this 1567, last 1411\n",
      "32064: this 1569, last 1558\n",
      "89408: this 1571, last 417\n",
      "37152: this 1574, last 1219\n",
      "10144: this 1575, last 1467\n",
      "86944: this 1576, last 1537\n",
      "10688: this 1577, last 1319\n",
      "65664: this 1578, last 1312\n",
      "66816: this 1582, last 384\n",
      "69728: this 1583, last 453\n",
      "33344: this 1587, last 620\n",
      "50272: this 1588, last 851\n",
      "78784: this 1592, last 272\n",
      "02912: this 1593, last 927\n",
      "55616: this 1595, last 785\n",
      "54784: this 1599, last 742\n",
      "57056: this 1604, last 793\n",
      "07488: this 1605, last 1078\n",
      "25728: this 1606, last 1234\n",
      "92768: this 1608, last 1209\n",
      "63712: this 1609, last 1063\n",
      "57632: this 1610, last 1425\n",
      "45152: this 1611, last 1488\n",
      "29312: this 1616, last 933\n",
      "97504: this 1617, last 1142\n",
      "63136: this 1621, last 1596\n",
      "42848: this 1627, last 1087\n",
      "10176: this 1629, last 1094\n",
      "20128: this 1631, last 622\n",
      "48896: this 1632, last 1054\n",
      "47168: this 1633, last 982\n",
      "72512: this 1634, last 710\n",
      "14432: this 1640, last 337\n",
      "82912: this 1641, last 276\n",
      "16256: this 1650, last 1646\n",
      "10144: this 1654, last 1575\n",
      "77344: this 1657, last 1564\n",
      "36352: this 1658, last 1422\n",
      "22688: this 1660, last 1408\n",
      "84768: this 1661, last 611\n",
      "83808: this 1663, last 207\n",
      "56512: this 1664, last 787\n",
      "09248: this 1665, last 245\n",
      "07168: this 1666, last 1351\n",
      "49056: this 1667, last 406\n",
      "25408: this 1668, last 597\n",
      "05952: this 1669, last 580\n",
      "93984: this 1670, last 1246\n",
      "25408: this 1672, last 1668\n",
      "01568: this 1675, last 310\n",
      "02336: this 1677, last 1498\n",
      "57632: this 1679, last 1610\n",
      "37856: this 1681, last 1146\n",
      "73792: this 1682, last 1155\n",
      "20224: this 1684, last 1038\n",
      "56384: this 1686, last 565\n",
      "19808: this 1687, last 1678\n",
      "73664: this 1690, last 1603\n",
      "74208: this 1692, last 1240\n",
      "34144: this 1693, last 888\n",
      "39936: this 1694, last 617\n",
      "69152: this 1695, last 1012\n",
      "81792: this 1696, last 181\n",
      "39648: this 1699, last 1445\n",
      "01216: this 1701, last 592\n",
      "69632: this 1702, last 314\n",
      "83296: this 1703, last 68\n",
      "36384: this 1704, last 1188\n",
      "53472: this 1705, last 1000\n",
      "57024: this 1707, last 411\n",
      "45088: this 1710, last 1397\n",
      "45568: this 1711, last 1021\n",
      "12416: this 1712, last 340\n",
      "90208: this 1715, last 1275\n",
      "25376: this 1717, last 1479\n",
      "68992: this 1719, last 1553\n",
      "66624: this 1720, last 277\n",
      "59904: this 1721, last 1504\n",
      "27424: this 1723, last 821\n",
      "91936: this 1726, last 1683\n",
      "76064: this 1729, last 632\n",
      "59072: this 1730, last 438\n",
      "51392: this 1733, last 1322\n",
      "31808: this 1735, last 1405\n",
      "18688: this 1736, last 1287\n",
      "61056: this 1737, last 1224\n",
      "55392: this 1739, last 228\n",
      "38208: this 1740, last 719\n",
      "20128: this 1741, last 1631\n",
      "40992: this 1744, last 1461\n",
      "03104: this 1745, last 703\n",
      "19584: this 1746, last 677\n",
      "13248: this 1747, last 1076\n",
      "57504: this 1748, last 484\n",
      "74496: this 1749, last 1420\n",
      "74368: this 1751, last 15\n",
      "92736: this 1752, last 1307\n",
      "28832: this 1754, last 1655\n",
      "10016: this 1755, last 626\n",
      "88384: this 1759, last 1258\n",
      "93088: this 1762, last 232\n",
      "14144: this 1763, last 1122\n",
      "50016: this 1764, last 625\n",
      "77824: this 1765, last 52\n",
      "99776: this 1769, last 303\n",
      "16352: this 1773, last 924\n",
      "08448: this 1774, last 591\n",
      "14752: this 1776, last 349\n",
      "15264: this 1781, last 568\n",
      "98784: this 1783, last 955\n",
      "72096: this 1785, last 526\n",
      "34304: this 1789, last 1360\n",
      "85056: this 1791, last 1344\n",
      "20352: this 1792, last 1370\n",
      "91136: this 1793, last 1352\n",
      "97984: this 1794, last 1347\n",
      "64736: this 1797, last 748\n",
      "95072: this 1799, last 146\n",
      "60992: this 1802, last 217\n",
      "68576: this 1803, last 1447\n",
      "96992: this 1808, last 1708\n",
      "58528: this 1809, last 1055\n",
      "51648: this 1811, last 1168\n",
      "37088: this 1813, last 887\n",
      "77632: this 1814, last 1196\n",
      "90208: this 1815, last 1715\n",
      "48992: this 1819, last 1437\n",
      "75744: this 1823, last 1478\n",
      "57056: this 1824, last 1604\n",
      "66272: this 1825, last 237\n",
      "26624: this 1830, last 1821\n",
      "32608: this 1832, last 439\n",
      "70464: this 1833, last 1111\n",
      "30976: this 1834, last 176\n",
      "84096: this 1835, last 1532\n",
      "00256: this 1836, last 624\n",
      "70272: this 1837, last 1214\n",
      "22304: this 1839, last 905\n",
      "03936: this 1840, last 1653\n",
      "46176: this 1841, last 312\n",
      "62464: this 1844, last 331\n",
      "26368: this 1846, last 845\n",
      "97152: this 1851, last 1491\n",
      "25504: this 1852, last 1197\n",
      "92224: this 1856, last 958\n",
      "59968: this 1857, last 1273\n",
      "45216: this 1861, last 1272\n",
      "92192: this 1862, last 1380\n",
      "53696: this 1863, last 721\n",
      "89344: this 1864, last 994\n",
      "62656: this 1865, last 1470\n",
      "16096: this 1866, last 1249\n",
      "51232: this 1867, last 901\n",
      "01376: this 1868, last 209\n",
      "71744: this 1869, last 548\n",
      "52928: this 1873, last 1511\n",
      "52576: this 1876, last 386\n",
      "15456: this 1878, last 161\n",
      "62912: this 1880, last 292\n",
      "37472: this 1881, last 200\n",
      "22304: this 1882, last 1839\n",
      "45888: this 1884, last 795\n",
      "47808: this 1888, last 870\n",
      "59968: this 1890, last 1857\n",
      "99488: this 1891, last 652\n",
      "51744: this 1896, last 1827\n",
      "82464: this 1898, last 1895\n",
      "99136: this 1899, last 769\n",
      "47104: this 1903, last 737\n",
      "86048: this 1905, last 1580\n",
      "07488: this 1906, last 1605\n",
      "07328: this 1908, last 1362\n",
      "69152: this 1911, last 1695\n",
      "18624: this 1912, last 1232\n",
      "27712: this 1913, last 1415\n",
      "40768: this 1914, last 871\n",
      "49952: this 1916, last 1775\n",
      "45728: this 1919, last 816\n",
      "49696: this 1921, last 872\n",
      "14176: this 1923, last 965\n",
      "36512: this 1925, last 953\n",
      "09824: this 1927, last 1555\n",
      "56288: this 1929, last 31\n",
      "80704: this 1931, last 529\n",
      "20128: this 1932, last 1741\n",
      "07424: this 1933, last 906\n",
      "58016: this 1934, last 414\n",
      "76096: this 1935, last 601\n",
      "35072: this 1937, last 828\n",
      "69536: this 1938, last 1226\n",
      "30304: this 1939, last 1462\n",
      "78976: this 1940, last 1724\n",
      "92416: this 1941, last 1517\n",
      "47296: this 1943, last 801\n",
      "43424: this 1944, last 724\n",
      "95968: this 1945, last 1718\n",
      "94368: this 1948, last 1342\n",
      "23232: this 1949, last 1706\n",
      "49824: this 1951, last 425\n",
      "56448: this 1952, last 398\n",
      "42944: this 1953, last 651\n",
      "70592: this 1959, last 757\n",
      "58752: this 1961, last 898\n",
      "38912: this 1965, last 47\n",
      "51264: this 1967, last 932\n",
      "89888: this 1969, last 16\n",
      "41856: this 1971, last 1689\n",
      "40032: this 1972, last 1345\n",
      "83136: this 1973, last 671\n",
      "27328: this 1980, last 638\n",
      "91008: this 1983, last 400\n",
      "99712: this 1986, last 577\n",
      "55072: this 1988, last 1107\n",
      "38208: this 1989, last 1740\n",
      "53472: this 1991, last 1705\n",
      "57408: this 1994, last 1456\n",
      "52896: this 1995, last 360\n",
      "80416: this 1996, last 880\n",
      "90752: this 1997, last 93\n",
      "55008: this 2001, last 616\n",
      "36192: this 2004, last 1138\n",
      "30976: this 2006, last 1834\n",
      "79744: this 2011, last 908\n",
      "44928: this 2012, last 1522\n",
      "88896: this 2014, last 752\n",
      "93056: this 2019, last 1560\n",
      "97312: this 2020, last 619\n",
      "67552: this 2021, last 150\n",
      "90144: this 2022, last 1549\n",
      "01664: this 2027, last 1499\n",
      "47168: this 2029, last 1633\n",
      "75104: this 2030, last 646\n",
      "36224: this 2031, last 1343\n",
      "07168: this 2032, last 1666\n",
      "72544: this 2033, last 418\n",
      "39936: this 2035, last 1694\n",
      "82656: this 2040, last 866\n",
      "00896: this 2041, last 1015\n",
      "29632: this 2042, last 747\n",
      "31744: this 2044, last 852\n",
      "91648: this 2045, last 1393\n",
      "58848: this 2048, last 1458\n",
      "79552: this 2049, last 1079\n",
      "25696: this 2053, last 1369\n",
      "79584: this 2054, last 1171\n",
      "04512: this 2055, last 1251\n",
      "14304: this 2057, last 1777\n",
      "84288: this 2059, last 171\n",
      "63328: this 2060, last 774\n",
      "19008: this 2061, last 779\n",
      "59488: this 2066, last 1007\n",
      "61696: this 2067, last 841\n",
      "87328: this 2068, last 892\n"
     ]
    },
    {
     "name": "stdout",
     "output_type": "stream",
     "text": [
      "07776: this 2074, last 803\n",
      "36352: this 2075, last 1658\n",
      "43904: this 2077, last 2009\n",
      "32512: this 2078, last 1778\n",
      "29184: this 2080, last 503\n",
      "31904: this 2081, last 304\n",
      "58624: this 2083, last 1067\n",
      "72416: this 2084, last 385\n",
      "48736: this 2085, last 1268\n",
      "35776: this 2090, last 372\n",
      "32672: this 2092, last 1311\n",
      "82496: this 2093, last 235\n",
      "46624: this 2094, last 1336\n",
      "17728: this 2095, last 1816\n",
      "57888: this 2096, last 282\n",
      "91136: this 2097, last 1793\n",
      "94912: this 2100, last 699\n",
      "55424: this 2102, last 831\n",
      "56672: this 2103, last 1098\n",
      "75424: this 2105, last 1625\n",
      "42944: this 2106, last 1953\n",
      "83008: this 2107, last 1539\n",
      "99136: this 2110, last 1899\n",
      "76096: this 2111, last 1935\n",
      "14752: this 2112, last 1776\n",
      "70976: this 2113, last 2047\n",
      "10976: this 2116, last 456\n",
      "36192: this 2117, last 2004\n",
      "05568: this 2120, last 1056\n",
      "09728: this 2121, last 309\n",
      "42816: this 2122, last 959\n",
      "98368: this 2123, last 430\n",
      "33632: this 2124, last 2025\n",
      "83968: this 2125, last 1455\n",
      "15968: this 2126, last 2017\n",
      "15232: this 2129, last 1806\n",
      "50496: this 2131, last 1438\n",
      "87776: this 2133, last 1559\n",
      "35584: this 2135, last 26\n",
      "07424: this 2136, last 1933\n",
      "58144: this 2138, last 1297\n",
      "83424: this 2140, last 1761\n",
      "10784: this 2141, last 1006\n",
      "99328: this 2142, last 1271\n",
      "59904: this 2143, last 1721\n",
      "34176: this 2144, last 764\n",
      "30752: this 2145, last 951\n",
      "93792: this 2146, last 1638\n",
      "71424: this 2147, last 1962\n",
      "98048: this 2149, last 1448\n",
      "08032: this 2150, last 273\n",
      "76832: this 2151, last 470\n",
      "24992: this 2153, last 1389\n",
      "32768: this 2154, last 1964\n",
      "02624: this 2156, last 648\n",
      "59968: this 2157, last 1890\n",
      "28096: this 2159, last 17\n",
      "68736: this 2160, last 868\n",
      "25376: this 2163, last 1717\n",
      "82496: this 2166, last 2093\n",
      "68832: this 2167, last 2007\n",
      "13248: this 2170, last 1747\n",
      "61408: this 2171, last 220\n",
      "76448: this 2173, last 751\n",
      "70944: this 2179, last 112\n",
      "65792: this 2180, last 775\n",
      "12064: this 2182, last 964\n",
      "95008: this 2184, last 921\n",
      "09248: this 2185, last 1665\n",
      "16128: this 2186, last 1870\n",
      "95968: this 2188, last 1945\n",
      "95488: this 2190, last 2024\n",
      "43936: this 2192, last 910\n",
      "51648: this 2193, last 1811\n",
      "15712: this 2194, last 1922\n",
      "98784: this 2195, last 1783\n",
      "29664: this 2196, last 1359\n",
      "30816: this 2199, last 2050\n",
      "77952: this 2200, last 931\n",
      "86112: this 2203, last 153\n",
      "45728: this 2207, last 1919\n",
      "99552: this 2212, last 1484\n",
      "08576: this 2213, last 216\n",
      "87264: this 2214, last 749\n",
      "78976: this 2215, last 1940\n",
      "10816: this 2216, last 1320\n",
      "81696: this 2218, last 525\n",
      "83424: this 2219, last 2140\n",
      "20128: this 2220, last 1932\n",
      "04288: this 2221, last 1602\n",
      "27936: this 2222, last 336\n",
      "08352: this 2225, last 194\n",
      "91552: this 2226, last 778\n",
      "65824: this 2231, last 1691\n",
      "19168: this 2232, last 1533\n",
      "97056: this 2235, last 211\n",
      "12192: this 2237, last 110\n",
      "85696: this 2238, last 1174\n",
      "14496: this 2241, last 1263\n",
      "69728: this 2245, last 1583\n",
      "14528: this 2248, last 170\n",
      "73472: this 2249, last 1727\n",
      "68544: this 2255, last 1207\n",
      "90848: this 2257, last 2204\n",
      "14656: this 2260, last 2008\n",
      "82592: this 2262, last 1309\n",
      "05696: this 2263, last 2211\n",
      "86016: this 2265, last 1904\n",
      "10336: this 2268, last 1016\n",
      "91168: this 2270, last 505\n",
      "42528: this 2271, last 822\n",
      "23616: this 2272, last 144\n",
      "28032: this 2274, last 1910\n",
      "37728: this 2275, last 970\n",
      "49056: this 2277, last 1667\n",
      "65472: this 2279, last 1066\n",
      "27616: this 2280, last 1339\n",
      "93376: this 2283, last 1181\n",
      "70784: this 2284, last 1116\n",
      "93184: this 2286, last 1901\n",
      "11808: this 2287, last 2046\n",
      "16704: this 2288, last 244\n",
      "00384: this 2291, last 1368\n",
      "51392: this 2295, last 1733\n",
      "96032: this 2296, last 180\n",
      "85504: this 2297, last 1086\n",
      "88192: this 2298, last 1195\n",
      "66368: this 2302, last 1216\n",
      "00288: this 2305, last 451\n",
      "40672: this 2310, last 1928\n",
      "92992: this 2311, last 189\n",
      "97504: this 2312, last 1617\n",
      "26752: this 2313, last 1418\n",
      "04128: this 2314, last 1767\n",
      "43712: this 2316, last 1613\n",
      "80704: this 2317, last 1931\n",
      "71872: this 2318, last 1942\n",
      "71168: this 2319, last 221\n",
      "10976: this 2320, last 2116\n",
      "75296: this 2321, last 46\n",
      "75776: this 2323, last 729\n",
      "03424: this 2324, last 886\n",
      "18208: this 2326, last 767\n",
      "70016: this 2327, last 2139\n",
      "90592: this 2329, last 1585\n",
      "07936: this 2330, last 1970\n",
      "98816: this 2331, last 1623\n",
      "38912: this 2332, last 1965\n",
      "81696: this 2333, last 2218\n",
      "21344: this 2335, last 196\n",
      "47808: this 2337, last 1888\n",
      "75104: this 2338, last 2030\n",
      "68256: this 2339, last 1237\n",
      "27264: this 2341, last 1444\n",
      "10784: this 2343, last 2141\n",
      "19712: this 2345, last 1357\n",
      "50112: this 2348, last 129\n",
      "13088: this 2349, last 126\n",
      "49536: this 2352, last 1150\n",
      "94336: this 2355, last 1957\n",
      "55616: this 2356, last 1595\n",
      "38496: this 2358, last 2161\n",
      "12064: this 2359, last 2182\n",
      "47104: this 2360, last 1903\n",
      "12544: this 2361, last 2015\n",
      "49888: this 2367, last 1885\n",
      "34784: this 2368, last 2258\n",
      "81152: this 2370, last 515\n",
      "88352: this 2373, last 975\n",
      "25664: this 2375, last 681\n",
      "07328: this 2377, last 1908\n",
      "15936: this 2379, last 1151\n",
      "92768: this 2380, last 1608\n",
      "08256: this 2382, last 2165\n",
      "08032: this 2385, last 2150\n",
      "64352: this 2386, last 183\n",
      "38912: this 2388, last 2332\n",
      "60768: this 2389, last 27\n",
      "23552: this 2390, last 734\n",
      "12832: this 2391, last 1003\n",
      "94144: this 2392, last 2347\n",
      "48896: this 2395, last 1632\n",
      "54816: this 2396, last 673\n",
      "93952: this 2397, last 1121\n",
      "53504: this 2399, last 1396\n",
      "84096: this 2400, last 1835\n",
      "14496: this 2401, last 2241\n",
      "98976: this 2403, last 1503\n",
      "38304: this 2404, last 1855\n",
      "34432: this 2408, last 1993\n",
      "51808: this 2410, last 1069\n",
      "09088: this 2411, last 2246\n",
      "20256: this 2412, last 264\n",
      "35392: this 2414, last 1442\n",
      "47168: this 2415, last 2029\n",
      "57888: this 2416, last 2096\n",
      "76032: this 2419, last 225\n",
      "99744: this 2420, last 680\n",
      "25344: this 2423, last 1523\n",
      "33856: this 2424, last 341\n",
      "65408: this 2426, last 1028\n",
      "45216: this 2427, last 1861\n",
      "24192: this 2429, last 1202\n",
      "12736: this 2431, last 1039\n",
      "73952: this 2432, last 2189\n",
      "75744: this 2434, last 1823\n",
      "93664: this 2435, last 227\n",
      "65504: this 2436, last 294\n",
      "33248: this 2437, last 157\n",
      "58624: this 2438, last 2083\n",
      "83936: this 2439, last 790\n",
      "80384: this 2440, last 1978\n",
      "17344: this 2441, last 579\n",
      "39264: this 2443, last 280\n",
      "61216: this 2444, last 133\n",
      "17312: this 2445, last 2251\n",
      "45152: this 2446, last 1611\n",
      "86944: this 2447, last 1576\n",
      "38912: this 2448, last 2388\n",
      "95488: this 2449, last 2190\n",
      "39456: this 2450, last 915\n",
      "20512: this 2452, last 1493\n",
      "15936: this 2453, last 2379\n",
      "70912: this 2456, last 1298\n",
      "30048: this 2459, last 444\n",
      "91808: this 2460, last 656\n",
      "20128: this 2463, last 2220\n",
      "64128: this 2465, last 2306\n",
      "39648: this 2466, last 1699\n",
      "68288: this 2468, last 586\n",
      "79584: this 2473, last 2054\n",
      "97696: this 2475, last 1030\n",
      "95296: this 2476, last 123\n",
      "19776: this 2478, last 1108\n",
      "24704: this 2479, last 2010\n",
      "74112: this 2483, last 423\n",
      "94208: this 2484, last 401\n",
      "10688: this 2485, last 1577\n",
      "05216: this 2487, last 1887\n",
      "77408: this 2488, last 1452\n",
      "68512: this 2489, last 722\n",
      "59488: this 2490, last 2066\n",
      "84608: this 2491, last 1218\n",
      "43136: this 2492, last 408\n",
      "38048: this 2493, last 1215\n",
      "31424: this 2496, last 383\n",
      "65728: this 2497, last 1222\n",
      "65728: this 2502, last 2497\n",
      "17184: this 2503, last 1507\n",
      "98368: this 2505, last 2123\n",
      "10208: this 2506, last 137\n",
      "72832: this 2510, last 1497\n",
      "81152: this 2511, last 2370\n",
      "53824: this 2512, last 1125\n",
      "59712: this 2513, last 1652\n",
      "15968: this 2514, last 2126\n",
      "35232: this 2516, last 917\n",
      "80992: this 2518, last 713\n",
      "18848: this 2519, last 1516\n",
      "49696: this 2520, last 1921\n",
      "79552: this 2522, last 2049\n",
      "09696: this 2523, last 2036\n",
      "72704: this 2524, last 524\n",
      "35776: this 2525, last 2090\n",
      "34752: this 2527, last 1463\n",
      "91872: this 2530, last 2064\n",
      "28032: this 2531, last 2274\n",
      "77024: this 2532, last 1047\n",
      "28928: this 2536, last 2362\n",
      "90336: this 2537, last 1027\n",
      "19808: this 2540, last 1687\n",
      "69376: this 2542, last 707\n",
      "23168: this 2543, last 1619\n",
      "39392: this 2544, last 1486\n",
      "75264: this 2545, last 2366\n",
      "22144: this 2546, last 206\n",
      "00768: this 2547, last 1349\n",
      "56864: this 2548, last 2363\n",
      "46336: this 2549, last 215\n",
      "79968: this 2551, last 848\n",
      "91808: this 2553, last 2460\n",
      "77632: this 2554, last 1814\n",
      "34976: this 2555, last 1441\n",
      "63392: this 2557, last 1233\n",
      "56736: this 2558, last 98\n",
      "87424: this 2559, last 1090\n",
      "97408: this 2562, last 371\n",
      "56704: this 2563, last 2206\n",
      "89056: this 2564, last 838\n",
      "92864: this 2565, last 2500\n",
      "89024: this 2566, last 1043\n",
      "24608: this 2567, last 1845\n",
      "00736: this 2569, last 937\n",
      "89152: this 2570, last 1909\n",
      "09792: this 2571, last 602\n",
      "85024: this 2572, last 1612\n",
      "66752: this 2573, last 2076\n",
      "91136: this 2576, last 2097\n",
      "57472: this 2577, last 2132\n",
      "02464: this 2579, last 794\n",
      "35712: this 2580, last 2183\n",
      "05632: this 2583, last 2315\n",
      "53088: this 2584, last 313\n",
      "73248: this 2585, last 267\n",
      "19328: this 2586, last 204\n",
      "77568: this 2590, last 1192\n",
      "59296: this 2592, last 1200\n",
      "54528: this 2593, last 733\n",
      "45632: this 2594, last 1231\n",
      "41504: this 2595, last 1642\n",
      "14304: this 2598, last 2057\n",
      "76096: this 2599, last 2111\n",
      "78496: this 2600, last 600\n",
      "68096: this 2601, last 1077\n",
      "85792: this 2602, last 308\n",
      "63904: this 2604, last 1248\n",
      "96992: this 2605, last 1808\n",
      "72512: this 2608, last 1634\n",
      "83808: this 2609, last 1663\n",
      "73888: this 2610, last 1390\n",
      "21568: this 2611, last 2065\n",
      "35616: this 2612, last 297\n",
      "64608: this 2613, last 535\n",
      "85312: this 2614, last 2228\n",
      "09088: this 2615, last 2411\n",
      "74208: this 2616, last 1692\n",
      "02336: this 2617, last 1677\n",
      "15648: this 2618, last 142\n",
      "13344: this 2620, last 566\n",
      "74624: this 2621, last 1924\n",
      "64128: this 2622, last 2465\n",
      "07744: this 2623, last 1685\n",
      "20256: this 2624, last 2412\n",
      "40672: this 2625, last 2310\n",
      "73344: this 2627, last 2239\n",
      "48032: this 2628, last 842\n",
      "97984: this 2631, last 1794\n",
      "93888: this 2632, last 462\n",
      "11936: this 2634, last 343\n",
      "78496: this 2636, last 2600\n",
      "93952: this 2637, last 2397\n",
      "47264: this 2639, last 1671\n",
      "77696: this 2640, last 2344\n",
      "95136: this 2641, last 2635\n",
      "49312: this 2642, last 944\n",
      "92704: this 2644, last 1034\n",
      "70208: this 2645, last 13\n",
      "70368: this 2646, last 2486\n",
      "64096: this 2647, last 60\n",
      "26208: this 2648, last 1557\n",
      "24992: this 2649, last 2153\n",
      "75488: this 2651, last 1871\n",
      "94176: this 2652, last 2088\n",
      "79136: this 2655, last 1440\n",
      "85216: this 2656, last 1228\n",
      "18912: this 2657, last 1141\n",
      "68096: this 2658, last 2601\n",
      "92224: this 2660, last 1856\n",
      "08064: this 2661, last 1400\n",
      "66368: this 2662, last 2302\n",
      "37984: this 2663, last 1335\n",
      "92288: this 2667, last 1124\n",
      "24384: this 2668, last 169\n",
      "80896: this 2669, last 1132\n",
      "99232: this 2670, last 1274\n",
      "48672: this 2671, last 1059\n",
      "51584: this 2672, last 885\n",
      "01568: this 2674, last 1675\n",
      "42144: this 2676, last 490\n",
      "19488: this 2677, last 1325\n",
      "88864: this 2678, last 1649\n",
      "66656: this 2679, last 166\n",
      "73888: this 2683, last 2610\n",
      "82752: this 2685, last 177\n",
      "71872: this 2686, last 2318\n",
      "34048: this 2689, last 1570\n",
      "58912: this 2690, last 1853\n",
      "60864: this 2692, last 497\n",
      "89888: this 2694, last 1969\n",
      "03936: this 2696, last 1840\n",
      "15392: this 2697, last 2684\n",
      "27616: this 2698, last 2280\n",
      "35584: this 2699, last 2135\n",
      "60768: this 2700, last 2389\n",
      "62336: this 2702, last 1725\n",
      "94208: this 2703, last 2484\n",
      "38432: this 2704, last 2026\n"
     ]
    },
    {
     "name": "stdout",
     "output_type": "stream",
     "text": [
      "48544: this 2709, last 1831\n",
      "55424: this 2710, last 2102\n",
      "54464: this 2711, last 1186\n",
      "26784: this 2715, last 1084\n",
      "45344: this 2716, last 820\n",
      "43264: this 2718, last 2114\n",
      "69952: this 2720, last 1465\n",
      "39392: this 2721, last 2544\n",
      "25024: this 2722, last 426\n",
      "40352: this 2723, last 1045\n",
      "18848: this 2724, last 2519\n",
      "88608: this 2725, last 1384\n",
      "27616: this 2727, last 2698\n",
      "79616: this 2730, last 1907\n",
      "31296: this 2731, last 1892\n",
      "98784: this 2734, last 2195\n",
      "67424: this 2735, last 2208\n",
      "72064: this 2736, last 1427\n",
      "94176: this 2739, last 2652\n",
      "77984: this 2741, last 884\n",
      "32128: this 2742, last 2541\n",
      "73376: this 2744, last 45\n",
      "91712: this 2745, last 2494\n",
      "06912: this 2748, last 771\n",
      "52992: this 2750, last 819\n",
      "80992: this 2751, last 2518\n",
      "89984: this 2752, last 1637\n",
      "71808: this 2754, last 2197\n",
      "83104: this 2755, last 1204\n",
      "58368: this 2757, last 1897\n",
      "78944: this 2758, last 2517\n",
      "06496: this 2759, last 2005\n",
      "92896: this 2760, last 480\n",
      "34272: this 2762, last 392\n",
      "33504: this 2764, last 2293\n",
      "13856: this 2765, last 1473\n",
      "25696: this 2766, last 2053\n",
      "02976: this 2768, last 1203\n",
      "30688: this 2770, last 94\n",
      "36448: this 2771, last 2728\n",
      "33856: this 2772, last 2424\n",
      "82688: this 2773, last 541\n",
      "76512: this 2774, last 1169\n",
      "25408: this 2776, last 1672\n",
      "58016: this 2777, last 1934\n",
      "68448: this 2778, last 1573\n",
      "23776: this 2780, last 1327\n",
      "21056: this 2781, last 1183\n",
      "95136: this 2783, last 2641\n",
      "58624: this 2784, last 2438\n",
      "26784: this 2785, last 2715\n",
      "20224: this 2786, last 1684\n",
      "58816: this 2789, last 1421\n",
      "09664: this 2790, last 1157\n",
      "72224: this 2791, last 76\n",
      "49408: this 2792, last 1020\n",
      "43936: this 2794, last 2192\n",
      "46144: this 2797, last 2169\n",
      "34464: this 2801, last 2482\n",
      "46336: this 2804, last 2549\n",
      "97248: this 2805, last 2328\n",
      "77888: this 2806, last 1796\n",
      "31616: this 2807, last 2643\n",
      "77728: this 2808, last 2413\n",
      "64512: this 2810, last 1250\n",
      "43232: this 2811, last 544\n",
      "64192: this 2813, last 554\n",
      "36288: this 2814, last 1337\n",
      "58112: this 2818, last 1295\n",
      "17728: this 2819, last 2095\n",
      "99296: this 2820, last 222\n",
      "14016: this 2821, last 1356\n",
      "23104: this 2824, last 2407\n",
      "06176: this 2827, last 2714\n",
      "65728: this 2828, last 2502\n",
      "96896: this 2830, last 2398\n",
      "12576: this 2831, last 1954\n",
      "15232: this 2832, last 2129\n",
      "93504: this 2834, last 2071\n",
      "77024: this 2836, last 2532\n",
      "95744: this 2838, last 2264\n",
      "17216: this 2839, last 2236\n",
      "89344: this 2840, last 1864\n",
      "26304: this 2841, last 977\n",
      "55968: this 2842, last 1178\n",
      "17024: this 2843, last 2073\n",
      "16256: this 2844, last 1650\n",
      "24832: this 2845, last 434\n",
      "71872: this 2846, last 2686\n",
      "19584: this 2847, last 1746\n",
      "75232: this 2848, last 1136\n",
      "35968: this 2849, last 1902\n",
      "25088: this 2850, last 1639\n",
      "32576: this 2852, last 2038\n",
      "42112: this 2854, last 1096\n",
      "22976: this 2855, last 1242\n",
      "19456: this 2856, last 2462\n",
      "85792: this 2857, last 2602\n",
      "93536: this 2858, last 2763\n",
      "19424: this 2859, last 2290\n",
      "55264: this 2860, last 2471\n",
      "10304: this 2861, last 263\n",
      "90048: this 2862, last 1306\n",
      "07424: this 2863, last 2136\n",
      "62336: this 2864, last 2702\n",
      "39008: this 2867, last 2000\n",
      "14432: this 2870, last 1640\n",
      "34272: this 2871, last 2762\n",
      "29184: this 2872, last 2080\n",
      "45632: this 2873, last 2594\n",
      "43808: this 2876, last 487\n",
      "35616: this 2877, last 2612\n",
      "02848: this 2878, last 682\n",
      "99392: this 2879, last 443\n",
      "24896: this 2880, last 290\n",
      "25376: this 2881, last 2163\n",
      "33632: this 2882, last 2124\n",
      "61056: this 2883, last 1737\n",
      "85504: this 2884, last 2297\n",
      "67904: this 2885, last 1051\n",
      "70944: this 2886, last 2179\n",
      "15328: this 2887, last 1738\n",
      "67264: this 2888, last 2659\n",
      "25696: this 2889, last 2766\n",
      "82304: this 2891, last 283\n",
      "23168: this 2892, last 2543\n",
      "25024: this 2893, last 2722\n",
      "19456: this 2894, last 2856\n",
      "32512: this 2895, last 2078\n",
      "54752: this 2896, last 2455\n",
      "16544: this 2897, last 1820\n",
      "44512: this 2898, last 2829\n",
      "40288: this 2899, last 2072\n",
      "89152: this 2901, last 2570\n",
      "19104: this 2902, last 2202\n",
      "58912: this 2903, last 2690\n",
      "80448: this 2904, last 979\n",
      "70144: this 2905, last 1288\n",
      "77984: this 2908, last 2741\n",
      "55456: this 2909, last 2175\n",
      "59072: this 2912, last 1730\n",
      "08704: this 2914, last 138\n",
      "37216: this 2915, last 2261\n",
      "21856: this 2916, last 1936\n",
      "21184: this 2919, last 582\n",
      "85728: this 2920, last 2418\n",
      "11488: this 2921, last 534\n",
      "76928: this 2923, last 1464\n",
      "37472: this 2924, last 1881\n",
      "21056: this 2925, last 2781\n",
      "09856: this 2926, last 139\n",
      "48512: this 2927, last 633\n",
      "43136: this 2928, last 2492\n",
      "45344: this 2929, last 2716\n",
      "85792: this 2930, last 2857\n",
      "79712: this 2933, last 608\n",
      "75008: this 2934, last 246\n",
      "14848: this 2935, last 2907\n",
      "79136: this 2937, last 2655\n",
      "01568: this 2938, last 2674\n",
      "08352: this 2939, last 2225\n",
      "55488: this 2940, last 574\n",
      "90208: this 2941, last 1815\n",
      "91936: this 2942, last 1726\n",
      "67648: this 2943, last 370\n",
      "55712: this 2944, last 1635\n",
      "96608: this 2947, last 1199\n",
      "00384: this 2948, last 2291\n",
      "99744: this 2952, last 2420\n",
      "41024: this 2955, last 1185\n",
      "66944: this 2956, last 2675\n",
      "53408: this 2957, last 2299\n",
      "80864: this 2958, last 2108\n",
      "71072: this 2962, last 1590\n",
      "86336: this 2963, last 2706\n",
      "21536: this 2965, last 1407\n",
      "75776: this 2966, last 2323\n",
      "27392: this 2967, last 1104\n",
      "84864: this 2969, last 327\n",
      "04608: this 2970, last 2325\n",
      "90368: this 2971, last 938\n",
      "98208: this 2973, last 2775\n",
      "70592: this 2974, last 1959\n",
      "50112: this 2975, last 2348\n",
      "69824: this 2977, last 289\n",
      "32544: this 2981, last 1220\n",
      "38464: this 2983, last 2906\n",
      "76576: this 2984, last 2959\n",
      "07936: this 2985, last 2330\n",
      "96896: this 2986, last 2830\n",
      "28352: this 2987, last 2162\n",
      "15776: this 2988, last 1114\n",
      "54464: this 2989, last 2711\n",
      "45376: this 2991, last 2638\n",
      "21056: this 2993, last 2925\n",
      "78368: this 2995, last 149\n",
      "12416: this 2997, last 1712\n",
      "23168: this 2998, last 2892\n",
      "48992: this 3002, last 1819\n",
      "22976: this 3003, last 2855\n",
      "19904: this 3004, last 1525\n",
      "81152: this 3005, last 2511\n",
      "42912: this 3006, last 38\n",
      "36384: this 3007, last 1704\n",
      "43072: this 3008, last 2224\n",
      "03648: this 3009, last 1103\n",
      "98048: this 3010, last 2149\n",
      "22528: this 3011, last 538\n",
      "54336: this 3012, last 1565\n",
      "14368: this 3013, last 1025\n",
      "03328: this 3015, last 2098\n",
      "37248: this 3016, last 1956\n",
      "37888: this 3018, last 2104\n",
      "29344: this 3020, last 1520\n",
      "32928: this 3022, last 1515\n",
      "24256: this 3024, last 1524\n",
      "83744: this 3025, last 844\n",
      "84288: this 3027, last 2059\n",
      "24064: this 3028, last 2932\n",
      "26368: this 3030, last 1846\n",
      "66848: this 3033, last 190\n",
      "16832: this 3034, last 1313\n",
      "42432: this 3036, last 145\n",
      "92288: this 3039, last 2667\n",
      "55552: this 3040, last 939\n",
      "33632: this 3041, last 2882\n",
      "08544: this 3042, last 1190\n",
      "99392: this 3043, last 2879\n",
      "49248: this 3044, last 658\n",
      "64736: this 3046, last 1797\n",
      "50592: this 3047, last 1849\n",
      "64384: this 3049, last 700\n",
      "63712: this 3050, last 1609\n",
      "85312: this 3051, last 2614\n",
      "72224: this 3052, last 2791\n",
      "09088: this 3054, last 2615\n",
      "76384: this 3055, last 2713\n",
      "29504: this 3056, last 1341\n",
      "93728: this 3057, last 2936\n",
      "20224: this 3058, last 2786\n",
      "56096: this 3060, last 1011\n",
      "09856: this 3061, last 2926\n",
      "79072: this 3062, last 2217\n",
      "97536: this 3063, last 172\n",
      "50304: this 3064, last 1041\n",
      "27616: this 3066, last 2727\n",
      "56768: this 3070, last 1513\n",
      "34528: this 3071, last 809\n",
      "70016: this 3072, last 2327\n",
      "59168: this 3073, last 1243\n",
      "82432: this 3074, last 1348\n",
      "34784: this 3075, last 2368\n",
      "11968: this 3077, last 379\n",
      "37504: this 3078, last 1450\n",
      "74816: this 3079, last 2695\n",
      "43328: this 3080, last 1893\n",
      "93568: this 3081, last 1810\n",
      "76576: this 3082, last 2984\n",
      "83808: this 3083, last 2609\n",
      "63872: this 3084, last 2253\n",
      "04512: this 3085, last 2055\n",
      "86784: this 3087, last 265\n",
      "88992: this 3088, last 1065\n",
      "96288: this 3089, last 2826\n",
      "52992: this 3090, last 2750\n",
      "98272: this 3091, last 3067\n",
      "57024: this 3092, last 1707\n",
      "75232: this 3093, last 2848\n",
      "36576: this 3095, last 2733\n",
      "99712: this 3097, last 1986\n",
      "07776: this 3098, last 2074\n",
      "97824: this 3099, last 2070\n",
      "32544: this 3100, last 2981\n",
      "64288: this 3102, last 2787\n",
      "77888: this 3105, last 2806\n",
      "20128: this 3106, last 2463\n",
      "37696: this 3107, last 2910\n",
      "59168: this 3108, last 3073\n",
      "53312: this 3109, last 111\n",
      "80032: this 3110, last 627\n",
      "79552: this 3111, last 2522\n",
      "65824: this 3112, last 2231\n",
      "10112: this 3113, last 2101\n",
      "88768: this 3114, last 1886\n",
      "51232: this 3115, last 1867\n",
      "38912: this 3116, last 2448\n",
      "88704: this 3117, last 2016\n",
      "79072: this 3118, last 3062\n",
      "77216: this 3120, last 3017\n",
      "91136: this 3121, last 2576\n",
      "26592: this 3122, last 2480\n",
      "46816: this 3123, last 464\n",
      "53184: this 3124, last 158\n",
      "82912: this 3125, last 1641\n",
      "82912: this 3126, last 3125\n",
      "65824: this 3127, last 3112\n",
      "89888: this 3129, last 2694\n",
      "34944: this 3130, last 2788\n",
      "09664: this 3131, last 2790\n",
      "67648: this 3132, last 2943\n",
      "70656: this 3134, last 1443\n",
      "86592: this 3137, last 2393\n",
      "25696: this 3138, last 2889\n",
      "59616: this 3140, last 1728\n",
      "15552: this 3142, last 1505\n",
      "79936: this 3143, last 1979\n",
      "18784: this 3144, last 1379\n",
      "57568: this 3145, last 2350\n",
      "08928: this 3146, last 1822\n",
      "96416: this 3147, last 599\n",
      "21632: this 3149, last 2354\n",
      "81408: this 3150, last 262\n",
      "16608: this 3151, last 1432\n",
      "48416: this 3152, last 66\n",
      "55648: this 3153, last 1480\n",
      "01376: this 3155, last 1868\n",
      "42656: this 3156, last 1304\n",
      "64992: this 3157, last 2992\n",
      "44736: this 3158, last 1167\n",
      "21024: this 3159, last 49\n",
      "53888: this 3162, last 478\n",
      "62016: this 3164, last 1102\n",
      "50624: this 3166, last 2866\n",
      "26208: this 3167, last 2648\n",
      "26944: this 3168, last 465\n",
      "85952: this 3171, last 1850\n",
      "39744: this 3172, last 623\n",
      "77888: this 3174, last 3105\n",
      "22944: this 3175, last 1264\n",
      "70144: this 3176, last 2905\n",
      "16864: this 3178, last 856\n",
      "10656: this 3179, last 863\n",
      "88608: this 3180, last 2725\n",
      "36736: this 3182, last 1355\n",
      "30688: this 3183, last 2770\n",
      "23552: this 3185, last 2390\n",
      "73664: this 3187, last 1690\n",
      "13248: this 3189, last 2170\n",
      "23392: this 3191, last 930\n",
      "67264: this 3192, last 2888\n",
      "73952: this 3193, last 2432\n",
      "02688: this 3194, last 2825\n",
      "58816: this 3195, last 2789\n",
      "67392: this 3197, last 1409\n",
      "51584: this 3199, last 2672\n",
      "52288: this 3201, last 2342\n",
      "41728: this 3203, last 1594\n",
      "99776: this 3206, last 1769\n",
      "81632: this 3207, last 2069\n",
      "75456: this 3208, last 1259\n",
      "38304: this 3209, last 2404\n",
      "95584: this 3210, last 3076\n",
      "20224: this 3211, last 3058\n",
      "59488: this 3212, last 2490\n",
      "34944: this 3213, last 3130\n",
      "10016: this 3214, last 1755\n",
      "70144: this 3215, last 3176\n",
      "83104: this 3216, last 2755\n",
      "45568: this 3217, last 1711\n",
      "55456: this 3219, last 2909\n",
      "56832: this 3220, last 1551\n",
      "55872: this 3221, last 740\n",
      "19584: this 3222, last 2847\n",
      "03968: this 3224, last 875\n",
      "27968: this 3225, last 1676\n",
      "12608: this 3228, last 2472\n",
      "27936: this 3230, last 2222\n",
      "61216: this 3231, last 2444\n",
      "50112: this 3232, last 2975\n",
      "18464: this 3234, last 914\n",
      "23104: this 3235, last 2824\n",
      "28928: this 3237, last 2536\n",
      "50496: this 3239, last 2131\n",
      "60704: this 3240, last 1093\n",
      "41664: this 3241, last 2994\n",
      "74688: this 3242, last 829\n"
     ]
    },
    {
     "name": "stdout",
     "output_type": "stream",
     "text": [
      "13184: this 3243, last 595\n",
      "68896: this 3244, last 1358\n",
      "06752: this 3245, last 2693\n",
      "16992: this 3246, last 2779\n",
      "73024: this 3247, last 1291\n",
      "62048: this 3249, last 3181\n",
      "26656: this 3250, last 1548\n",
      "58656: this 3251, last 1266\n",
      "49312: this 3252, last 2642\n",
      "11936: this 3253, last 2634\n",
      "39744: this 3254, last 3172\n",
      "36672: this 3255, last 3186\n",
      "32224: this 3257, last 1521\n",
      "85792: this 3258, last 2930\n",
      "37728: this 3260, last 2275\n",
      "31008: this 3261, last 1446\n",
      "48096: this 3262, last 2823\n",
      "37248: this 3263, last 3016\n",
      "77472: this 3264, last 1547\n",
      "44608: this 3265, last 635\n",
      "89728: this 3266, last 995\n",
      "41376: this 3267, last 1071\n",
      "16768: this 3268, last 1042\n",
      "14592: this 3269, last 589\n",
      "51264: this 3271, last 1967\n",
      "99584: this 3273, last 1324\n",
      "45024: this 3275, last 1395\n",
      "90848: this 3277, last 2257\n",
      "99744: this 3278, last 2952\n",
      "60576: this 3279, last 1189\n",
      "68928: this 3280, last 2276\n",
      "28672: this 3286, last 174\n",
      "44864: this 3287, last 1035\n",
      "12832: this 3288, last 2391\n",
      "04448: this 3289, last 553\n",
      "63392: this 3290, last 2557\n",
      "23072: this 3291, last 305\n",
      "53024: this 3292, last 1950\n",
      "08032: this 3293, last 2385\n",
      "57408: this 3294, last 1994\n",
      "15936: this 3295, last 2453\n",
      "42464: this 3299, last 2152\n",
      "01312: this 3300, last 2177\n",
      "30912: this 3301, last 2309\n",
      "71424: this 3302, last 2147\n",
      "13472: this 3303, last 1508\n",
      "11488: this 3304, last 2921\n",
      "67904: this 3306, last 2885\n",
      "58528: this 3307, last 1809\n",
      "54816: this 3309, last 2396\n",
      "44096: this 3310, last 1801\n",
      "01856: this 3311, last 388\n",
      "47072: this 3312, last 1230\n",
      "49536: this 3313, last 2352\n",
      "73472: this 3317, last 2249\n",
      "80096: this 3318, last 1180\n",
      "38624: this 3319, last 1193\n",
      "23168: this 3320, last 2998\n",
      "40928: this 3321, last 2534\n",
      "62816: this 3322, last 2578\n",
      "76032: this 3324, last 2419\n",
      "28064: this 3325, last 3165\n",
      "40864: this 3326, last 1256\n",
      "54528: this 3327, last 2593\n",
      "13536: this 3329, last 1872\n",
      "07488: this 3330, last 1906\n",
      "42528: this 3331, last 2271\n",
      "03296: this 3332, last 2369\n",
      "83712: this 3334, last 1123\n",
      "87872: this 3336, last 471\n",
      "48032: this 3338, last 2628\n",
      "78848: this 3339, last 811\n",
      "35232: this 3340, last 2516\n",
      "10112: this 3341, last 3113\n",
      "58272: this 3343, last 1152\n",
      "94496: this 3345, last 2062\n",
      "83616: this 3346, last 2521\n",
      "62752: this 3347, last 867\n",
      "94784: this 3350, last 712\n",
      "21184: this 3351, last 2919\n",
      "08768: this 3352, last 1818\n",
      "99104: this 3353, last 830\n",
      "94816: this 3354, last 269\n",
      "60768: this 3355, last 2700\n",
      "78656: this 3357, last 2430\n",
      "26848: this 3358, last 796\n",
      "82432: this 3359, last 3074\n",
      "97152: this 3360, last 1851\n",
      "48032: this 3363, last 3338\n",
      "24032: this 3366, last 3086\n",
      "25792: this 3368, last 1024\n",
      "24576: this 3370, last 1031\n",
      "45696: this 3371, last 1330\n",
      "86912: this 3372, last 2357\n",
      "54176: this 3373, last 1083\n",
      "89824: this 3374, last 725\n",
      "90656: this 3375, last 489\n",
      "54656: this 3376, last 2118\n",
      "47936: this 3378, last 1225\n",
      "75744: this 3379, last 2434\n",
      "76832: this 3381, last 2151\n",
      "22592: this 3383, last 1206\n",
      "74528: this 3385, last 1483\n",
      "51808: this 3386, last 2410\n",
      "73696: this 3387, last 2972\n",
      "67808: this 3390, last 3094\n",
      "59776: this 3392, last 817\n",
      "71392: this 3394, last 903\n",
      "35264: this 3396, last 2256\n",
      "91808: this 3397, last 2553\n",
      "63584: this 3398, last 1930\n",
      "48544: this 3400, last 2709\n",
      "41568: this 3405, last 1026\n",
      "80608: this 3406, last 2381\n",
      "31456: this 3407, last 788\n",
      "02048: this 3408, last 348\n",
      "81632: this 3409, last 3207\n",
      "36512: this 3410, last 1925\n",
      "42432: this 3411, last 3036\n",
      "77984: this 3412, last 2908\n",
      "59392: this 3413, last 3038\n",
      "64288: this 3414, last 3102\n",
      "98144: this 3417, last 3401\n",
      "56192: this 3418, last 1842\n",
      "91936: this 3421, last 2942\n",
      "04992: this 3422, last 1244\n",
      "87616: this 3423, last 1153\n",
      "03552: this 3425, last 1156\n",
      "69152: this 3426, last 1911\n",
      "83904: this 3427, last 1365\n",
      "65248: this 3429, last 2597\n",
      "80064: this 3430, last 219\n",
      "99584: this 3431, last 3273\n",
      "64704: this 3433, last 1334\n",
      "93536: this 3434, last 2858\n",
      "79616: this 3435, last 2730\n",
      "60576: this 3436, last 3279\n",
      "99712: this 3437, last 3097\n",
      "09856: this 3438, last 3061\n",
      "94784: this 3439, last 3350\n",
      "05696: this 3440, last 2263\n",
      "79712: this 3442, last 2933\n",
      "48416: this 3443, last 3152\n",
      "44704: this 3444, last 56\n",
      "19488: this 3446, last 2677\n",
      "68928: this 3448, last 3280\n",
      "32672: this 3449, last 2092\n",
      "77184: this 3450, last 1624\n",
      "55904: this 3453, last 466\n",
      "92416: this 3454, last 1941\n",
      "39968: this 3456, last 1270\n",
      "69376: this 3457, last 2542\n",
      "37472: this 3459, last 2924\n",
      "65312: this 3460, last 2250\n",
      "44832: this 3461, last 1636\n",
      "08384: this 3462, last 2835\n",
      "33792: this 3463, last 896\n",
      "55488: this 3464, last 2940\n",
      "26592: this 3465, last 3122\n",
      "67872: this 3466, last 1490\n",
      "12224: this 3467, last 726\n",
      "92832: this 3468, last 849\n",
      "34208: this 3469, last 1848\n",
      "70176: this 3470, last 2526\n",
      "80896: this 3471, last 2669\n",
      "70912: this 3472, last 2456\n",
      "04224: this 3474, last 2740\n",
      "46784: this 3475, last 3305\n",
      "21184: this 3476, last 3351\n",
      "56768: this 3477, last 3070\n",
      "39104: this 3478, last 2582\n",
      "42816: this 3479, last 2122\n",
      "99968: this 3480, last 540\n",
      "88608: this 3481, last 3180\n",
      "33056: this 3482, last 2911\n",
      "34048: this 3483, last 2689\n",
      "23232: this 3484, last 1949\n",
      "96352: this 3485, last 950\n",
      "83072: this 3486, last 1346\n",
      "72064: this 3487, last 2736\n",
      "59232: this 3488, last 1459\n",
      "60448: this 3489, last 2229\n",
      "96352: this 3490, last 3485\n",
      "64832: this 3491, last 2509\n",
      "93344: this 3492, last 2568\n",
      "50592: this 3493, last 3047\n",
      "68448: this 3494, last 2778\n",
      "72576: this 3495, last 1875\n",
      "25696: this 3496, last 3138\n",
      "58912: this 3497, last 2903\n",
      "74176: this 3498, last 1982\n",
      "41824: this 3499, last 1879\n",
      "24768: this 3502, last 3226\n",
      "62304: this 3503, last 3314\n",
      "82208: this 3505, last 1589\n",
      "16736: this 3507, last 1495\n",
      "09888: this 3508, last 1958\n",
      "96992: this 3509, last 2605\n",
      "44192: this 3510, last 1282\n",
      "58112: this 3511, last 2818\n",
      "89344: this 3512, last 2840\n",
      "65472: this 3513, last 2279\n",
      "68608: this 3514, last 1713\n",
      "15712: this 3515, last 2194\n",
      "09664: this 3517, last 3131\n",
      "97952: this 3518, last 2174\n",
      "93088: this 3519, last 1762\n",
      "66976: this 3520, last 1471\n",
      "22496: this 3521, last 1998\n",
      "30912: this 3522, last 3301\n",
      "02976: this 3523, last 2768\n",
      "87424: this 3524, last 2559\n",
      "81696: this 3525, last 2333\n",
      "60096: this 3526, last 628\n",
      "12576: this 3528, last 2831\n",
      "80704: this 3529, last 2317\n",
      "35872: this 3531, last 2978\n",
      "99904: this 3532, last 2964\n",
      "60832: this 3533, last 718\n",
      "80288: this 3534, last 1386\n",
      "31808: this 3535, last 1735\n",
      "12256: this 3537, last 2266\n",
      "55392: this 3539, last 1739\n",
      "08768: this 3540, last 3352\n",
      "47488: this 3541, last 3177\n",
      "02496: this 3542, last 1500\n",
      "43328: this 3543, last 3080\n",
      "54432: this 3544, last 814\n",
      "46144: this 3545, last 2797\n",
      "26624: this 3546, last 1830\n",
      "43744: this 3548, last 667\n",
      "34688: this 3550, last 731\n",
      "77088: this 3551, last 125\n",
      "16576: this 3552, last 2603\n",
      "35072: this 3557, last 1937\n",
      "86176: this 3558, last 1812\n",
      "00384: this 3559, last 2948\n",
      "02944: this 3561, last 134\n",
      "99264: this 3563, last 1433\n",
      "63424: this 3565, last 1284\n",
      "69984: this 3566, last 333\n",
      "32928: this 3567, last 3022\n",
      "74176: this 3569, last 3498\n",
      "80832: this 3570, last 2999\n",
      "51072: this 3571, last 495\n",
      "29184: this 3572, last 2872\n",
      "74432: this 3573, last 516\n",
      "19968: this 3574, last 3393\n",
      "13856: this 3575, last 2765\n",
      "49056: this 3576, last 2277\n",
      "73312: this 3577, last 3377\n",
      "10336: this 3578, last 2268\n",
      "30752: this 3580, last 2145\n",
      "22912: this 3581, last 3428\n",
      "70784: this 3582, last 2284\n",
      "54048: this 3584, last 2442\n",
      "26208: this 3585, last 3167\n",
      "34528: this 3588, last 3071\n",
      "20992: this 3589, last 668\n",
      "84288: this 3593, last 3027\n",
      "31072: this 3594, last 735\n",
      "07808: this 3597, last 1100\n",
      "93184: this 3598, last 2286\n",
      "69216: this 3599, last 558\n",
      "91776: this 3600, last 1546\n",
      "85376: this 3601, last 1057\n",
      "24352: this 3602, last 122\n",
      "82624: this 3604, last 780\n",
      "85952: this 3605, last 3171\n",
      "42912: this 3606, last 3006\n",
      "83584: this 3607, last 1900\n",
      "71072: this 3608, last 2962\n",
      "98848: this 3609, last 475\n",
      "84128: this 3610, last 1531\n",
      "86208: this 3611, last 947\n",
      "83296: this 3612, last 1703\n",
      "91072: this 3614, last 1643\n",
      "22528: this 3615, last 3011\n",
      "61248: this 3616, last 403\n",
      "34016: this 3617, last 391\n",
      "24672: this 3619, last 53\n",
      "31264: this 3620, last 449\n",
      "06944: this 3621, last 2454\n",
      "51168: this 3622, last 1614\n",
      "81664: this 3623, last 1975\n",
      "50336: this 3624, last 2115\n",
      "19968: this 3625, last 3574\n",
      "03968: this 3626, last 3224\n",
      "91936: this 3627, last 3421\n",
      "43808: this 3628, last 2876\n",
      "61216: this 3630, last 3231\n",
      "75296: this 3631, last 2321\n",
      "36576: this 3633, last 3095\n",
      "17184: this 3634, last 2503\n",
      "96384: this 3635, last 3500\n",
      "38688: this 3637, last 753\n",
      "46944: this 3638, last 1601\n",
      "34624: this 3640, last 2756\n",
      "65984: this 3641, last 3037\n",
      "13728: this 3642, last 1734\n",
      "11104: this 3643, last 1804\n",
      "62976: this 3644, last 1742\n",
      "54752: this 3645, last 2896\n",
      "25792: this 3646, last 3368\n",
      "63424: this 3647, last 3565\n",
      "70752: this 3648, last 754\n",
      "74048: this 3649, last 2383\n"
     ]
    },
    {
     "name": "stdout",
     "output_type": "stream",
     "text": [
      "59904: this 3652, last 2143\n",
      "29312: this 3653, last 1616\n",
      "06048: this 3654, last 433\n",
      "80384: this 3658, last 2440\n",
      "25056: this 3659, last 3296\n",
      "70496: this 3660, last 1022\n",
      "85856: this 3661, last 2761\n",
      "04672: this 3662, last 2626\n",
      "13536: this 3663, last 3329\n",
      "98816: this 3665, last 2331\n",
      "59456: this 3666, last 1387\n",
      "25152: this 3667, last 571\n",
      "57536: this 3668, last 2178\n",
      "99584: this 3669, last 3431\n",
      "47328: this 3670, last 1176\n",
      "41088: this 3671, last 1326\n",
      "75136: this 3672, last 3447\n",
      "74528: this 3673, last 3385\n",
      "83296: this 3675, last 3612\n",
      "39104: this 3679, last 3478\n",
      "16224: this 3682, last 1992\n",
      "52992: this 3683, last 3090\n",
      "22528: this 3684, last 3615\n",
      "01568: this 3685, last 2938\n",
      "79648: this 3686, last 3364\n",
      "62176: this 3687, last 127\n",
      "69632: this 3689, last 1702\n",
      "94208: this 3690, last 2703\n",
      "21728: this 3691, last 502\n",
      "19776: this 3692, last 2478\n",
      "32768: this 3693, last 2154\n",
      "44992: this 3694, last 3677\n",
      "24544: this 3695, last 1040\n",
      "49056: this 3699, last 3576\n",
      "15072: this 3700, last 2815\n",
      "09344: this 3702, last 3026\n",
      "00832: this 3703, last 2767\n",
      "80224: this 3705, last 2421\n",
      "10144: this 3706, last 1654\n",
      "20064: this 3708, last 2687\n",
      "17376: this 3709, last 861\n",
      "46496: this 3710, last 1501\n",
      "46656: this 3711, last 1435\n",
      "87072: this 3712, last 1874\n",
      "98336: this 3713, last 1283\n",
      "19904: this 3714, last 3004\n",
      "94336: this 3715, last 2355\n",
      "52576: this 3716, last 1876\n",
      "24992: this 3717, last 2649\n",
      "20256: this 3718, last 2624\n",
      "32064: this 3719, last 1569\n",
      "27808: this 3720, last 1058\n",
      "73568: this 3721, last 39\n",
      "17408: this 3723, last 1023\n",
      "27392: this 3724, last 2967\n",
      "20352: this 3725, last 1792\n",
      "31552: this 3726, last 976\n",
      "94304: this 3727, last 3342\n",
      "65312: this 3728, last 3460\n",
      "48448: this 3729, last 3613\n",
      "89024: this 3731, last 2566\n",
      "37568: this 3732, last 3323\n",
      "41344: this 3733, last 3023\n",
      "78496: this 3734, last 2636\n",
      "68256: this 3735, last 2339\n",
      "04416: this 3736, last 3048\n",
      "02592: this 3737, last 1371\n",
      "88896: this 3738, last 2014\n",
      "82144: this 3739, last 2495\n",
      "21856: this 3740, last 2916\n",
      "63296: this 3741, last 2086\n",
      "53632: this 3742, last 1731\n",
      "44576: this 3743, last 1434\n",
      "92544: this 3744, last 3579\n",
      "57728: this 3745, last 705\n",
      "94528: this 3748, last 3553\n",
      "85472: this 3749, last 2099\n",
      "19552: this 3750, last 1310\n",
      "99104: this 3752, last 3353\n",
      "37312: this 3753, last 2322\n",
      "69248: this 3754, last 2681\n",
      "02624: this 3755, last 2156\n",
      "55744: this 3756, last 855\n",
      "21664: this 3758, last 2630\n",
      "34976: this 3759, last 2555\n",
      "50976: this 3760, last 1013\n",
      "20736: this 3761, last 2247\n",
      "08832: this 3762, last 375\n",
      "34816: this 3763, last 2719\n",
      "47424: this 3764, last 339\n",
      "55136: this 3765, last 2210\n",
      "42176: this 3766, last 2109\n",
      "05856: this 3768, last 684\n",
      "77088: this 3771, last 3551\n",
      "75936: this 3772, last 3196\n",
      "06528: this 3773, last 322\n",
      "36672: this 3774, last 3255\n",
      "34368: this 3775, last 2701\n",
      "73568: this 3776, last 3721\n",
      "66336: this 3777, last 3298\n",
      "17408: this 3778, last 3723\n",
      "66496: this 3780, last 2960\n",
      "21376: this 3781, last 1331\n",
      "44032: this 3782, last 2953\n",
      "43904: this 3784, last 2077\n",
      "17664: this 3785, last 20\n",
      "75904: this 3786, last 1487\n",
      "48448: this 3787, last 3729\n",
      "21024: this 3788, last 3159\n",
      "59936: this 3789, last 1838\n",
      "15744: this 3790, last 3367\n",
      "85504: this 3791, last 2884\n",
      "31168: this 3792, last 106\n",
      "20224: this 3793, last 3211\n",
      "29856: this 3794, last 859\n",
      "16192: this 3796, last 605\n",
      "81024: this 3797, last 2980\n",
      "48448: this 3799, last 3787\n",
      "41024: this 3800, last 2955\n",
      "32224: this 3801, last 3257\n",
      "15648: this 3802, last 2618\n",
      "09344: this 3803, last 3702\n",
      "44576: this 3804, last 3743\n",
      "05408: this 3806, last 1276\n",
      "88256: this 3807, last 1281\n",
      "78848: this 3808, last 3339\n",
      "32032: this 3809, last 2688\n",
      "14144: this 3812, last 1763\n",
      "31072: this 3813, last 3594\n",
      "08608: this 3814, last 1955\n",
      "60832: this 3816, last 3533\n",
      "95744: this 3817, last 2838\n",
      "50592: this 3818, last 3493\n",
      "43936: this 3820, last 2794\n",
      "80832: this 3822, last 3570\n",
      "20736: this 3823, last 3761\n",
      "13248: this 3825, last 3189\n",
      "86848: this 3826, last 727\n",
      "09088: this 3828, last 3054\n",
      "97952: this 3829, last 3518\n",
      "15616: this 3830, last 1289\n",
      "24896: this 3831, last 2880\n",
      "01472: this 3832, last 3380\n",
      "42176: this 3833, last 3766\n",
      "17664: this 3835, last 3785\n",
      "82048: this 3837, last 3388\n",
      "00224: this 3838, last 1475\n",
      "59936: this 3839, last 3789\n",
      "15424: this 3840, last 75\n",
      "43584: this 3841, last 3160\n",
      "82176: this 3844, last 1680\n",
      "00512: this 3846, last 1536\n",
      "69664: this 3847, last 761\n",
      "67072: this 3848, last 2458\n",
      "64928: this 3850, last 3697\n",
      "37728: this 3851, last 3260\n",
      "28256: this 3852, last 637\n",
      "70368: this 3853, last 2646\n",
      "98272: this 3854, last 3091\n",
      "33856: this 3855, last 2772\n",
      "48736: this 3856, last 2085\n",
      "74752: this 3857, last 2481\n",
      "93216: this 3858, last 3420\n",
      "20544: this 3859, last 1858\n",
      "42944: this 3863, last 2106\n",
      "35616: this 3864, last 2877\n",
      "47744: this 3866, last 3163\n",
      "53664: this 3868, last 377\n",
      "26016: this 3869, last 2002\n",
      "10304: this 3872, last 2861\n",
      "07392: this 3873, last 1428\n",
      "41856: this 3875, last 1971\n",
      "33856: this 3876, last 3855\n",
      "59712: this 3877, last 2513\n",
      "63136: this 3878, last 1621\n",
      "63072: this 3880, last 2282\n",
      "82432: this 3881, last 3359\n",
      "01024: this 3882, last 1697\n",
      "29728: this 3884, last 3455\n",
      "99328: this 3885, last 2142\n",
      "88608: this 3886, last 3481\n",
      "19296: this 3887, last 1364\n",
      "22848: this 3888, last 1854\n",
      "55872: this 3889, last 3221\n",
      "34208: this 3890, last 3469\n",
      "03328: this 3891, last 3015\n",
      "52576: this 3892, last 3716\n",
      "78368: this 3893, last 2995\n",
      "64992: this 3894, last 3157\n",
      "64384: this 3895, last 3049\n",
      "40064: this 3896, last 2013\n",
      "29408: this 3897, last 679\n",
      "32384: this 3898, last 2817\n",
      "65216: this 3899, last 3059\n",
      "43424: this 3900, last 1944\n",
      "87648: this 3902, last 1163\n",
      "90144: this 3903, last 2022\n",
      "09728: this 3905, last 2121\n",
      "97568: this 3906, last 89\n",
      "71808: this 3908, last 2754\n",
      "97472: this 3909, last 3128\n",
      "11552: this 3910, last 2707\n",
      "59264: this 3912, last 2865\n",
      "00032: this 3913, last 2242\n",
      "25248: this 3914, last 2535\n",
      "34592: this 3915, last 1985\n",
      "19424: this 3917, last 2859\n",
      "66208: this 3919, last 1753\n",
      "14656: this 3921, last 2260\n",
      "80832: this 3922, last 3822\n",
      "03936: this 3923, last 2696\n",
      "44864: this 3924, last 3287\n",
      "10912: this 3925, last 2798\n",
      "40512: this 3926, last 826\n",
      "90624: this 3927, last 1732\n",
      "71072: this 3928, last 3608\n",
      "41888: this 3929, last 1581\n",
      "61984: this 3930, last 3451\n",
      "59104: this 3931, last 3836\n",
      "96928: this 3932, last 1716\n",
      "17824: this 3933, last 87\n",
      "19616: this 3934, last 3198\n",
      "68896: this 3935, last 3244\n",
      "74656: this 3936, last 334\n",
      "20672: this 3937, last 1227\n",
      "57504: this 3939, last 1748\n",
      "35072: this 3942, last 3557\n",
      "88896: this 3943, last 3738\n",
      "05824: this 3944, last 1126\n",
      "97568: this 3945, last 3906\n",
      "03328: this 3946, last 3891\n",
      "35616: this 3947, last 3864\n",
      "11968: this 3948, last 3077\n",
      "61632: this 3949, last 533\n",
      "34464: this 3950, last 2801\n",
      "67264: this 3951, last 3192\n",
      "27328: this 3952, last 1980\n",
      "27584: this 3953, last 55\n",
      "67136: this 3954, last 1145\n",
      "52288: this 3955, last 3201\n",
      "51328: this 3956, last 3384\n",
      "78368: this 3958, last 3893\n",
      "58912: this 3959, last 3497\n",
      "29152: this 3960, last 3798\n",
      "71072: this 3961, last 3928\n",
      "87264: this 3962, last 2214\n",
      "47648: this 3964, last 2374\n",
      "42432: this 3965, last 3411\n",
      "85312: this 3966, last 3051\n",
      "34368: this 3969, last 3775\n",
      "44096: this 3970, last 3310\n",
      "05216: this 3971, last 2487\n",
      "17952: this 3972, last 3335\n",
      "23296: this 3973, last 1212\n",
      "78304: this 3974, last 1412\n",
      "87584: this 3975, last 3395\n",
      "33984: this 3976, last 2198\n",
      "75904: this 3978, last 3786\n",
      "22016: this 3979, last 3399\n",
      "04448: this 3983, last 3289\n",
      "20832: this 3984, last 1147\n",
      "51552: this 3985, last 3365\n",
      "86272: this 3986, last 1179\n",
      "85248: this 3989, last 427\n",
      "82432: this 3991, last 3881\n",
      "68544: this 3992, last 2255\n",
      "90848: this 3994, last 3277\n",
      "28896: this 3996, last 1423\n",
      "97312: this 3997, last 2020\n",
      "53376: this 3998, last 1758\n",
      "50624: this 3999, last 3166\n",
      "02496: this 4000, last 3542\n",
      "56992: this 4002, last 115\n",
      "59904: this 4004, last 3652\n",
      "91552: this 4005, last 2226\n",
      "57312: this 4006, last 1394\n",
      "52448: this 4010, last 857\n",
      "68928: this 4011, last 3448\n",
      "39136: this 4012, last 972\n",
      "52768: this 4013, last 3281\n",
      "10752: this 4014, last 895\n",
      "16928: this 4015, last 316\n",
      "10272: this 4019, last 498\n",
      "29344: this 4020, last 3020\n",
      "92224: this 4021, last 2660\n",
      "24928: this 4022, last 1402\n",
      "85344: this 4023, last 1223\n",
      "24256: this 4024, last 3024\n",
      "26304: this 4025, last 2841\n",
      "99904: this 4026, last 3532\n",
      "07424: this 4028, last 2863\n",
      "11296: this 4029, last 1800\n",
      "52288: this 4030, last 3955\n",
      "72928: this 4031, last 1160\n",
      "45696: this 4032, last 3371\n",
      "60992: this 4035, last 1802\n",
      "63712: this 4036, last 3050\n",
      "79072: this 4038, last 3118\n",
      "71808: this 4039, last 3908\n",
      "10432: this 4040, last 1068\n",
      "55712: this 4041, last 2944\n",
      "87904: this 4042, last 3349\n",
      "95872: this 4043, last 1787\n",
      "06368: this 4044, last 2712\n",
      "32672: this 4047, last 3449\n",
      "56256: this 4048, last 159\n",
      "80544: this 4049, last 2560\n",
      "12032: this 4050, last 992\n",
      "92864: this 4052, last 2565\n",
      "77792: this 4053, last 2782\n",
      "68768: this 4054, last 3452\n",
      "35424: this 4055, last 321\n",
      "79744: this 4056, last 2011\n",
      "21408: this 4057, last 3031\n",
      "73664: this 4058, last 3187\n",
      "83456: this 4060, last 1579\n",
      "82592: this 4062, last 2262\n",
      "71296: this 4063, last 455\n",
      "46944: this 4064, last 3638\n",
      "32736: this 4065, last 3747\n",
      "04576: this 4066, last 603\n",
      "10592: this 4067, last 3184\n",
      "88256: this 4068, last 3807\n",
      "13664: this 4069, last 2164\n",
      "61248: this 4070, last 3616\n",
      "40608: this 4071, last 1527\n",
      "55776: this 4072, last 429\n",
      "40544: this 4075, last 2769\n",
      "57344: this 4076, last 1431\n",
      "88064: this 4078, last 1363\n",
      "13056: this 4079, last 926\n",
      "26848: this 4080, last 3358\n",
      "20416: this 4082, last 72\n",
      "58528: this 4083, last 3307\n",
      "28352: this 4084, last 2987\n",
      "81792: this 4085, last 1696\n",
      "02112: this 4086, last 275\n",
      "31744: this 4087, last 2044\n",
      "69472: this 4088, last 3968\n",
      "71008: this 4089, last 2425\n",
      "34752: this 4091, last 2527\n",
      "05184: this 4092, last 136\n",
      "18112: this 4093, last 1315\n",
      "50528: this 4094, last 3445\n",
      "41216: this 4095, last 2304\n",
      "20736: this 4096, last 3823\n",
      "55392: this 4097, last 3539\n",
      "96416: this 4098, last 3147\n",
      "76544: this 4100, last 1600\n",
      "06944: this 4101, last 3621\n",
      "84288: this 4102, last 3593\n",
      "33664: this 4103, last 2089\n",
      "57056: this 4104, last 1824\n",
      "71488: this 4105, last 4018\n",
      "29728: this 4106, last 3884\n",
      "92896: this 4107, last 2760\n",
      "16768: this 4108, last 3268\n",
      "99712: this 4109, last 3437\n",
      "81632: this 4110, last 3409\n",
      "89152: this 4111, last 2901\n",
      "07712: this 4113, last 3173\n",
      "27168: this 4114, last 2308\n",
      "29632: this 4115, last 2042\n",
      "65312: this 4116, last 3728\n",
      "89504: this 4117, last 233\n",
      "77472: this 4118, last 3264\n",
      "07168: this 4119, last 2032\n",
      "53216: this 4120, last 1620\n",
      "26592: this 4122, last 3465\n",
      "77184: this 4124, last 3450\n",
      "68384: this 4125, last 2812\n",
      "52384: this 4126, last 2269\n",
      "88768: this 4127, last 3114\n",
      "34304: this 4128, last 1789\n",
      "41216: this 4129, last 4095\n",
      "22208: this 4130, last 1385\n",
      "36736: this 4132, last 3182\n",
      "29888: this 4133, last 536\n",
      "56992: this 4134, last 4002\n",
      "16192: this 4135, last 3796\n",
      "53344: this 4137, last 1338\n",
      "37472: this 4138, last 3459\n",
      "96608: this 4139, last 2947\n"
     ]
    },
    {
     "name": "stdout",
     "output_type": "stream",
     "text": [
      "43392: this 4141, last 3516\n",
      "29664: this 4142, last 2196\n",
      "97952: this 4143, last 3829\n",
      "13088: this 4144, last 2349\n",
      "74976: this 4145, last 65\n",
      "50496: this 4146, last 3239\n",
      "06912: this 4147, last 2748\n",
      "70976: this 4148, last 2113\n",
      "79424: this 4149, last 1286\n",
      "96096: this 4150, last 3676\n",
      "94496: this 4151, last 3345\n",
      "47392: this 4152, last 874\n",
      "26304: this 4154, last 4025\n",
      "29312: this 4155, last 3653\n",
      "20672: this 4156, last 3937\n",
      "33504: this 4157, last 2764\n",
      "09632: this 4158, last 3297\n",
      "59488: this 4159, last 3212\n",
      "47008: this 4160, last 1292\n",
      "00288: this 4161, last 2305\n",
      "98656: this 4162, last 2556\n",
      "59968: this 4165, last 2157\n",
      "83232: this 4169, last 1540\n",
      "07744: this 4170, last 2623\n",
      "00224: this 4171, last 3838\n",
      "34528: this 4172, last 3588\n",
      "85344: this 4173, last 4023\n",
      "25856: this 4174, last 4045\n",
      "41888: this 4176, last 3929\n",
      "66176: this 4177, last 317\n",
      "83328: this 4178, last 1004\n",
      "27712: this 4179, last 1913\n",
      "83616: this 4180, last 3346\n",
      "98496: this 4181, last 3068\n",
      "10272: this 4182, last 4019\n",
      "67776: this 4183, last 48\n",
      "47104: this 4185, last 2360\n",
      "77344: this 4186, last 1657\n",
      "39328: this 4187, last 2853\n",
      "05664: this 4188, last 3362\n",
      "26496: this 4189, last 2364\n",
      "44384: this 4191, last 2596\n",
      "57728: this 4192, last 3745\n",
      "53504: this 4193, last 2399\n",
      "28032: this 4195, last 2531\n",
      "22272: this 4196, last 1164\n",
      "75584: this 4197, last 472\n",
      "01632: this 4198, last 350\n",
      "52768: this 4199, last 4013\n",
      "16256: this 4200, last 2844\n",
      "91456: this 4201, last 2507\n",
      "98112: this 4202, last 825\n",
      "64736: this 4203, last 3046\n",
      "31712: this 4206, last 496\n",
      "69248: this 4209, last 3754\n",
      "53408: this 4210, last 2957\n",
      "01088: this 4211, last 2749\n",
      "82656: this 4212, last 2040\n",
      "29728: this 4213, last 4106\n",
      "73792: this 4214, last 1682\n",
      "03328: this 4215, last 3946\n",
      "30848: this 4216, last 1037\n",
      "86016: this 4217, last 2265\n",
      "43872: this 4219, last 67\n",
      "13984: this 4220, last 2134\n",
      "31008: this 4222, last 3261\n",
      "46784: this 4223, last 3475\n",
      "15616: this 4224, last 3830\n",
      "59776: this 4225, last 3392\n",
      "13376: this 4226, last 4046\n",
      "40352: this 4227, last 2723\n",
      "08256: this 4228, last 2382\n",
      "14624: this 4229, last 3696\n",
      "85952: this 4230, last 3605\n",
      "62912: this 4231, last 1880\n",
      "43584: this 4232, last 3841\n",
      "91072: this 4233, last 3614\n",
      "98848: this 4234, last 3609\n",
      "74208: this 4236, last 2616\n",
      "19296: this 4237, last 3887\n",
      "76448: this 4238, last 2173\n",
      "63072: this 4239, last 3880\n",
      "42528: this 4240, last 3331\n",
      "61248: this 4241, last 4070\n",
      "14016: this 4242, last 2821\n",
      "69888: this 4243, last 3618\n",
      "04672: this 4244, last 3662\n",
      "38944: this 4246, last 485\n",
      "95168: this 4247, last 702\n",
      "73664: this 4248, last 4058\n",
      "98336: this 4249, last 3713\n",
      "36928: this 4251, last 3391\n",
      "17856: this 4252, last 657\n",
      "41568: this 4253, last 3405\n",
      "80736: this 4255, last 997\n",
      "12416: this 4256, last 2997\n",
      "54912: this 4257, last 2654\n",
      "15296: this 4258, last 2417\n",
      "52864: this 4260, last 2501\n",
      "53504: this 4261, last 4193\n",
      "34048: this 4262, last 3483\n",
      "46624: this 4263, last 2094\n",
      "04736: this 4264, last 942\n",
      "19904: this 4265, last 3714\n",
      "10464: this 4266, last 1974\n",
      "49888: this 4267, last 2367\n",
      "21984: this 4268, last 389\n",
      "49696: this 4269, last 2520\n",
      "20192: this 4270, last 4164\n",
      "40032: this 4271, last 1972\n",
      "16704: this 4272, last 2288\n",
      "76192: this 4273, last 3883\n",
      "44608: this 4274, last 3265\n",
      "56992: this 4275, last 4134\n",
      "56384: this 4277, last 1686\n",
      "10752: this 4278, last 4014\n",
      "07808: this 4279, last 3597\n",
      "41824: this 4280, last 3499\n",
      "48544: this 4281, last 3400\n",
      "65408: this 4282, last 2426\n",
      "42464: this 4283, last 3299\n",
      "15776: this 4284, last 2988\n",
      "10016: this 4285, last 3214\n",
      "28576: this 4286, last 913\n",
      "05312: this 4287, last 1963"
     ]
    },
    {
     "ename": "KeyboardInterrupt",
     "evalue": "",
     "output_type": "error",
     "traceback": [
      "\\u001b[0;31m---------------------------------------------------------------------------\\u001b[0m",
      "\\u001b[0;31mKeyboardInterrupt\\u001b[0m                         Traceback (most recent call last)",
      "\\u001b[0;32m/tmp/ipykernel_148697/2978064003.py\\u001b[0m in \\u001b[0;36m<module>\\u001b[0;34m\\u001b[0m\n\\u001b[1;32m      2\\u001b[0m \\u001b[0;32mfor\\u001b[0m \\u001b[0mi\\u001b[0m\\u001b[0;34m,\\u001b[0m \\u001b[0mlast5\\u001b[0m \\u001b[0;32min\\u001b[0m \\u001b[0menumerate\\u001b[0m\\u001b[0;34m(\\u001b[0m\\u001b[0mfs\\u001b[0m\\u001b[0;34m(\\u001b[0m\\u001b[0;36m10000\\u001b[0m\\u001b[0;34m)\\u001b[0m\\u001b[0;34m)\\u001b[0m\\u001b[0;34m:\\u001b[0m\\u001b[0;34m\\u001b[0m\\u001b[0;34m\\u001b[0m\\u001b[0m\n\\u001b[1;32m      3\\u001b[0m     \\u001b[0;32mif\\u001b[0m \\u001b[0mi\\u001b[0m \\u001b[0;34m>\\u001b[0m \\u001b[0;36m10\\u001b[0m \\u001b[0;32mand\\u001b[0m \\u001b[0mlast5\\u001b[0m \\u001b[0;32min\\u001b[0m \\u001b[0mlast5s\\u001b[0m\\u001b[0;34m:\\u001b[0m\\u001b[0;34m\\u001b[0m\\u001b[0;34m\\u001b[0m\\u001b[0m\n\\u001b[0;32m----> 4\\u001b[0;31m         \\u001b[0mprint\\u001b[0m\\u001b[0;34m(\\u001b[0m\\u001b[0;34mf'{last5}: this {i}, last {last5s[last5]}'\\u001b[0m\\u001b[0;34m)\\u001b[0m\\u001b[0;34m\\u001b[0m\\u001b[0;34m\\u001b[0m\\u001b[0m\n\\u001b[0m\\u001b[1;32m      5\\u001b[0m     \\u001b[0mlast5s\\u001b[0m\\u001b[0;34m[\\u001b[0m\\u001b[0mlast5\\u001b[0m\\u001b[0;34m]\\u001b[0m \\u001b[0;34m=\\u001b[0m \\u001b[0mi\\u001b[0m\\u001b[0;34m\\u001b[0m\\u001b[0;34m\\u001b[0m\\u001b[0m\n",
      "\\u001b[0;32m~/.cache/pypoetry/virtualenvs/euler-JLPQkXOE-py3.8/lib/python3.8/site-packages/ipykernel/iostream.py\\u001b[0m in \\u001b[0;36mwrite\\u001b[0;34m(self, string)\\u001b[0m\n\\u001b[1;32m    517\\u001b[0m             \\u001b[0mis_child\\u001b[0m \\u001b[0;34m=\\u001b[0m \\u001b[0;34m(\\u001b[0m\\u001b[0;32mnot\\u001b[0m \\u001b[0mself\\u001b[0m\\u001b[0;34m.\\u001b[0m\\u001b[0m_is_master_process\\u001b[0m\\u001b[0;34m(\\u001b[0m\\u001b[0;34m)\\u001b[0m\\u001b[0;34m)\\u001b[0m\\u001b[0;34m\\u001b[0m\\u001b[0;34m\\u001b[0m\\u001b[0m\n\\u001b[1;32m    518\\u001b[0m             \\u001b[0;31m# only touch the buffer in the IO thread to avoid races\\u001b[0m\\u001b[0;34m\\u001b[0m\\u001b[0;34m\\u001b[0m\\u001b[0;34m\\u001b[0m\\u001b[0m\n\\u001b[0;32m--> 519\\u001b[0;31m             \\u001b[0mself\\u001b[0m\\u001b[0;34m.\\u001b[0m\\u001b[0mpub_thread\\u001b[0m\\u001b[0;34m.\\u001b[0m\\u001b[0mschedule\\u001b[0m\\u001b[0;34m(\\u001b[0m\\u001b[0;32mlambda\\u001b[0m\\u001b[0;34m:\\u001b[0m \\u001b[0mself\\u001b[0m\\u001b[0;34m.\\u001b[0m\\u001b[0m_buffer\\u001b[0m\\u001b[0;34m.\\u001b[0m\\u001b[0mwrite\\u001b[0m\\u001b[0;34m(\\u001b[0m\\u001b[0mstring\\u001b[0m\\u001b[0;34m)\\u001b[0m\\u001b[0;34m)\\u001b[0m\\u001b[0;34m\\u001b[0m\\u001b[0;34m\\u001b[0m\\u001b[0m\n\\u001b[0m\\u001b[1;32m    520\\u001b[0m             \\u001b[0;32mif\\u001b[0m \\u001b[0mis_child\\u001b[0m\\u001b[0;34m:\\u001b[0m\\u001b[0;34m\\u001b[0m\\u001b[0;34m\\u001b[0m\\u001b[0m\n\\u001b[1;32m    521\\u001b[0m                 \\u001b[0;31m# mp.Pool cannot be trusted to flush promptly (or ever),\\u001b[0m\\u001b[0;34m\\u001b[0m\\u001b[0;34m\\u001b[0m\\u001b[0;34m\\u001b[0m\\u001b[0m\n",
      "\\u001b[0;32m~/.cache/pypoetry/virtualenvs/euler-JLPQkXOE-py3.8/lib/python3.8/site-packages/ipykernel/iostream.py\\u001b[0m in \\u001b[0;36mschedule\\u001b[0;34m(self, f)\\u001b[0m\n\\u001b[1;32m    212\\u001b[0m             \\u001b[0mself\\u001b[0m\\u001b[0;34m.\\u001b[0m\\u001b[0m_events\\u001b[0m\\u001b[0;34m.\\u001b[0m\\u001b[0mappend\\u001b[0m\\u001b[0;34m(\\u001b[0m\\u001b[0mf\\u001b[0m\\u001b[0;34m)\\u001b[0m\\u001b[0;34m\\u001b[0m\\u001b[0;34m\\u001b[0m\\u001b[0m\n\\u001b[1;32m    213\\u001b[0m             \\u001b[0;31m# wake event thread (message content is ignored)\\u001b[0m\\u001b[0;34m\\u001b[0m\\u001b[0;34m\\u001b[0m\\u001b[0;34m\\u001b[0m\\u001b[0m\n\\u001b[0;32m--> 214\\u001b[0;31m             \\u001b[0mself\\u001b[0m\\u001b[0;34m.\\u001b[0m\\u001b[0m_event_pipe\\u001b[0m\\u001b[0;34m.\\u001b[0m\\u001b[0msend\\u001b[0m\\u001b[0;34m(\\u001b[0m\\u001b[0;34mb''\\u001b[0m\\u001b[0;34m)\\u001b[0m\\u001b[0;34m\\u001b[0m\\u001b[0;34m\\u001b[0m\\u001b[0m\n\\u001b[0m\\u001b[1;32m    215\\u001b[0m         \\u001b[0;32melse\\u001b[0m\\u001b[0;34m:\\u001b[0m\\u001b[0;34m\\u001b[0m\\u001b[0;34m\\u001b[0m\\u001b[0m\n\\u001b[1;32m    216\\u001b[0m             \\u001b[0mf\\u001b[0m\\u001b[0;34m(\\u001b[0m\\u001b[0;34m)\\u001b[0m\\u001b[0;34m\\u001b[0m\\u001b[0;34m\\u001b[0m\\u001b[0m\n",
      "\\u001b[0;32m~/.cache/pypoetry/virtualenvs/euler-JLPQkXOE-py3.8/lib/python3.8/site-packages/zmq/sugar/socket.py\\u001b[0m in \\u001b[0;36msend\\u001b[0;34m(self, data, flags, copy, track, routing_id, group)\\u001b[0m\n\\u001b[1;32m    539\\u001b[0m                 )\n\\u001b[1;32m    540\\u001b[0m             \\u001b[0mdata\\u001b[0m\\u001b[0;34m.\\u001b[0m\\u001b[0mgroup\\u001b[0m \\u001b[0;34m=\\u001b[0m \\u001b[0mgroup\\u001b[0m\\u001b[0;34m\\u001b[0m\\u001b[0;34m\\u001b[0m\\u001b[0m\n\\u001b[0;32m--> 541\\u001b[0;31m         \\u001b[0;32mreturn\\u001b[0m \\u001b[0msuper\\u001b[0m\\u001b[0;34m(\\u001b[0m\\u001b[0mSocket\\u001b[0m\\u001b[0;34m,\\u001b[0m \\u001b[0mself\\u001b[0m\\u001b[0;34m)\\u001b[0m\\u001b[0;34m.\\u001b[0m\\u001b[0msend\\u001b[0m\\u001b[0;34m(\\u001b[0m\\u001b[0mdata\\u001b[0m\\u001b[0;34m,\\u001b[0m \\u001b[0mflags\\u001b[0m\\u001b[0;34m=\\u001b[0m\\u001b[0mflags\\u001b[0m\\u001b[0;34m,\\u001b[0m \\u001b[0mcopy\\u001b[0m\\u001b[0;34m=\\u001b[0m\\u001b[0mcopy\\u001b[0m\\u001b[0;34m,\\u001b[0m \\u001b[0mtrack\\u001b[0m\\u001b[0;34m=\\u001b[0m\\u001b[0mtrack\\u001b[0m\\u001b[0;34m)\\u001b[0m\\u001b[0;34m\\u001b[0m\\u001b[0;34m\\u001b[0m\\u001b[0m\n\\u001b[0m\\u001b[1;32m    542\\u001b[0m \\u001b[0;34m\\u001b[0m\\u001b[0m\n\\u001b[1;32m    543\\u001b[0m     \\u001b[0;32mdef\\u001b[0m \\u001b[0msend_multipart\\u001b[0m\\u001b[0;34m(\\u001b[0m\\u001b[0mself\\u001b[0m\\u001b[0;34m,\\u001b[0m \\u001b[0mmsg_parts\\u001b[0m\\u001b[0;34m,\\u001b[0m \\u001b[0mflags\\u001b[0m\\u001b[0;34m=\\u001b[0m\\u001b[0;36m0\\u001b[0m\\u001b[0;34m,\\u001b[0m \\u001b[0mcopy\\u001b[0m\\u001b[0;34m=\\u001b[0m\\u001b[0;32mTrue\\u001b[0m\\u001b[0;34m,\\u001b[0m \\u001b[0mtrack\\u001b[0m\\u001b[0;34m=\\u001b[0m\\u001b[0;32mFalse\\u001b[0m\\u001b[0;34m,\\u001b[0m \\u001b[0;34m**\\u001b[0m\\u001b[0mkwargs\\u001b[0m\\u001b[0;34m)\\u001b[0m\\u001b[0;34m:\\u001b[0m\\u001b[0;34m\\u001b[0m\\u001b[0;34m\\u001b[0m\\u001b[0m\n",
      "\\u001b[0;32mzmq/backend/cython/socket.pyx\\u001b[0m in \\u001b[0;36mzmq.backend.cython.socket.Socket.send\\u001b[0;34m()\\u001b[0m\n",
      "\\u001b[0;32mzmq/backend/cython/socket.pyx\\u001b[0m in \\u001b[0;36mzmq.backend.cython.socket.Socket.send\\u001b[0;34m()\\u001b[0m\n",
      "\\u001b[0;32mzmq/backend/cython/socket.pyx\\u001b[0m in \\u001b[0;36mzmq.backend.cython.socket._send_copy\\u001b[0;34m()\\u001b[0m\n",
      "\\u001b[0;32m~/.cache/pypoetry/virtualenvs/euler-JLPQkXOE-py3.8/lib/python3.8/site-packages/zmq/backend/cython/checkrc.pxd\\u001b[0m in \\u001b[0;36mzmq.backend.cython.checkrc._check_rc\\u001b[0;34m()\\u001b[0m\n",
      "\\u001b[0;31mKeyboardInterrupt\\u001b[0m: "
     ]
    }
   ],
   "source": [
    "last5s = {}\n",
    "for i, last5 in enumerate(fs(10000)):\n",
    "    if i > 10 and last5 in last5s:\n",
    "        print(f'{last5}: this {i}, last {last5s[last5]}')\n",
    "    last5s[last5] = i"
   ]
  },
  {
   "cell_type": "code",
   "execution_count": 26,
   "id": "e2a5fd83",
   "metadata": {},
   "outputs": [
    {
     "name": "stdout",
     "output_type": "stream",
     "text": [
      "1 1\n",
      "10 36288\n",
      "100 16864\n",
      "1000 53472\n",
      "10000 79008\n"
     ]
    }
   ],
   "source": [
    "for i in range(5):\n",
    "    print(10**i, f(util.factorial(10**i)))"
   ]
  },
  {
   "cell_type": "code",
   "execution_count": 44,
   "id": "faaa716b",
   "metadata": {},
   "outputs": [
    {
     "name": "stdout",
     "output_type": "stream",
     "text": [
      "CPU times: user 25.7 s, sys: 0 ns, total: 25.7 s\n",
      "Wall time: 25.7 s\n"
     ]
    }
   ],
   "source": [
    "%%time\n",
    "\n",
    "for i in range(1_000_000_000):\n",
    "    pass"
   ]
  },
  {
   "cell_type": "code",
   "execution_count": 6,
   "id": "d6f69ccf",
   "metadata": {},
   "outputs": [],
   "source": [
    "from functools import lru_cache\n",
    "\n",
    "@lru_cache(maxsize=None)\n",
    "def f(n, last=5):\n",
    "    return int(str(n).rstrip('0')[-last:] or '0')"
   ]
  },
  {
   "cell_type": "code",
   "execution_count": 7,
   "id": "55ffcd47",
   "metadata": {},
   "outputs": [],
   "source": [
    "def slow_last5_fac(n, start=(1, 1), fn=None):\n",
    "    last5, lasti = start\n",
    "    for i in range(lasti, n+1):\n",
    "        j = last5 * i\n",
    "        if fn:\n",
    "            j = fn(j)\n",
    "        last5 = f(j, last=10)\n",
    "    return f(last5, last=5)"
   ]
  },
  {
   "cell_type": "code",
   "execution_count": 151,
   "id": "6bf6437a",
   "metadata": {},
   "outputs": [
    {
     "data": {
      "text/plain": [
       "74528"
      ]
     },
     "execution_count": 151,
     "metadata": {},
     "output_type": "execute_result"
    }
   ],
   "source": [
    "slow_last5_fac(20015)"
   ]
  },
  {
   "cell_type": "code",
   "execution_count": 60,
   "id": "9ed8fada",
   "metadata": {},
   "outputs": [
    {
     "data": {
      "text/plain": [
       "80352"
      ]
     },
     "execution_count": 60,
     "metadata": {},
     "output_type": "execute_result"
    }
   ],
   "source": [
    "slow_last5_fac(20014)"
   ]
  },
  {
   "cell_type": "code",
   "execution_count": 61,
   "id": "778bec26",
   "metadata": {},
   "outputs": [
    {
     "data": {
      "text/plain": [
       "1608245280"
      ]
     },
     "execution_count": 61,
     "metadata": {},
     "output_type": "execute_result"
    }
   ],
   "source": [
    "80352*20015"
   ]
  },
  {
   "cell_type": "code",
   "execution_count": 63,
   "id": "a189b2e3",
   "metadata": {},
   "outputs": [
    {
     "data": {
      "text/plain": [
       "3609745280"
      ]
     },
     "execution_count": 63,
     "metadata": {},
     "output_type": "execute_result"
    }
   ],
   "source": [
    "180352*20015"
   ]
  },
  {
   "cell_type": "code",
   "execution_count": 144,
   "id": "7611e06a",
   "metadata": {},
   "outputs": [
    {
     "data": {
      "text/plain": [
       "Counter({2: 9, 5: 5})"
      ]
     },
     "execution_count": 144,
     "metadata": {},
     "output_type": "execute_result"
    }
   ],
   "source": [
    "from collections import Counter\n",
    "\n",
    "Counter(util.prime_factors(1600000))"
   ]
  },
  {
   "cell_type": "code",
   "execution_count": 145,
   "id": "5ec6b8b1",
   "metadata": {},
   "outputs": [
    {
     "data": {
      "text/plain": [
       "Counter({2: 9, 5: 9})"
      ]
     },
     "execution_count": 145,
     "metadata": {},
     "output_type": "execute_result"
    }
   ],
   "source": [
    "Counter(util.prime_factors(1000000000))"
   ]
  },
  {
   "cell_type": "code",
   "execution_count": 146,
   "id": "c1e4802d",
   "metadata": {},
   "outputs": [
    {
     "data": {
      "text/plain": [
       "Counter({2: 9, 5: 6})"
      ]
     },
     "execution_count": 146,
     "metadata": {},
     "output_type": "execute_result"
    }
   ],
   "source": [
    "Counter(util.prime_factors(8000000))"
   ]
  },
  {
   "cell_type": "code",
   "execution_count": 148,
   "id": "e8789541",
   "metadata": {},
   "outputs": [
    {
     "data": {
      "text/plain": [
       "Counter({2: 9, 5: 7})"
      ]
     },
     "execution_count": 148,
     "metadata": {},
     "output_type": "execute_result"
    }
   ],
   "source": [
    "Counter(util.prime_factors(40000000))"
   ]
  },
  {
   "cell_type": "code",
   "execution_count": 147,
   "id": "8e2b517b",
   "metadata": {},
   "outputs": [
    {
     "data": {
      "text/plain": [
       "Counter({2: 4, 5: 5, 229: 1})"
      ]
     },
     "execution_count": 147,
     "metadata": {},
     "output_type": "execute_result"
    }
   ],
   "source": [
    "Counter(util.prime_factors(11450000))"
   ]
  },
  {
   "cell_type": "code",
   "execution_count": 162,
   "id": "7f389aa7",
   "metadata": {},
   "outputs": [
    {
     "data": {
      "text/plain": [
       "Counter({2: 12, 5: 12})"
      ]
     },
     "execution_count": 162,
     "metadata": {},
     "output_type": "execute_result"
    }
   ],
   "source": [
    "Counter(util.prime_factors(bound))"
   ]
  },
  {
   "cell_type": "code",
   "execution_count": 7,
   "id": "f4ff1689",
   "metadata": {},
   "outputs": [
    {
     "name": "stdout",
     "output_type": "stream",
     "text": [
      "0 4096 20736\n",
      "1 20480 53376\n",
      "2 102400 576\n",
      "3 512000 36576\n",
      "4 2560000 16576\n"
     ]
    }
   ],
   "source": [
    "for n in range(5):\n",
    "    i = 2**12*5**n\n",
    "    print(n, i, slow_last5_fac(i))"
   ]
  },
  {
   "cell_type": "code",
   "execution_count": 34,
   "id": "9954570f",
   "metadata": {},
   "outputs": [
    {
     "name": "stdout",
     "output_type": "stream",
     "text": [
      "0 4 24\n",
      "1 20 17664\n",
      "2 100 16864\n",
      "3 500 12864\n",
      "4 2500 92864\n",
      "5 12500 92864\n",
      "6 62500 92864\n"
     ]
    }
   ],
   "source": [
    "for n in range(7):\n",
    "    i = 2**2*5**n\n",
    "    #j = util.factorial(i)\n",
    "    print(n, i, slow_last5_fac(i))"
   ]
  },
  {
   "cell_type": "code",
   "execution_count": null,
   "id": "9e219f11",
   "metadata": {},
   "outputs": [],
   "source": [
    "for n in range(6):\n",
    "    i = 3*2**2*5**n\n",
    "    j = util.factorial(i)\n",
    "    print(n, i, f(j, last=10), slow_last5_fac(i))"
   ]
  },
  {
   "cell_type": "code",
   "execution_count": 80,
   "id": "9f6708c6",
   "metadata": {},
   "outputs": [],
   "source": [
    "import math\n",
    "\n",
    "def primes_in_fac(n, p):\n",
    "    maxk = int(math.floor(math.log(n, p)))\n",
    "    return int(sum(n//(p**k) for k in range(1, maxk+1)))"
   ]
  },
  {
   "cell_type": "code",
   "execution_count": 82,
   "id": "ee472295",
   "metadata": {},
   "outputs": [
    {
     "data": {
      "text/plain": [
       "3124"
      ]
     },
     "execution_count": 82,
     "metadata": {},
     "output_type": "execute_result"
    }
   ],
   "source": [
    "primes_in_fac(12500, 5)"
   ]
  },
  {
   "cell_type": "code",
   "execution_count": 83,
   "id": "a94291cc",
   "metadata": {},
   "outputs": [
    {
     "data": {
      "text/plain": [
       "999999999987"
      ]
     },
     "execution_count": 83,
     "metadata": {},
     "output_type": "execute_result"
    }
   ],
   "source": [
    "primes_in_fac(1_000_000_000_000, 2)"
   ]
  },
  {
   "cell_type": "code",
   "execution_count": 84,
   "id": "84d879e6",
   "metadata": {},
   "outputs": [
    {
     "data": {
      "text/plain": [
       "249999999997"
      ]
     },
     "execution_count": 84,
     "metadata": {},
     "output_type": "execute_result"
    }
   ],
   "source": [
    "primes_in_fac(1_000_000_000_000, 5)"
   ]
  },
  {
   "cell_type": "code",
   "execution_count": 40,
   "id": "89e0f37c",
   "metadata": {},
   "outputs": [
    {
     "data": {
      "text/plain": [
       "17"
      ]
     },
     "execution_count": 40,
     "metadata": {},
     "output_type": "execute_result"
    }
   ],
   "source": [
    "int(math.log(10**12, 5))"
   ]
  },
  {
   "cell_type": "code",
   "execution_count": 190,
   "id": "19215aa3",
   "metadata": {},
   "outputs": [
    {
     "data": {
      "text/plain": [
       "24"
      ]
     },
     "execution_count": 190,
     "metadata": {},
     "output_type": "execute_result"
    }
   ],
   "source": [
    "f(util.factorial(4))"
   ]
  },
  {
   "cell_type": "code",
   "execution_count": 191,
   "id": "995e9149",
   "metadata": {},
   "outputs": [
    {
     "data": {
      "text/plain": [
       "92864"
      ]
     },
     "execution_count": 191,
     "metadata": {},
     "output_type": "execute_result"
    }
   ],
   "source": [
    "f(util.factorial(4*5**4))"
   ]
  },
  {
   "cell_type": "code",
   "execution_count": 192,
   "id": "c93d4ec5",
   "metadata": {},
   "outputs": [
    {
     "data": {
      "text/plain": [
       "92864"
      ]
     },
     "execution_count": 192,
     "metadata": {},
     "output_type": "execute_result"
    }
   ],
   "source": [
    "f(util.factorial(4*5**5))"
   ]
  },
  {
   "cell_type": "code",
   "execution_count": 278,
   "id": "162376ee",
   "metadata": {},
   "outputs": [
    {
     "data": {
      "text/plain": [
       "24"
      ]
     },
     "execution_count": 278,
     "metadata": {},
     "output_type": "execute_result"
    }
   ],
   "source": [
    "from collections import Counter\n",
    "\n",
    "util.product(Counter(range(1,5)))"
   ]
  },
  {
   "cell_type": "code",
   "execution_count": 298,
   "id": "7ba74d23",
   "metadata": {},
   "outputs": [
    {
     "name": "stdout",
     "output_type": "stream",
     "text": [
      "prev: 49031, next: 59107, i: 126080, prev i: 4925, p: 121155\n",
      "CPU times: user 353 ms, sys: 4.01 ms, total: 357 ms\n",
      "Wall time: 356 ms\n"
     ]
    }
   ],
   "source": [
    "%%time\n",
    "seen = {}\n",
    "prev = 1\n",
    "bound = 1_000_000_000_000\n",
    "hist = []\n",
    "\n",
    "def remove_twos_and_fives(n):\n",
    "    ps = [p for p in util.prime_factors(n) if p not in (2, 5)]\n",
    "    return util.product(ps)\n",
    "    \n",
    "for i in range(1, 200_000):\n",
    "    ikey = f(remove_twos_and_fives(i))\n",
    "    next = f(prev * ikey)\n",
    "    seenkey = (prev, next, ikey)\n",
    "    #if f(next) == 38144 and f(next*(i+1)) == 38144 and f(next*(i+2)) == 38144*2:\n",
    "    #    print(i, ikey, prev, next)\n",
    "    if seenkey in seen:\n",
    "        period = i - seen[seenkey]\n",
    "        if period >= 100_000:\n",
    "            print(f'prev: {prev}, next: {next}, i: {i}, prev i: {i - period}, p: {period}')\n",
    "            start = i\n",
    "            break\n",
    "            \n",
    "    seen[seenkey] = i\n",
    "    hist.append((prev, next))\n",
    "    prev = next"
   ]
  },
  {
   "cell_type": "code",
   "execution_count": 280,
   "id": "b4d40f5d",
   "metadata": {},
   "outputs": [
    {
     "data": {
      "text/plain": [
       "420270"
      ]
     },
     "execution_count": 280,
     "metadata": {},
     "output_type": "execute_result"
    }
   ],
   "source": [
    "remove_twos_and_fives(126081)"
   ]
  },
  {
   "cell_type": "code",
   "execution_count": 126,
   "id": "5b4b1990",
   "metadata": {},
   "outputs": [
    {
     "data": {
      "text/plain": [
       "59107"
      ]
     },
     "execution_count": 126,
     "metadata": {},
     "output_type": "execute_result"
    }
   ],
   "source": [
    "f(49031*remove_twos_and_fives(126080))"
   ]
  },
  {
   "cell_type": "code",
   "execution_count": 133,
   "id": "1b1bbc29",
   "metadata": {},
   "outputs": [
    {
     "data": {
      "text/plain": [
       "94557"
      ]
     },
     "execution_count": 133,
     "metadata": {},
     "output_type": "execute_result"
    }
   ],
   "source": [
    "primes_in_fac(126080, 2) - primes_in_fac(126080, 5) "
   ]
  },
  {
   "cell_type": "code",
   "execution_count": 145,
   "id": "8e108e6e",
   "metadata": {},
   "outputs": [
    {
     "data": {
      "text/plain": [
       "57312"
      ]
     },
     "execution_count": 145,
     "metadata": {},
     "output_type": "execute_result"
    }
   ],
   "source": [
    "f(59107*remove_twos_and_fives(163650)*2**94556)"
   ]
  },
  {
   "cell_type": "code",
   "execution_count": 50,
   "id": "9af1d6c0",
   "metadata": {},
   "outputs": [
    {
     "data": {
      "text/plain": [
       "39"
      ]
     },
     "execution_count": 50,
     "metadata": {},
     "output_type": "execute_result"
    }
   ],
   "source": [
    "remove_twos_and_fives(1248)"
   ]
  },
  {
   "cell_type": "code",
   "execution_count": 143,
   "id": "ab40bdd4",
   "metadata": {},
   "outputs": [
    {
     "data": {
      "text/plain": [
       "3450000"
      ]
     },
     "execution_count": 143,
     "metadata": {},
     "output_type": "execute_result"
    }
   ],
   "source": [
    "11450000-8000000"
   ]
  },
  {
   "cell_type": "code",
   "execution_count": 141,
   "id": "2a5e272c",
   "metadata": {},
   "outputs": [
    {
     "data": {
      "text/plain": [
       "6400000"
      ]
     },
     "execution_count": 141,
     "metadata": {},
     "output_type": "execute_result"
    }
   ],
   "source": [
    "8000000-1600000"
   ]
  },
  {
   "cell_type": "code",
   "execution_count": 136,
   "id": "78ce21b5",
   "metadata": {},
   "outputs": [
    {
     "data": {
      "text/plain": [
       "14131250"
      ]
     },
     "execution_count": 136,
     "metadata": {},
     "output_type": "execute_result"
    }
   ],
   "source": [
    "13465625-12800000+13465625"
   ]
  },
  {
   "cell_type": "code",
   "execution_count": 130,
   "id": "41ebad89",
   "metadata": {},
   "outputs": [],
   "source": [
    "def find_diff(n):\n",
    "    for i in range(10000):\n",
    "        ix = f(i, last=n)\n",
    "        for j in range(1000):\n",
    "            jx = f(j, last=n)\n",
    "            l = f(i*j, last=2)\n",
    "            r = f(ix*jx, last=2)\n",
    "            if l!=r:\n",
    "                print(i, j, i*j)\n",
    "                print('i:', i, 'j:', j, 'x:', l)\n",
    "                print('ix:', ix, 'jx:', jx, 'x:', r)\n",
    "                return"
   ]
  },
  {
   "cell_type": "code",
   "execution_count": 139,
   "id": "ba63fd0b",
   "metadata": {},
   "outputs": [
    {
     "data": {
      "text/plain": [
       "990"
      ]
     },
     "execution_count": 139,
     "metadata": {},
     "output_type": "execute_result"
    }
   ],
   "source": [
    "22*45"
   ]
  },
  {
   "cell_type": "code",
   "execution_count": 131,
   "id": "d1ca9b21",
   "metadata": {},
   "outputs": [
    {
     "name": "stdout",
     "output_type": "stream",
     "text": [
      "2 105 210\n",
      "i: 2 j: 105 x: 21\n",
      "ix: 2 jx: 5 x: 1\n"
     ]
    }
   ],
   "source": [
    "find_diff(2)"
   ]
  },
  {
   "cell_type": "code",
   "execution_count": 134,
   "id": "4cc0bad8",
   "metadata": {},
   "outputs": [
    {
     "name": "stdout",
     "output_type": "stream",
     "text": [
      "1004 25 25100\n",
      "i: 1004 j: 25 x: 51\n",
      "ix: 4 jx: 25 x: 1\n"
     ]
    }
   ],
   "source": [
    "find_diff(3)"
   ]
  },
  {
   "cell_type": "code",
   "execution_count": 133,
   "id": "23e2f5c3",
   "metadata": {},
   "outputs": [],
   "source": [
    "find_diff(4)"
   ]
  },
  {
   "cell_type": "code",
   "execution_count": 100,
   "id": "7884c4ae",
   "metadata": {},
   "outputs": [
    {
     "data": {
      "text/plain": [
       "2095761575533944624425040153974619399782400000"
      ]
     },
     "execution_count": 100,
     "metadata": {},
     "output_type": "execute_result"
    }
   ],
   "source": [
    "12800000*6099464192*12800001*12800002*12800003*12800004"
   ]
  },
  {
   "cell_type": "code",
   "execution_count": 99,
   "id": "30156dc9",
   "metadata": {},
   "outputs": [
    {
     "data": {
      "text/plain": [
       "3180970934997882996519300567193668519782400000"
      ]
     },
     "execution_count": 99,
     "metadata": {},
     "output_type": "execute_result"
    }
   ],
   "source": [
    "13465625*7185000448*13465626*13465627*13465628*13465629"
   ]
  },
  {
   "cell_type": "code",
   "execution_count": 101,
   "id": "352ab623",
   "metadata": {},
   "outputs": [
    {
     "data": {
      "text/plain": [
       "665625"
      ]
     },
     "execution_count": 101,
     "metadata": {},
     "output_type": "execute_result"
    }
   ],
   "source": [
    "13465625-12800000"
   ]
  },
  {
   "cell_type": "code",
   "execution_count": 111,
   "id": "54fc77ea",
   "metadata": {},
   "outputs": [
    {
     "data": {
      "text/plain": [
       "5325000"
      ]
     },
     "execution_count": 111,
     "metadata": {},
     "output_type": "execute_result"
    }
   ],
   "source": [
    "665625*8"
   ]
  },
  {
   "cell_type": "code",
   "execution_count": 102,
   "id": "68939613",
   "metadata": {},
   "outputs": [
    {
     "data": {
      "text/plain": [
       "5690625"
      ]
     },
     "execution_count": 102,
     "metadata": {},
     "output_type": "execute_result"
    }
   ],
   "source": [
    "19156250-13465625"
   ]
  },
  {
   "cell_type": "code",
   "execution_count": 162,
   "id": "d76fb0c7",
   "metadata": {},
   "outputs": [
    {
     "data": {
      "text/plain": [
       "4925"
      ]
     },
     "execution_count": 162,
     "metadata": {},
     "output_type": "execute_result"
    }
   ],
   "source": [
    "i-period"
   ]
  },
  {
   "cell_type": "code",
   "execution_count": 339,
   "id": "b63c1eef",
   "metadata": {},
   "outputs": [],
   "source": [
    "bound = 1_000_000_000_000\n",
    "start = 126080 - period\n",
    "\n",
    "def fast_last5_fac(n):\n",
    "    if n < start:\n",
    "        return slow_last5_fac(n)\n",
    "    twos = primes_in_fac(n, 2)\n",
    "    fives = primes_in_fac(n, 5)\n",
    "    print(prev, start)\n",
    "    print(((n - start) % period))\n",
    "\n",
    "    last5, lasti = (prev, start)\n",
    "    for i in range(lasti, n+1):\n",
    "        last5 = f(last5 * remove_twos_and_fives(i))\n",
    "    return f(last5* pow(2, (twos-fives), 100_000))"
   ]
  },
  {
   "cell_type": "code",
   "execution_count": 301,
   "id": "78531900",
   "metadata": {},
   "outputs": [],
   "source": [
    "hist = hist[-period:]"
   ]
  },
  {
   "cell_type": "code",
   "execution_count": 331,
   "id": "bad2b236",
   "metadata": {},
   "outputs": [
    {
     "data": {
      "text/plain": [
       "[(49031, 59107), (59107, 80541), (80541, 25507), (25507, 64039)]"
      ]
     },
     "execution_count": 331,
     "metadata": {},
     "output_type": "execute_result"
    }
   ],
   "source": [
    "hist[0:4]"
   ]
  },
  {
   "cell_type": "code",
   "execution_count": 336,
   "id": "e48208aa",
   "metadata": {},
   "outputs": [
    {
     "data": {
      "text/plain": [
       "(2463, 26081)"
      ]
     },
     "execution_count": 336,
     "metadata": {},
     "output_type": "execute_result"
    }
   ],
   "source": [
    "remove_twos_and_fives(4926), remove_twos_and_fives(126081 % 100000)"
   ]
  },
  {
   "cell_type": "code",
   "execution_count": 338,
   "id": "2677f191",
   "metadata": {},
   "outputs": [
    {
     "data": {
      "text/plain": [
       "69667"
      ]
     },
     "execution_count": 338,
     "metadata": {},
     "output_type": "execute_result"
    }
   ],
   "source": [
    "f(hist[1][0]*remove_twos_and_fives(126081))"
   ]
  },
  {
   "cell_type": "code",
   "execution_count": 321,
   "id": "2c5234c2",
   "metadata": {},
   "outputs": [
    {
     "data": {
      "text/plain": [
       "57312"
      ]
     },
     "execution_count": 321,
     "metadata": {},
     "output_type": "execute_result"
    }
   ],
   "source": [
    "e = primes_in_fac(126081, 2) - primes_in_fac(126081, 5)\n",
    "f(hist[1][0]*remove_twos_and_fives(126081)*(2**e%100000))"
   ]
  },
  {
   "cell_type": "code",
   "execution_count": null,
   "id": "9685ea37",
   "metadata": {},
   "outputs": [],
   "source": []
  },
  {
   "cell_type": "code",
   "execution_count": 295,
   "id": "98d4ff54",
   "metadata": {},
   "outputs": [
    {
     "data": {
      "text/plain": [
       "57310"
      ]
     },
     "execution_count": 295,
     "metadata": {},
     "output_type": "execute_result"
    }
   ],
   "source": [
    "remove_twos_and_fives(126082)"
   ]
  },
  {
   "cell_type": "code",
   "execution_count": 296,
   "id": "b6d2ebb8",
   "metadata": {},
   "outputs": [
    {
     "data": {
      "text/plain": [
       "19104"
      ]
     },
     "execution_count": 296,
     "metadata": {},
     "output_type": "execute_result"
    }
   ],
   "source": [
    "f(59107*remove_twos_and_fives(126081)*2**94556)"
   ]
  },
  {
   "cell_type": "code",
   "execution_count": 1,
   "id": "259f5149",
   "metadata": {},
   "outputs": [
    {
     "data": {
      "text/plain": [
       "3"
      ]
     },
     "execution_count": 1,
     "metadata": {},
     "output_type": "execute_result"
    }
   ],
   "source": [
    "7//2"
   ]
  },
  {
   "cell_type": "code",
   "execution_count": 342,
   "id": "4d7a2f63",
   "metadata": {},
   "outputs": [
    {
     "name": "stdout",
     "output_type": "stream",
     "text": [
      "49031 4925\n",
      "44355\n"
     ]
    },
    {
     "ename": "KeyboardInterrupt",
     "evalue": "",
     "output_type": "error",
     "traceback": [
      "\\u001b[0;31m---------------------------------------------------------------------------\\u001b[0m",
      "\\u001b[0;31mKeyError\\u001b[0m                                  Traceback (most recent call last)",
      "\\u001b[0;32m~/Workspace/puzzles/euler/util.py\\u001b[0m in \\u001b[0;36m__call__\\u001b[0;34m(self, *args)\\u001b[0m\n\\u001b[1;32m     17\\u001b[0m         \\u001b[0;32mtry\\u001b[0m\\u001b[0;34m:\\u001b[0m\\u001b[0;34m\\u001b[0m\\u001b[0;34m\\u001b[0m\\u001b[0m\n\\u001b[0;32m---> 18\\u001b[0;31m             \\u001b[0;32mreturn\\u001b[0m \\u001b[0mself\\u001b[0m\\u001b[0;34m.\\u001b[0m\\u001b[0mmemoized\\u001b[0m\\u001b[0;34m[\\u001b[0m\\u001b[0margs\\u001b[0m\\u001b[0;34m]\\u001b[0m\\u001b[0;34m\\u001b[0m\\u001b[0;34m\\u001b[0m\\u001b[0m\n\\u001b[0m\\u001b[1;32m     19\\u001b[0m         \\u001b[0;32mexcept\\u001b[0m \\u001b[0mKeyError\\u001b[0m\\u001b[0;34m:\\u001b[0m\\u001b[0;34m\\u001b[0m\\u001b[0;34m\\u001b[0m\\u001b[0m\n",
      "\\u001b[0;31mKeyError\\u001b[0m: (225961,)",
      "\nDuring handling of the above exception, another exception occurred:\n",
      "\\u001b[0;31mKeyboardInterrupt\\u001b[0m                         Traceback (most recent call last)",
      "\\u001b[0;32m<timed eval>\\u001b[0m in \\u001b[0;36m<module>\\u001b[0;34m\\u001b[0m\n",
      "\\u001b[0;32m/tmp/ipykernel_47806/3818263390.py\\u001b[0m in \\u001b[0;36mfast_last5_fac\\u001b[0;34m(n)\\u001b[0m\n\\u001b[1;32m     12\\u001b[0m     \\u001b[0mlast5\\u001b[0m\\u001b[0;34m,\\u001b[0m \\u001b[0mlasti\\u001b[0m \\u001b[0;34m=\\u001b[0m \\u001b[0;34m(\\u001b[0m\\u001b[0mprev\\u001b[0m\\u001b[0;34m,\\u001b[0m \\u001b[0mstart\\u001b[0m\\u001b[0;34m)\\u001b[0m\\u001b[0;34m\\u001b[0m\\u001b[0;34m\\u001b[0m\\u001b[0m\n\\u001b[1;32m     13\\u001b[0m     \\u001b[0;32mfor\\u001b[0m \\u001b[0mi\\u001b[0m \\u001b[0;32min\\u001b[0m \\u001b[0mrange\\u001b[0m\\u001b[0;34m(\\u001b[0m\\u001b[0mlasti\\u001b[0m\\u001b[0;34m,\\u001b[0m \\u001b[0mn\\u001b[0m\\u001b[0;34m+\\u001b[0m\\u001b[0;36m1\\u001b[0m\\u001b[0;34m)\\u001b[0m\\u001b[0;34m:\\u001b[0m\\u001b[0;34m\\u001b[0m\\u001b[0;34m\\u001b[0m\\u001b[0m\n\\u001b[0;32m---> 14\\u001b[0;31m         \\u001b[0mlast5\\u001b[0m \\u001b[0;34m=\\u001b[0m \\u001b[0mf\\u001b[0m\\u001b[0;34m(\\u001b[0m\\u001b[0mlast5\\u001b[0m \\u001b[0;34m*\\u001b[0m \\u001b[0mremove_twos_and_fives\\u001b[0m\\u001b[0;34m(\\u001b[0m\\u001b[0mi\\u001b[0m\\u001b[0;34m)\\u001b[0m\\u001b[0;34m)\\u001b[0m\\u001b[0;34m\\u001b[0m\\u001b[0;34m\\u001b[0m\\u001b[0m\n\\u001b[0m\\u001b[1;32m     15\\u001b[0m     \\u001b[0;32mreturn\\u001b[0m \\u001b[0mf\\u001b[0m\\u001b[0;34m(\\u001b[0m\\u001b[0mlast5\\u001b[0m\\u001b[0;34m*\\u001b[0m \\u001b[0mpow\\u001b[0m\\u001b[0;34m(\\u001b[0m\\u001b[0;36m2\\u001b[0m\\u001b[0;34m,\\u001b[0m \\u001b[0;34m(\\u001b[0m\\u001b[0mtwos\\u001b[0m\\u001b[0;34m-\\u001b[0m\\u001b[0mfives\\u001b[0m\\u001b[0;34m)\\u001b[0m\\u001b[0;34m,\\u001b[0m \\u001b[0;36m100_000\\u001b[0m\\u001b[0;34m)\\u001b[0m\\u001b[0;34m)\\u001b[0m\\u001b[0;34m\\u001b[0m\\u001b[0;34m\\u001b[0m\\u001b[0m\n",
      "\\u001b[0;32m<timed exec>\\u001b[0m in \\u001b[0;36mremove_twos_and_fives\\u001b[0;34m(n)\\u001b[0m\n",
      "\\u001b[0;32m~/Workspace/puzzles/euler/util.py\\u001b[0m in \\u001b[0;36m__call__\\u001b[0;34m(self, *args)\\u001b[0m\n\\u001b[1;32m     18\\u001b[0m             \\u001b[0;32mreturn\\u001b[0m \\u001b[0mself\\u001b[0m\\u001b[0;34m.\\u001b[0m\\u001b[0mmemoized\\u001b[0m\\u001b[0;34m[\\u001b[0m\\u001b[0margs\\u001b[0m\\u001b[0;34m]\\u001b[0m\\u001b[0;34m\\u001b[0m\\u001b[0;34m\\u001b[0m\\u001b[0m\n\\u001b[1;32m     19\\u001b[0m         \\u001b[0;32mexcept\\u001b[0m \\u001b[0mKeyError\\u001b[0m\\u001b[0;34m:\\u001b[0m\\u001b[0;34m\\u001b[0m\\u001b[0;34m\\u001b[0m\\u001b[0m\n\\u001b[0;32m---> 20\\u001b[0;31m             \\u001b[0mself\\u001b[0m\\u001b[0;34m.\\u001b[0m\\u001b[0mmemoized\\u001b[0m\\u001b[0;34m[\\u001b[0m\\u001b[0margs\\u001b[0m\\u001b[0;34m]\\u001b[0m \\u001b[0;34m=\\u001b[0m \\u001b[0mself\\u001b[0m\\u001b[0;34m.\\u001b[0m\\u001b[0mfunction\\u001b[0m\\u001b[0;34m(\\u001b[0m\\u001b[0;34m*\\u001b[0m\\u001b[0margs\\u001b[0m\\u001b[0;34m)\\u001b[0m\\u001b[0;34m\\u001b[0m\\u001b[0;34m\\u001b[0m\\u001b[0m\n\\u001b[0m\\u001b[1;32m     21\\u001b[0m             \\u001b[0;32mreturn\\u001b[0m \\u001b[0mself\\u001b[0m\\u001b[0;34m.\\u001b[0m\\u001b[0mmemoized\\u001b[0m\\u001b[0;34m[\\u001b[0m\\u001b[0margs\\u001b[0m\\u001b[0;34m]\\u001b[0m\\u001b[0;34m\\u001b[0m\\u001b[0;34m\\u001b[0m\\u001b[0m\n\\u001b[1;32m     22\\u001b[0m \\u001b[0;34m\\u001b[0m\\u001b[0m\n",
      "\\u001b[0;32m~/Workspace/puzzles/euler/util.py\\u001b[0m in \\u001b[0;36mprime_factors\\u001b[0;34m(n)\\u001b[0m\n\\u001b[1;32m    227\\u001b[0m             \\u001b[0;32mreturn\\u001b[0m \\u001b[0;34m[\\u001b[0m\\u001b[0mi\\u001b[0m\\u001b[0;34m]\\u001b[0m \\u001b[0;34m+\\u001b[0m \\u001b[0mprime_factors\\u001b[0m\\u001b[0;34m(\\u001b[0m\\u001b[0mn\\u001b[0m\\u001b[0;34m/\\u001b[0m\\u001b[0mi\\u001b[0m\\u001b[0;34m)\\u001b[0m\\u001b[0;34m\\u001b[0m\\u001b[0;34m\\u001b[0m\\u001b[0m\n\\u001b[1;32m    228\\u001b[0m         \\u001b[0;32melse\\u001b[0m\\u001b[0;34m:\\u001b[0m\\u001b[0;34m\\u001b[0m\\u001b[0;34m\\u001b[0m\\u001b[0m\n\\u001b[0;32m--> 229\\u001b[0;31m             \\u001b[0mi\\u001b[0m \\u001b[0;34m+=\\u001b[0m \\u001b[0;36m1\\u001b[0m\\u001b[0;34m\\u001b[0m\\u001b[0;34m\\u001b[0m\\u001b[0m\n\\u001b[0m\\u001b[1;32m    230\\u001b[0m     \\u001b[0;32mreturn\\u001b[0m \\u001b[0;34m[\\u001b[0m\\u001b[0;34m]\\u001b[0m\\u001b[0;34m\\u001b[0m\\u001b[0;34m\\u001b[0m\\u001b[0m\n\\u001b[1;32m    231\\u001b[0m \\u001b[0;34m\\u001b[0m\\u001b[0m\n",
      "\\u001b[0;31mKeyboardInterrupt\\u001b[0m: "
     ]
    }
   ],
   "source": [
    "%%time\n",
    "fast_last5_fac(1260830)"
   ]
  },
  {
   "cell_type": "code",
   "execution_count": null,
   "id": "bb3dbd4f",
   "metadata": {},
   "outputs": [
    {
     "name": "stdout",
     "output_type": "stream",
     "text": [
      "49031 4925\n",
      "102860\n"
     ]
    }
   ],
   "source": [
    "%%time\n",
    "fast_last5_fac(1_000_000_000)"
   ]
  },
  {
   "cell_type": "code",
   "execution_count": 48,
   "id": "03b55210",
   "metadata": {},
   "outputs": [
    {
     "data": {
      "text/plain": [
       "5893637568"
      ]
     },
     "execution_count": 48,
     "metadata": {},
     "output_type": "execute_result"
    }
   ],
   "source": [
    "f(prev*i, last=10)"
   ]
  },
  {
   "cell_type": "code",
   "execution_count": 49,
   "id": "b72eba2e",
   "metadata": {},
   "outputs": [
    {
     "data": {
      "text/plain": [
       "1189637568"
      ]
     },
     "execution_count": 49,
     "metadata": {},
     "output_type": "execute_result"
    }
   ],
   "source": [
    "f(prev*(i-period), last=10)"
   ]
  },
  {
   "cell_type": "code",
   "execution_count": 19,
   "id": "cd2b5f92",
   "metadata": {},
   "outputs": [
    {
     "data": {
      "text/plain": [
       "6176"
      ]
     },
     "execution_count": 19,
     "metadata": {},
     "output_type": "execute_result"
    }
   ],
   "source": [
    "slow_last5_fac(2247587)"
   ]
  },
  {
   "cell_type": "code",
   "execution_count": 74,
   "id": "647110e3",
   "metadata": {},
   "outputs": [
    {
     "name": "stdout",
     "output_type": "stream",
     "text": [
      "=\n",
      "625022 9652026496 26496\n",
      "1125022 1924026496 26496\n",
      "=\n",
      "625023 8556609408 9408\n",
      "1125023 4060609408 9408\n",
      "=\n",
      "625024 6238625792 25792\n",
      "1125024 3038625792 25792\n",
      "=\n",
      "625025 2970856448 56448\n",
      "1125025 5299816448 16448\n"
     ]
    }
   ],
   "source": [
    "p1 = 1189637568\n",
    "p2 = 5893637568\n",
    "for k in range(i+1, i+200_000):\n",
    "    p1 = f(p1*k, last=10)\n",
    "    p2 = f(p2*(k+period), last=10)\n",
    "    print('=')\n",
    "    print(k, p1, f(p1))\n",
    "    print(k+period, p2, f(p2))\n",
    "        \n",
    "    if f(p1) != f(p2):\n",
    "        break    "
   ]
  },
  {
   "cell_type": "code",
   "execution_count": 58,
   "id": "0a512844",
   "metadata": {},
   "outputs": [
    {
     "data": {
      "text/plain": [
       "26496"
      ]
     },
     "execution_count": 58,
     "metadata": {},
     "output_type": "execute_result"
    }
   ],
   "source": [
    "f(5893637568*(i+1))"
   ]
  },
  {
   "cell_type": "code",
   "execution_count": 54,
   "id": "a917ddf8",
   "metadata": {},
   "outputs": [
    {
     "data": {
      "text/plain": [
       "75136"
      ]
     },
     "execution_count": 54,
     "metadata": {},
     "output_type": "execute_result"
    }
   ],
   "source": [
    "f(5893637568*2000000)"
   ]
  },
  {
   "cell_type": "code",
   "execution_count": 56,
   "id": "c9a1be56",
   "metadata": {},
   "outputs": [
    {
     "data": {
      "text/plain": [
       "3683653140026496"
      ]
     },
     "execution_count": 56,
     "metadata": {},
     "output_type": "execute_result"
    }
   ],
   "source": [
    "(i+1)*5893637568"
   ]
  },
  {
   "cell_type": "code",
   "execution_count": 121,
   "id": "5dad03ee",
   "metadata": {},
   "outputs": [
    {
     "name": "stdout",
     "output_type": "stream",
     "text": [
      "CPU times: user 439 ms, sys: 4.08 ms, total: 443 ms\n",
      "Wall time: 443 ms\n"
     ]
    },
    {
     "data": {
      "text/plain": [
       "18208"
      ]
     },
     "execution_count": 121,
     "metadata": {},
     "output_type": "execute_result"
    }
   ],
   "source": [
    "%%time\n",
    "slow_last5_fac(1137230)"
   ]
  },
  {
   "cell_type": "code",
   "execution_count": 35,
   "id": "c359c5f1",
   "metadata": {},
   "outputs": [
    {
     "name": "stdout",
     "output_type": "stream",
     "text": [
      "649408 723012\n",
      "CPU times: user 51.5 ms, sys: 4.28 ms, total: 55.8 ms\n",
      "Wall time: 54.6 ms\n"
     ]
    },
    {
     "data": {
      "text/plain": [
       "23104"
      ]
     },
     "execution_count": 35,
     "metadata": {},
     "output_type": "execute_result"
    }
   ],
   "source": [
    "%%time\n",
    "fast_last5_fac(113723012)"
   ]
  },
  {
   "cell_type": "code",
   "execution_count": 43,
   "id": "7d259954",
   "metadata": {},
   "outputs": [
    {
     "name": "stdout",
     "output_type": "stream",
     "text": [
      "125021 1000000000000 500000\n",
      "CPU times: user 446 ms, sys: 16 ms, total: 462 ms\n",
      "Wall time: 461 ms\n"
     ]
    },
    {
     "data": {
      "text/plain": [
       "62496"
      ]
     },
     "execution_count": 43,
     "metadata": {},
     "output_type": "execute_result"
    }
   ],
   "source": [
    "%%time\n",
    "fast_last5_fac(bound)"
   ]
  },
  {
   "cell_type": "code",
   "execution_count": 34,
   "id": "0b16158b",
   "metadata": {},
   "outputs": [
    {
     "name": "stdout",
     "output_type": "stream",
     "text": [
      "CPU times: user 142 ms, sys: 0 ns, total: 142 ms\n",
      "Wall time: 141 ms\n"
     ]
    }
   ],
   "source": [
    "%%time\n",
    "\n",
    "import math\n",
    "\n",
    "N = 1_000_000_000_000\n",
    "\n",
    "def primes_in_fac(n, p):\n",
    "    maxk = int(math.floor(math.log(n, p)))\n",
    "    if not maxk: return 0\n",
    "    return int(sum(n//(p**k) for k in range(1, maxk+1)))\n",
    "\n",
    "def remove_twos_and_fives(n):\n",
    "    return util.product(p for p in util.prime_factors(n) if p not in (2, 5))\n",
    "\n",
    "hs = {}\n",
    "for i in range(3, 10**5+1, 2):\n",
    "    if i % 5 == 0: continue\n",
    "    i = remove_twos_and_fives(i)\n",
    "    if i in (0, 1): continue\n",
    "    hs[i] = primes_in_fac(N, i)"
   ]
  },
  {
   "cell_type": "code",
   "execution_count": 35,
   "id": "2f42be07",
   "metadata": {},
   "outputs": [],
   "source": [
    "tot = 0\n",
    "for h, s in hs.items():\n",
    "    tot += pow(h, s, 100_000) % 100_000\n",
    "twos = primes_in_fac(N, 2)\n",
    "fives = primes_in_fac(N, 5)\n",
    "tot *= pow(2, twos-fives, 100_000)\n",
    "tot = tot % 100_000"
   ]
  },
  {
   "cell_type": "code",
   "execution_count": 36,
   "id": "e6af484f",
   "metadata": {},
   "outputs": [
    {
     "data": {
      "text/plain": [
       "45536"
      ]
     },
     "execution_count": 36,
     "metadata": {},
     "output_type": "execute_result"
    }
   ],
   "source": [
    "tot"
   ]
  },
  {
   "cell_type": "code",
   "execution_count": 39,
   "id": "a062411d",
   "metadata": {},
   "outputs": [
    {
     "data": {
      "text/plain": [
       "249999999997"
      ]
     },
     "execution_count": 39,
     "metadata": {},
     "output_type": "execute_result"
    }
   ],
   "source": [
    "primes_in_fac"
   ]
  }
 ],
 "metadata": {
  "kernelspec": {
   "display_name": "Python 3 (ipykernel)",
   "language": "python",
   "name": "python3"
  },
  "language_info": {
   "codemirror_mode": {
    "name": "ipython",
    "version": 3
   },
   "file_extension": ".py",
   "mimetype": "text/x-python",
   "name": "python",
   "nbconvert_exporter": "python",
   "pygments_lexer": "ipython3",
   "version": "3.8.10"
  }
 },
 "nbformat": 4,
 "nbformat_minor": 5
}
