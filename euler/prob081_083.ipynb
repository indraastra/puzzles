{
  "nbformat": 4,
  "nbformat_minor": 0,
  "metadata": {
    "colab": {
      "name": "prob081-083",
      "provenance": [],
      "collapsed_sections": []
    },
    "kernelspec": {
      "name": "python3",
      "display_name": "Python 3"
    },
    "language_info": {
      "name": "python"
    }
  },
  "cells": [
    {
      "cell_type": "code",
      "metadata": {
        "id": "3kLF-cF__M-m"
      },
      "source": [
        "import numpy as np\n",
        "from scipy.ndimage.filters import generic_filter\n",
        "from tqdm import tqdm"
      ],
      "execution_count": null,
      "outputs": []
    },
    {
      "cell_type": "code",
      "metadata": {
        "id": "oR4WSPNy_Pbh"
      },
      "source": [
        "M = np.array([[131, 673, 234, 103, 18], \n",
        "              [201, 96, 342, 965, 150], \n",
        "              [630, 803, 746, 422, 111],\n",
        "              [537, 699, 497, 121, 956],\n",
        "              [805, 732, 524, 37, 331]])\n",
        "\n",
        "DELTAS_2D = ((-1, 0), (0, -1))\n",
        "DELTAS_3D = ((-1, 0), (0, -1), (1, 0))\n",
        "DELTAS_4D = ((-1, 0), (0, -1), (1, 0), (0, 1))"
      ],
      "execution_count": null,
      "outputs": []
    },
    {
      "cell_type": "code",
      "metadata": {
        "id": "nHzvwgkPCtCl"
      },
      "source": [
        "def neighbors(M, row, col, deltas):\n",
        "  for (dy, dx) in deltas:\n",
        "    nrow = row + dy\n",
        "    ncol = col + dx\n",
        "    if 0 <= nrow < M.shape[0] and 0 <= ncol < M.shape[1] and M[nrow, ncol] != 0:\n",
        "      yield M[nrow, ncol]\n",
        "\n",
        "def min_cost_from(M, i, j, deltas):\n",
        "  C = np.zeros_like(M)\n",
        "  C[i, j] = M[i, j]\n",
        "\n",
        "  for col in range(C.shape[1]):\n",
        "    changed = True\n",
        "    while changed:\n",
        "      changed = False\n",
        "      for row in range(C.shape[0]):\n",
        "        nvalues = list(neighbors(C, row, col, deltas))\n",
        "        if not nvalues: continue\n",
        "        newC = min(nvalues) + M[row, col]\n",
        "        if C[row, col] == 0 or newC < C[row, col]:\n",
        "          C[row, col] = newC\n",
        "          changed = True\n",
        "  return C[:, -1].min()\n",
        "\n",
        "def min_cost_lr(M, deltas=DELTAS_3D):\n",
        "  return min(min_cost_from(M, i, 0, deltas) for i in range(M.shape[0]))"
      ],
      "execution_count": null,
      "outputs": []
    },
    {
      "cell_type": "code",
      "metadata": {
        "colab": {
          "base_uri": "https://localhost:8080/"
        },
        "id": "3WaBwtQwDvwY",
        "outputId": "06b10430-6506-432c-bbb1-fc99e5935fc7"
      },
      "source": [
        "%%time\n",
        "min_cost_lr(M)"
      ],
      "execution_count": null,
      "outputs": [
        {
          "output_type": "stream",
          "text": [
            "CPU times: user 3.43 ms, sys: 0 ns, total: 3.43 ms\n",
            "Wall time: 6.95 ms\n"
          ],
          "name": "stdout"
        },
        {
          "output_type": "execute_result",
          "data": {
            "text/plain": [
              "994"
            ]
          },
          "metadata": {
            "tags": []
          },
          "execution_count": 7
        }
      ]
    },
    {
      "cell_type": "code",
      "metadata": {
        "colab": {
          "base_uri": "https://localhost:8080/"
        },
        "id": "7b_dc5UaKFbn",
        "outputId": "9eaab729-4d03-4d5b-8c7a-c6e2d4722ced"
      },
      "source": [
        "!wget https://projecteuler.net/project/resources/p082_matrix.txt"
      ],
      "execution_count": null,
      "outputs": [
        {
          "output_type": "stream",
          "text": [
            "--2021-03-25 12:26:39--  https://projecteuler.net/project/resources/p082_matrix.txt\n",
            "Resolving projecteuler.net (projecteuler.net)... 31.170.122.77\n",
            "Connecting to projecteuler.net (projecteuler.net)|31.170.122.77|:443... connected.\n",
            "HTTP request sent, awaiting response... 200 OK\n",
            "Length: 31305 (31K) [text/plain]\n",
            "Saving to: ‘p082_matrix.txt’\n",
            "\n",
            "p082_matrix.txt     100%[===================>]  30.57K   188KB/s    in 0.2s    \n",
            "\n",
            "2021-03-25 12:26:40 (188 KB/s) - ‘p082_matrix.txt’ saved [31305/31305]\n",
            "\n"
          ],
          "name": "stdout"
        }
      ]
    },
    {
      "cell_type": "code",
      "metadata": {
        "id": "5KJLSJpeMuzB"
      },
      "source": [
        "P = np.array([[int(i) for i in l.split(',')] for l in open('p082_matrix.txt')])"
      ],
      "execution_count": null,
      "outputs": []
    },
    {
      "cell_type": "code",
      "metadata": {
        "colab": {
          "base_uri": "https://localhost:8080/"
        },
        "id": "GZ6lmWmiM59F",
        "outputId": "c165fc27-e18e-4693-ae36-aa232b7c0a67"
      },
      "source": [
        "P.shape"
      ],
      "execution_count": null,
      "outputs": [
        {
          "output_type": "execute_result",
          "data": {
            "text/plain": [
              "(80, 80)"
            ]
          },
          "metadata": {
            "tags": []
          },
          "execution_count": 10
        }
      ]
    },
    {
      "cell_type": "code",
      "metadata": {
        "colab": {
          "base_uri": "https://localhost:8080/"
        },
        "id": "VrpF8jwBQ5O4",
        "outputId": "10796298-409b-4144-e6de-7ded385cb577"
      },
      "source": [
        "%%time\n",
        "min_cost_lr(P)"
      ],
      "execution_count": null,
      "outputs": [
        {
          "output_type": "stream",
          "text": [
            "CPU times: user 20.6 s, sys: 27.3 ms, total: 20.7 s\n",
            "Wall time: 20.7 s\n"
          ],
          "name": "stdout"
        },
        {
          "output_type": "execute_result",
          "data": {
            "text/plain": [
              "260324"
            ]
          },
          "metadata": {
            "tags": []
          },
          "execution_count": 11
        }
      ]
    },
    {
      "cell_type": "code",
      "metadata": {
        "colab": {
          "base_uri": "https://localhost:8080/"
        },
        "id": "eWQ9rUEGXwgE",
        "outputId": "fe230396-2a60-4469-aa63-878267c29d3a"
      },
      "source": [
        "!wget https://projecteuler.net/project/resources/p081_matrix.txt"
      ],
      "execution_count": null,
      "outputs": [
        {
          "output_type": "stream",
          "text": [
            "--2021-03-25 12:27:03--  https://projecteuler.net/project/resources/p081_matrix.txt\n",
            "Resolving projecteuler.net (projecteuler.net)... 31.170.122.77\n",
            "Connecting to projecteuler.net (projecteuler.net)|31.170.122.77|:443... connected.\n",
            "HTTP request sent, awaiting response... 200 OK\n",
            "Length: 31305 (31K) [text/plain]\n",
            "Saving to: ‘p081_matrix.txt’\n",
            "\n",
            "p081_matrix.txt     100%[===================>]  30.57K   203KB/s    in 0.2s    \n",
            "\n",
            "2021-03-25 12:27:04 (203 KB/s) - ‘p081_matrix.txt’ saved [31305/31305]\n",
            "\n"
          ],
          "name": "stdout"
        }
      ]
    },
    {
      "cell_type": "code",
      "metadata": {
        "id": "rGwJjHD0RpTo"
      },
      "source": [
        "def min_cost_tlbr(M, deltas=DELTAS_2D):\n",
        "  C = np.zeros_like(M)\n",
        "  C[0, 0] = M[0, 0]\n",
        "\n",
        "  for d in range(1, sum(M.shape)):\n",
        "    for row in range(d + 1):\n",
        "      col = d - row\n",
        "      if 0 <= row < C.shape[0] and 0 <= col < C.shape[1]:\n",
        "        C[row, col] = min(neighbors(C, row, col, deltas=deltas)) + M[row, col]\n",
        "  return C[-1, -1]"
      ],
      "execution_count": null,
      "outputs": []
    },
    {
      "cell_type": "code",
      "metadata": {
        "colab": {
          "base_uri": "https://localhost:8080/"
        },
        "id": "1tZappFFY6SW",
        "outputId": "f14e73a2-4a00-4973-dfc2-b68af61493b8"
      },
      "source": [
        "%%time\n",
        "min_cost_tlbr(M)"
      ],
      "execution_count": null,
      "outputs": [
        {
          "output_type": "stream",
          "text": [
            "CPU times: user 956 µs, sys: 0 ns, total: 956 µs\n",
            "Wall time: 969 µs\n"
          ],
          "name": "stdout"
        },
        {
          "output_type": "execute_result",
          "data": {
            "text/plain": [
              "2427"
            ]
          },
          "metadata": {
            "tags": []
          },
          "execution_count": 15
        }
      ]
    },
    {
      "cell_type": "code",
      "metadata": {
        "colab": {
          "base_uri": "https://localhost:8080/"
        },
        "id": "yLOQIvbxY-E4",
        "outputId": "acaeffae-9590-4004-ebb5-bb4b373d77df"
      },
      "source": [
        "%%time\n",
        "min_cost_tlbr(P)"
      ],
      "execution_count": null,
      "outputs": [
        {
          "output_type": "stream",
          "text": [
            "CPU times: user 24.5 ms, sys: 27 µs, total: 24.5 ms\n",
            "Wall time: 27.6 ms\n"
          ],
          "name": "stdout"
        },
        {
          "output_type": "execute_result",
          "data": {
            "text/plain": [
              "427337"
            ]
          },
          "metadata": {
            "tags": []
          },
          "execution_count": 16
        }
      ]
    },
    {
      "cell_type": "code",
      "metadata": {
        "id": "CuBg4kRwV84u"
      },
      "source": [
        "## Problem 83\n",
        "\n",
        "def min_cost_tlbr(M, deltas=DELTAS_4D):\n",
        "  C = np.zeros_like(M)\n",
        "  C[0, 0] = M[0, 0]\n",
        "\n",
        "  changed = True\n",
        "  while changed:\n",
        "    changed = False\n",
        "    for col in range(C.shape[1]):\n",
        "      for row in range(C.shape[0]):\n",
        "        nvalues = list(neighbors(C, row, col, deltas))\n",
        "        if not nvalues: continue\n",
        "        newC = min(nvalues) + M[row, col]\n",
        "        if C[row, col] == 0 or newC < C[row, col]:\n",
        "          C[row, col] = newC\n",
        "          changed = True\n",
        "  return C[-1, -1]"
      ],
      "execution_count": null,
      "outputs": []
    },
    {
      "cell_type": "code",
      "metadata": {
        "colab": {
          "base_uri": "https://localhost:8080/"
        },
        "id": "15LF4JJsWBjV",
        "outputId": "772270a0-045a-43e5-8836-f22609107977"
      },
      "source": [
        "min_cost_tlbr(M)"
      ],
      "execution_count": null,
      "outputs": [
        {
          "output_type": "execute_result",
          "data": {
            "text/plain": [
              "2297"
            ]
          },
          "metadata": {
            "tags": []
          },
          "execution_count": 18
        }
      ]
    },
    {
      "cell_type": "code",
      "metadata": {
        "colab": {
          "base_uri": "https://localhost:8080/"
        },
        "id": "U0VRlExgXKGb",
        "outputId": "90424358-5004-4aa5-d19f-c304a531c6f1"
      },
      "source": [
        "%%time\n",
        "min_cost_tlbr(P)"
      ],
      "execution_count": null,
      "outputs": [
        {
          "output_type": "stream",
          "text": [
            "CPU times: user 494 ms, sys: 1.03 ms, total: 495 ms\n",
            "Wall time: 497 ms\n"
          ],
          "name": "stdout"
        },
        {
          "output_type": "execute_result",
          "data": {
            "text/plain": [
              "425185"
            ]
          },
          "metadata": {
            "tags": []
          },
          "execution_count": 19
        }
      ]
    },
    {
      "cell_type": "code",
      "metadata": {
        "id": "m5KhasIWXM-x"
      },
      "source": [
        ""
      ],
      "execution_count": null,
      "outputs": []
    }
  ]
}