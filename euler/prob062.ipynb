{
 "metadata": {
  "language_info": {
   "codemirror_mode": {
    "name": "ipython",
    "version": 3
   },
   "file_extension": ".py",
   "mimetype": "text/x-python",
   "name": "python",
   "nbconvert_exporter": "python",
   "pygments_lexer": "ipython3",
   "version": "3.9.0-final"
  },
  "orig_nbformat": 2,
  "kernelspec": {
   "name": "python3",
   "display_name": "Python 3.9.0 64-bit",
   "metadata": {
    "interpreter": {
     "hash": "63fd5069d213b44bf678585dea6b12cceca9941eaf7f819626cde1f2670de90d"
    }
   }
  }
 },
 "nbformat": 4,
 "nbformat_minor": 2,
 "cells": [
  {
   "cell_type": "code",
   "execution_count": 40,
   "metadata": {},
   "outputs": [],
   "source": [
    "from collections import defaultdict\n",
    "import doctest\n",
    "from functools import cache\n",
    "from itertools import combinations, islice, permutations"
   ]
  },
  {
   "cell_type": "code",
   "execution_count": 97,
   "metadata": {},
   "outputs": [],
   "source": [
    "def permutation_id(n):\n",
    "    return ''.join(sorted(str(n)))\n",
    "\n",
    "def is_permutation_of(m, n):\n",
    "    \"\"\"\n",
    "    >>> is_permutation_of(1, 1)\n",
    "    True\n",
    "    >>> is_permutation_of(1, 10)\n",
    "    False\n",
    "    >>> is_permutation_of(404, 440)\n",
    "    True\n",
    "    >>> is_permutation_of(41063625, 56623104)\n",
    "    True\n",
    "    \"\"\"\n",
    "    return permutation_id(m) == permutation_id(n)\n",
    "\n",
    "@cache\n",
    "def cubes_upto(upto):\n",
    "    \"\"\"\n",
    "    >>> sorted(cubes_upto(5))\n",
    "    [1, 8, 27, 64, 125]\n",
    "    \"\"\"\n",
    "    return {n**3 for n in range(1, upto + 1)}\n",
    "\n",
    "def make_fast_is_cubic(cache_cubes_upto=999):\n",
    "    cubes = {str(c) for c in cubes_upto(cache_cubes_upto)}\n",
    "    return lambda n: n in cubes\n",
    "\n",
    "fast_is_cubic = make_fast_is_cubic()\n",
    "\n",
    "def fast_permutations(n):\n",
    "    for m in permutations(permutation_id(n)):\n",
    "        if m[0] != '0':\n",
    "            yield ''.join(m)\n",
    "\n",
    "@cache\n",
    "def cubic_permutations(n):\n",
    "    \"\"\"\n",
    "    >>> sorted(cubic_permutations(56623104))\n",
    "    ['41063625', '56623104', '66430125']\n",
    "    \"\"\"\n",
    "    return set(m for m in fast_permutations(n) if fast_is_cubic(m))"
   ]
  },
  {
   "cell_type": "code",
   "execution_count": 42,
   "metadata": {},
   "outputs": [],
   "source": [
    "def find_n_with_m_permutations(m, consider_cubes_upto=9999):\n",
    "    for i in cubes_upto(consider_cubes_upto):\n",
    "        ps = cubic_permutations(i)\n",
    "        if len(ps) == m:\n",
    "            return (i, ps)"
   ]
  },
  {
   "cell_type": "code",
   "execution_count": 37,
   "metadata": {},
   "outputs": [
    {
     "output_type": "stream",
     "name": "stdout",
     "text": [
      "Wall time: 3 ms\n"
     ]
    },
    {
     "output_type": "execute_result",
     "data": {
      "text/plain": [
       "(56623104, {'41063625', '56623104', '66430125'})"
      ]
     },
     "metadata": {},
     "execution_count": 37
    }
   ],
   "source": [
    "%%time\n",
    "find_n_with_m_permutations(3)"
   ]
  },
  {
   "cell_type": "code",
   "execution_count": 38,
   "metadata": {},
   "outputs": [
    {
     "output_type": "stream",
     "name": "stdout",
     "text": [
      "Wall time: 0 ns\n"
     ]
    }
   ],
   "source": [
    "%%time\n",
    "# Basically too slow\n",
    "#find_n_with_m_permutations(5)"
   ]
  },
  {
   "cell_type": "code",
   "execution_count": 124,
   "metadata": {},
   "outputs": [],
   "source": [
    "def fast_find_n_with_p_permutations(p, consider_cubes_upto=9999):\n",
    "    permutations_by_id = defaultdict(set)\n",
    "    for c in cubes_upto(consider_cubes_upto):\n",
    "        permutations_by_id[permutation_id(c)].add(c)\n",
    "    return min((min(ps) for ps in permutations_by_id.values() if len(ps) == p), default=None)\n",
    "\n",
    "def faster_find_n_with_p_permutations(p, consider_min_perm_length, consider_cubes_upto=9999):\n",
    "    \"\"\"To consider by increasing permutation length instead.\"\"\"\n",
    "    cubes_by_length = defaultdict(set)\n",
    "    for cube in cubes_upto(consider_cubes_upto):\n",
    "        cubes_by_length[len(str(cube))].add(cube)\n",
    "    \n",
    "    for length, cubes in cubes_by_length.items():\n",
    "        if length < consider_min_perm_length: continue\n",
    "        #print(f'Trying permutations of length {length} from {len(cubes)} cubes')\n",
    "        permutations_by_id = defaultdict(set)\n",
    "        for c in cubes:\n",
    "            permutations_by_id[permutation_id(c)].add(c)\n",
    "        solution = min((min(ps) for ps in permutations_by_id.values() if len(ps) == p), default=None)\n",
    "        if solution is not None: return solution"
   ]
  },
  {
   "cell_type": "code",
   "execution_count": 125,
   "metadata": {},
   "outputs": [
    {
     "output_type": "stream",
     "name": "stdout",
     "text": [
      "Wall time: 20 ms\n"
     ]
    },
    {
     "output_type": "execute_result",
     "data": {
      "text/plain": [
       "41063625"
      ]
     },
     "metadata": {},
     "execution_count": 125
    }
   ],
   "source": [
    "%%time\n",
    "fast_find_n_with_p_permutations(3)"
   ]
  },
  {
   "cell_type": "code",
   "execution_count": 127,
   "metadata": {},
   "outputs": [
    {
     "output_type": "stream",
     "name": "stdout",
     "text": [
      "Wall time: 20 ms\n"
     ]
    },
    {
     "output_type": "execute_result",
     "data": {
      "text/plain": [
       "127035954683"
      ]
     },
     "metadata": {},
     "execution_count": 127
    }
   ],
   "source": [
    "%%time\n",
    "fast_find_n_with_p_permutations(5)"
   ]
  },
  {
   "cell_type": "code",
   "execution_count": 126,
   "metadata": {},
   "outputs": [
    {
     "output_type": "stream",
     "name": "stdout",
     "text": [
      "16.8 ms ± 423 µs per loop (mean ± std. dev. of 7 runs, 10 loops each)\n"
     ]
    }
   ],
   "source": [
    "%%timeit -n 10\n",
    "fast_find_n_with_p_permutations(5)"
   ]
  },
  {
   "cell_type": "code",
   "execution_count": 123,
   "metadata": {
    "tags": []
   },
   "outputs": [
    {
     "output_type": "stream",
     "name": "stdout",
     "text": [
      "17 ms ± 637 µs per loop (mean ± std. dev. of 7 runs, 10 loops each)\n"
     ]
    }
   ],
   "source": [
    "%%timeit -n 10\n",
    "# Ok, so actually it's slower...\n",
    "faster_find_n_with_p_permutations(5, consider_min_perm_length=11)"
   ]
  },
  {
   "cell_type": "code",
   "execution_count": 98,
   "metadata": {},
   "outputs": [
    {
     "output_type": "stream",
     "name": "stdout",
     "text": [
      "Trying:\n    sorted(cubes_upto(5))\nExpecting:\n    [1, 8, 27, 64, 125]\nok\nTrying:\n    sorted(cubic_permutations(56623104))\nExpecting:\n    ['41063625', '56623104', '66430125']\nok\nTrying:\n    is_permutation_of(1, 1)\nExpecting:\n    True\nok\nTrying:\n    is_permutation_of(1, 10)\nExpecting:\n    False\nok\nTrying:\n    is_permutation_of(404, 440)\nExpecting:\n    True\nok\nTrying:\n    is_permutation_of(41063625, 56623104)\nExpecting:\n    True\nok\n8 items had no tests:\n    __main__\n    __main__.fast_find_n_with_m_permutations\n    __main__.fast_find_n_with_p_permutations\n    __main__.fast_is_cubic\n    __main__.fast_permutations\n    __main__.find_n_with_m_permutations\n    __main__.make_fast_is_cubic\n    __main__.permutation_id\n3 items passed all tests:\n   1 tests in __main__.cubes_upto\n   1 tests in __main__.cubic_permutations\n   4 tests in __main__.is_permutation_of\n6 tests in 11 items.\n6 passed and 0 failed.\nTest passed.\n"
     ]
    },
    {
     "output_type": "execute_result",
     "data": {
      "text/plain": [
       "TestResults(failed=0, attempted=6)"
      ]
     },
     "metadata": {},
     "execution_count": 98
    }
   ],
   "source": [
    "doctest.testmod(verbose=True)"
   ]
  },
  {
   "cell_type": "code",
   "execution_count": null,
   "metadata": {},
   "outputs": [],
   "source": []
  }
 ]
}