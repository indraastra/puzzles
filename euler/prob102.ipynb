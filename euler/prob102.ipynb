{
 "cells": [
  {
   "cell_type": "code",
   "execution_count": 1,
   "metadata": {},
   "outputs": [],
   "source": [
    "import itertools\n",
    "from functools import lru_cache\n",
    "import math\n",
    "from collections import defaultdict\n",
    "from fractions import Fraction"
   ]
  },
  {
   "cell_type": "code",
   "execution_count": 5,
   "metadata": {},
   "outputs": [],
   "source": [
    "def parse_triangle(line):\n",
    "    return [int(c) for c in line.strip().split(',')]\n",
    "\n",
    "with open('p102_triangles.txt') as infile:\n",
    "    triangles = [parse_triangle(l) for l in infile]    "
   ]
  },
  {
   "cell_type": "code",
   "execution_count": 23,
   "metadata": {},
   "outputs": [
    {
     "data": {
      "text/plain": [
       "[-175, 41, -421, -714, 574, -645]"
      ]
     },
     "execution_count": 23,
     "metadata": {},
     "output_type": "execute_result"
    }
   ],
   "source": [
    "triangles[1]"
   ]
  },
  {
   "cell_type": "code",
   "execution_count": 7,
   "metadata": {},
   "outputs": [],
   "source": [
    "class Line:\n",
    "    def __init__(self, x1, y1, x2, y2):\n",
    "        self.x1 = x1\n",
    "        self.y1 = y1\n",
    "        self.x2 = x2\n",
    "        self.y2 = y2\n",
    "        \n",
    "    def __call__(self, x, y):\n",
    "        return ((self.x2 - self.x1)*(y - self.y1) -\n",
    "                (self.y2 - self.y1)*(x - self.x1))"
   ]
  },
  {
   "cell_type": "code",
   "execution_count": 39,
   "metadata": {},
   "outputs": [
    {
     "name": "stdout",
     "output_type": "stream",
     "text": [
      "228\n"
     ]
    }
   ],
   "source": [
    "has_origin = 0\n",
    "for (a,b,c,d,e,f) in triangles:\n",
    "    ls = (Line(a, b, c, d), Line(c, d, e, f), Line(e, f, a, b))\n",
    "    vs = [l(0, 0) for l in ls]\n",
    "    if all(v >= 0 for v in vs) or all(v <= 0 for v in vs):\n",
    "        has_origin += 1\n",
    "print(has_origin)"
   ]
  }
 ],
 "metadata": {
  "kernelspec": {
   "display_name": "Python 3",
   "language": "python",
   "name": "python3"
  },
  "language_info": {
   "codemirror_mode": {
    "name": "ipython",
    "version": 3
   },
   "file_extension": ".py",
   "mimetype": "text/x-python",
   "name": "python",
   "nbconvert_exporter": "python",
   "pygments_lexer": "ipython3",
   "version": "3.8.3"
  }
 },
 "nbformat": 4,
 "nbformat_minor": 4
}
