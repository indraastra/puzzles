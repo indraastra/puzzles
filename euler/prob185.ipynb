{
 "cells": [
  {
   "cell_type": "code",
   "execution_count": 2,
   "id": "32f4ef81",
   "metadata": {},
   "outputs": [],
   "source": [
    "import itertools\n",
    "import re"
   ]
  },
  {
   "cell_type": "code",
   "execution_count": 3,
   "id": "c2fb7fc3",
   "metadata": {},
   "outputs": [],
   "source": [
    "line_re = re.compile(r'(\\d+) ;(\\d+).*')"
   ]
  },
  {
   "cell_type": "code",
   "execution_count": 257,
   "id": "b30b21c3",
   "metadata": {},
   "outputs": [],
   "source": [
    "def parse_known(s):\n",
    "    parsed = [\n",
    "        line_re.match(l.strip()).groups()\n",
    "        for l in s.splitlines() if l.strip()\n",
    "    ]\n",
    "    return [(p[0], int(p[1])) for p in parsed]\n",
    "\n",
    "def is_compatible(guess, known):\n",
    "    return all((sum(guess[i] == prev_guess[i] for i in range(len(guess))) == correct)\n",
    "           for (prev_guess, correct) in known)"
   ]
  },
  {
   "cell_type": "code",
   "execution_count": 258,
   "id": "f6eb028c",
   "metadata": {},
   "outputs": [],
   "source": [
    "short_known = parse_known(\"\"\"\n",
    "    90342 ;2 correct\n",
    "    70794 ;0 correct\n",
    "    39458 ;2 correct\n",
    "    34109 ;1 correct\n",
    "    51545 ;2 correct\n",
    "    12531 ;1 correct\n",
    "\"\"\")"
   ]
  },
  {
   "cell_type": "code",
   "execution_count": 259,
   "id": "726374da",
   "metadata": {},
   "outputs": [
    {
     "data": {
      "text/plain": [
       "[('90342', 2),\n",
       " ('70794', 0),\n",
       " ('39458', 2),\n",
       " ('34109', 1),\n",
       " ('51545', 2),\n",
       " ('12531', 1)]"
      ]
     },
     "execution_count": 259,
     "metadata": {},
     "output_type": "execute_result"
    }
   ],
   "source": [
    "short_known"
   ]
  },
  {
   "cell_type": "code",
   "execution_count": 26,
   "id": "4ddc6e3d",
   "metadata": {},
   "outputs": [
    {
     "data": {
      "text/plain": [
       "True"
      ]
     },
     "execution_count": 26,
     "metadata": {},
     "output_type": "execute_result"
    }
   ],
   "source": [
    "is_compatible('39542', short_known)"
   ]
  },
  {
   "cell_type": "code",
   "execution_count": 243,
   "id": "a5092d95",
   "metadata": {},
   "outputs": [],
   "source": [
    "import numpy as np\n",
    "import util\n",
    "\n",
    "def init(n):\n",
    "    return np.full((n, 10), .1)\n",
    "    \n",
    "def normalize(v):\n",
    "    s = sum(v)\n",
    "    for i in range(len(v)):\n",
    "        v[i] = float(v[i])/s\n",
    "\n",
    "def update(s, x, d):\n",
    "    if x == 0:\n",
    "        for i,c in enumerate(s):\n",
    "            n = int(c)\n",
    "            d[i][n] = 0\n",
    "        return\n",
    "    for i,c in enumerate(s):\n",
    "        n = int(c)\n",
    "        if d[i][n] == 0:\n",
    "            pass\n",
    "        #elif d[i][n] == 1:\n",
    "        #    d[i][n] == 0\n",
    "        else:\n",
    "            d[i][n] += x\n",
    "\n",
    "def possibilities(d):\n",
    "    guesses = []\n",
    "    for probs in d:\n",
    "        probs = sorted(enumerate(probs), key=lambda kv: kv[1], reverse=True)\n",
    "        guesses.append([str(i) for (i, p) in probs if p > 1e-9])\n",
    "    return (''.join(g) for g in itertools.product(*guesses))\n",
    "\n",
    "def is_compatible(guess, known):\n",
    "    #for prev, correct in known:\n",
    "    #    print('>', prev, correct, sum(guess[i] == prev[i] for i in range(len(guess))))\n",
    "    return all((sum(guess[i] == prev_guess[i] for i in range(len(guess))) == correct)\n",
    "               for (prev_guess, correct) in known)\n",
    "\n",
    "def common(a, b):\n",
    "    return [1 if a[i] == b[i] else 0 for i in range(len(a))]\n",
    "\n",
    "def solve(known):\n",
    "    n = len(known[0][0])\n",
    "    d = init(n)\n",
    "\n",
    "    for g, c in known:\n",
    "        d[range(len(g)), list(int(a) for a in g)] += c\n",
    "        #d[] += c\n",
    "\n",
    "    for (g1, c1), (g2, c2) in itertools.combinations(known, 2):\n",
    "        #if c1 == 0 or c2 == 0: continue\n",
    "        #print(g1, c1, g2, c2, sum(common(g1, g2)))\n",
    "        for i, use in enumerate(common(g1, g2)):\n",
    "            if not use: continue\n",
    "            d[i, int(g1[i])] += c1 + c2\n",
    "\n",
    "    for guess, correct in known:\n",
    "        update(guess, correct, d)\n",
    "\n",
    "    for i in range(len(d)):\n",
    "        normalize(d[i])\n",
    "        print(i, ':', ' | '.join(f'{i}:{p:.03f}' for i,p in enumerate(d[i])))\n",
    "\n",
    "#     wrong = 0\n",
    "#     for guess in possibilities(d):\n",
    "#         if is_compatible(guess, known):\n",
    "#             print('guess:', guess)\n",
    "#             print('wrong #:', wrong)\n",
    "#             break\n",
    "#         else:\n",
    "#             wrong += 1\n",
    "#             if wrong % 1_000_000 == 0:\n",
    "#                 print(wrong)\n",
    "    def eliminate(guess, probs):\n",
    "        probs[range(len(guess)), list(int(a) for a in guess)] = 0\n",
    "        \n",
    "    def scores(guess, probs):\n",
    "        return [probs[i, int(g[i])] for i in range(len(g))]\n",
    "\n",
    "    # Zero correct\n",
    "    for g, c in known:\n",
    "        if c == 0: eliminate(g, d)\n",
    "    \n",
    "    # One correct\n",
    "    g, c = max(known, key=lambda kv: max(scores(kv[0], d)) if kv[1] == 1 else 0)\n",
    "    for (s, i, n) in sorted(zip(scores(g, d), range(len(g)), g), reverse=True):\n",
    "        probs = d.copy()\n",
    "        print(f'guessing: {n}@{i} from {g} with prob {s}')\n",
    "        # Eliminate the rest.\n",
    "        for j, m in enumerate(g):\n",
    "            if i == j: continue\n",
    "            probs[j, int(m)] = 0\n",
    "        break\n",
    "\n",
    "    print('possibilities:', util.product(len(list(filter(lambda x: x > 0, p))) for p in d))\n",
    "    \n",
    "    print('possibilities:', util.product(len(list(filter(lambda x: x > 0, p))) for p in probs))\n",
    "    for i in range(len(d)):\n",
    "        print(i, ':', ' | '.join(f'{i}:{p:.03f}' for i,p in enumerate(probs[i])))"
   ]
  },
  {
   "cell_type": "code",
   "execution_count": 244,
   "id": "10136054",
   "metadata": {},
   "outputs": [
    {
     "name": "stdout",
     "output_type": "stream",
     "text": [
      "0 : 0:0.001 | 1:0.138 | 2:0.000 | 3:0.154 | 4:0.184 | 5:0.215 | 6:0.123 | 7:0.047 | 8:0.092 | 9:0.047\n",
      "1 : 0:0.037 | 1:0.037 | 2:0.090 | 3:0.000 | 4:0.025 | 5:0.025 | 6:0.270 | 7:0.108 | 8:0.396 | 9:0.013\n",
      "2 : 0:0.000 | 1:0.148 | 2:0.000 | 3:0.000 | 4:0.444 | 5:0.169 | 6:0.000 | 7:0.026 | 8:0.000 | 9:0.211\n",
      "3 : 0:0.146 | 1:0.000 | 2:0.122 | 3:0.073 | 4:0.017 | 5:0.283 | 6:0.227 | 7:0.049 | 8:0.049 | 9:0.033\n",
      "4 : 0:0.035 | 1:0.023 | 2:0.256 | 3:0.000 | 4:0.069 | 5:0.137 | 6:0.035 | 7:0.035 | 8:0.376 | 9:0.035\n",
      "5 : 0:0.029 | 1:0.015 | 2:0.015 | 3:0.198 | 4:0.085 | 5:0.381 | 6:0.106 | 7:0.128 | 8:0.000 | 9:0.043\n",
      "6 : 0:0.083 | 1:0.154 | 2:0.132 | 3:0.022 | 4:0.001 | 5:0.176 | 6:0.000 | 7:0.001 | 8:0.011 | 9:0.422\n",
      "7 : 0:0.075 | 1:0.000 | 2:0.001 | 3:0.057 | 4:0.280 | 5:0.112 | 6:0.336 | 7:0.025 | 8:0.038 | 9:0.075\n",
      "8 : 0:0.000 | 1:0.054 | 2:0.000 | 3:0.041 | 4:0.409 | 5:0.297 | 6:0.000 | 7:0.180 | 8:0.000 | 9:0.018\n",
      "9 : 0:0.126 | 1:0.126 | 2:0.018 | 3:0.101 | 4:0.000 | 5:0.076 | 6:0.051 | 7:0.376 | 8:0.051 | 9:0.076\n",
      "10 : 0:0.195 | 1:0.203 | 2:0.195 | 3:0.000 | 4:0.017 | 5:0.122 | 6:0.122 | 7:0.049 | 8:0.049 | 9:0.049\n",
      "11 : 0:0.000 | 1:0.264 | 2:0.330 | 3:0.001 | 4:0.159 | 5:0.040 | 6:0.080 | 7:0.060 | 8:0.027 | 9:0.040\n",
      "12 : 0:0.064 | 1:0.048 | 2:0.022 | 3:0.000 | 4:0.170 | 5:0.011 | 6:0.239 | 7:0.064 | 8:0.382 | 9:0.001\n",
      "13 : 0:0.137 | 1:0.028 | 2:0.219 | 3:0.239 | 4:0.062 | 5:0.246 | 6:0.042 | 7:0.028 | 8:0.000 | 9:0.001\n",
      "14 : 0:0.015 | 1:0.029 | 2:0.029 | 3:0.043 | 4:0.000 | 5:0.281 | 6:0.281 | 7:0.043 | 8:0.197 | 9:0.085\n",
      "15 : 0:0.035 | 1:0.001 | 2:0.023 | 3:0.258 | 4:0.035 | 5:0.000 | 6:0.069 | 7:0.378 | 8:0.115 | 9:0.086\n",
      "guessing: 4@2 from 3847439647293047 with prob 0.44364710848459266\n",
      "possibilities: 1853020188851841\n",
      "possibilities: 400771988324352\n",
      "0 : 0:0.001 | 1:0.138 | 2:0.000 | 3:0.000 | 4:0.184 | 5:0.215 | 6:0.123 | 7:0.047 | 8:0.092 | 9:0.047\n",
      "1 : 0:0.037 | 1:0.037 | 2:0.090 | 3:0.000 | 4:0.025 | 5:0.025 | 6:0.270 | 7:0.108 | 8:0.000 | 9:0.013\n",
      "2 : 0:0.000 | 1:0.148 | 2:0.000 | 3:0.000 | 4:0.444 | 5:0.169 | 6:0.000 | 7:0.026 | 8:0.000 | 9:0.211\n",
      "3 : 0:0.146 | 1:0.000 | 2:0.122 | 3:0.073 | 4:0.017 | 5:0.283 | 6:0.227 | 7:0.000 | 8:0.049 | 9:0.033\n",
      "4 : 0:0.035 | 1:0.023 | 2:0.256 | 3:0.000 | 4:0.000 | 5:0.137 | 6:0.035 | 7:0.035 | 8:0.376 | 9:0.035\n",
      "5 : 0:0.029 | 1:0.015 | 2:0.015 | 3:0.000 | 4:0.085 | 5:0.381 | 6:0.106 | 7:0.128 | 8:0.000 | 9:0.043\n",
      "6 : 0:0.083 | 1:0.154 | 2:0.132 | 3:0.022 | 4:0.001 | 5:0.176 | 6:0.000 | 7:0.001 | 8:0.011 | 9:0.000\n",
      "7 : 0:0.075 | 1:0.000 | 2:0.001 | 3:0.057 | 4:0.280 | 5:0.112 | 6:0.000 | 7:0.025 | 8:0.038 | 9:0.075\n",
      "8 : 0:0.000 | 1:0.054 | 2:0.000 | 3:0.041 | 4:0.000 | 5:0.297 | 6:0.000 | 7:0.180 | 8:0.000 | 9:0.018\n",
      "9 : 0:0.126 | 1:0.126 | 2:0.018 | 3:0.101 | 4:0.000 | 5:0.076 | 6:0.051 | 7:0.000 | 8:0.051 | 9:0.076\n",
      "10 : 0:0.195 | 1:0.203 | 2:0.000 | 3:0.000 | 4:0.017 | 5:0.122 | 6:0.122 | 7:0.049 | 8:0.049 | 9:0.049\n",
      "11 : 0:0.000 | 1:0.264 | 2:0.330 | 3:0.001 | 4:0.159 | 5:0.040 | 6:0.080 | 7:0.060 | 8:0.027 | 9:0.000\n",
      "12 : 0:0.064 | 1:0.048 | 2:0.022 | 3:0.000 | 4:0.170 | 5:0.011 | 6:0.239 | 7:0.064 | 8:0.382 | 9:0.001\n",
      "13 : 0:0.000 | 1:0.028 | 2:0.219 | 3:0.239 | 4:0.062 | 5:0.246 | 6:0.042 | 7:0.028 | 8:0.000 | 9:0.001\n",
      "14 : 0:0.015 | 1:0.029 | 2:0.029 | 3:0.043 | 4:0.000 | 5:0.281 | 6:0.281 | 7:0.043 | 8:0.197 | 9:0.085\n",
      "15 : 0:0.035 | 1:0.001 | 2:0.023 | 3:0.258 | 4:0.035 | 5:0.000 | 6:0.069 | 7:0.000 | 8:0.115 | 9:0.086\n"
     ]
    }
   ],
   "source": [
    "solve(long_known)"
   ]
  },
  {
   "cell_type": "code",
   "execution_count": 187,
   "id": "dd7500ca",
   "metadata": {},
   "outputs": [
    {
     "name": "stdout",
     "output_type": "stream",
     "text": [
      "0 : 0:0.005 | 1:0.106 | 2:0.005 | 3:0.457 | 4:0.005 | 5:0.206 | 6:0.005 | 7:0.000 | 8:0.005 | 9:0.206\n",
      "1 : 0:0.000 | 1:0.318 | 2:0.163 | 3:0.008 | 4:0.163 | 5:0.008 | 6:0.008 | 7:0.008 | 8:0.008 | 9:0.318\n",
      "2 : 0:0.005 | 1:0.106 | 2:0.005 | 3:0.206 | 4:0.206 | 5:0.457 | 6:0.005 | 7:0.000 | 8:0.005 | 9:0.005\n",
      "3 : 0:0.100 | 1:0.005 | 2:0.005 | 3:0.100 | 4:0.579 | 5:0.196 | 6:0.005 | 7:0.005 | 8:0.005 | 9:0.000\n",
      "4 : 0:0.006 | 1:0.124 | 2:0.243 | 3:0.006 | 4:0.000 | 5:0.243 | 6:0.006 | 7:0.006 | 8:0.243 | 9:0.124\n",
      "possibilities: 59049\n"
     ]
    }
   ],
   "source": [
    "solve(short_known)"
   ]
  },
  {
   "cell_type": "code",
   "execution_count": 170,
   "id": "6c2f6a3a",
   "metadata": {},
   "outputs": [],
   "source": [
    "long_known = parse_known(\"\"\"\n",
    "    5616185650518293 ;2 correct\n",
    "    3847439647293047 ;1 correct\n",
    "    5855462940810587 ;3 correct\n",
    "    9742855507068353 ;3 correct\n",
    "    4296849643607543 ;3 correct\n",
    "    3174248439465858 ;1 correct\n",
    "    4513559094146117 ;2 correct\n",
    "    7890971548908067 ;3 correct\n",
    "    8157356344118483 ;1 correct\n",
    "    2615250744386899 ;2 correct\n",
    "    8690095851526254 ;3 correct\n",
    "    6375711915077050 ;1 correct\n",
    "    6913859173121360 ;1 correct\n",
    "    6442889055042768 ;2 correct\n",
    "    2321386104303845 ;0 correct\n",
    "    2326509471271448 ;2 correct\n",
    "    5251583379644322 ;2 correct\n",
    "    1748270476758276 ;3 correct\n",
    "    4895722652190306 ;1 correct\n",
    "    3041631117224635 ;3 correct\n",
    "    1841236454324589 ;3 correct\n",
    "    2659862637316867 ;2 correct\n",
    "\"\"\")"
   ]
  },
  {
   "cell_type": "code",
   "execution_count": 21,
   "id": "498462fb",
   "metadata": {},
   "outputs": [
    {
     "data": {
      "text/plain": [
       "[1, 0, 0, 0, 0, 0, 0, 0, 0, 0, 0, 0, 0, 0, 0, 0]"
      ]
     },
     "execution_count": 21,
     "metadata": {},
     "output_type": "execute_result"
    }
   ],
   "source": [
    "common('3847439647293047', '3174248439465858')"
   ]
  },
  {
   "cell_type": "code",
   "execution_count": 739,
   "id": "0e136155",
   "metadata": {},
   "outputs": [],
   "source": [
    "import copy\n",
    "\n",
    "def parse_known(s):\n",
    "    parsed = [\n",
    "        line_re.match(l.strip()).groups()\n",
    "        for l in s.splitlines() if l.strip()\n",
    "    ]\n",
    "    return [(tuple(map(int, p[0])), int(p[1])) for p in parsed]\n",
    "\n",
    "\n",
    "class Mastermind:\n",
    "    def __init__(self, known):\n",
    "        self.known = [(g, c, set()) for (g, c) in known]\n",
    "        self.known.sort(key=lambda k: k[1])\n",
    "        self.pegs = len(known[0][0])\n",
    "        self.possibilities = np.full((self.pegs, 10), True, dtype=bool)\n",
    "        for guess, correct in known:\n",
    "            if correct == 0:\n",
    "                self._eliminate_guess(guess)\n",
    "\n",
    "    def __str__(self):\n",
    "        lines = [''.join(str(ps.argmax()) if sum(ps) == 1 else '?' for ps in self.possibilities)]\n",
    "        lines.append('possibilities:')\n",
    "        for i, ps in enumerate(self.possibilities):\n",
    "            ps_formatted = '|'.join(str(j) if p else 'X' for j,p in enumerate(ps))\n",
    "            lines.append(f'  {i} : {ps_formatted} | c:{sum(ps)}')\n",
    "        lines.append('known:')\n",
    "        for g, c, a in self.known:\n",
    "            line = []\n",
    "            for i, m in enumerate(g):\n",
    "                if i in a:\n",
    "                    line.append(f'✓{m} ')\n",
    "                elif not self.possibilities[i, m]:\n",
    "                    line.append(f'!{m} ')\n",
    "                else:\n",
    "                    line.append(f' {m}?')\n",
    "            lines.append(f'  {\" \".join(line)} | c:{c} | a:{len(a)} | u:{self.num_unknowns(g)}' )\n",
    "        return '\\n'.join(lines)\n",
    "    \n",
    "    def _eliminate_guess(self, guess):\n",
    "        self.possibilities[range(self.pegs), guess] = False\n",
    "        \n",
    "    def is_compatible(self, guess, correct):\n",
    "        return sum(self.possibilities[range(self.pegs), guess]) >= correct\n",
    "    \n",
    "    def remaining(self):\n",
    "        return self.possibilities.sum(axis=1)\n",
    "    \n",
    "    def num_unknowns(self, guess):\n",
    "        return sum(self.unknowns(guess))\n",
    "    \n",
    "    def unknowns(self, guess):\n",
    "        return self.possibilities[range(self.pegs), guess]\n",
    "    \n",
    "    def best_guess(self):\n",
    "        #hit_rate = lambda k: (k[1]-len(k[2]))/self.num_unknowns(k[0]) if k[1] else 0\n",
    "        #return max(self.known, key=hit_rate)[0]\n",
    "        scores = []\n",
    "        for g,c,a in self.known:\n",
    "            remaining = c - len(a)\n",
    "            unknowns = self.num_unknowns(g)\n",
    "            if unknowns == remaining and remaining > 0:\n",
    "                score = (-1, 0)\n",
    "            elif remaining > 0:\n",
    "                score = (remaining, unknowns)\n",
    "            else:\n",
    "                score = (100, 0)\n",
    "            scores.append((g, score))\n",
    "        #remaining = lambda k: (k[1]-len(k[2]), self.num_unknowns(k[0])) if (k[1]-len(k[2])) else (100, 100)\n",
    "        return min(scores, key=lambda kv: kv[1])[0]\n",
    "    \n",
    "    def solvable(self):\n",
    "        return (all(r > 0 for r in self.remaining()) and\n",
    "                all(len(a) <= c and self.is_compatible(g, c) and self.num_unknowns(g) >= c for (g, c, a) in self.known))\n",
    "    \n",
    "    def solved(self):\n",
    "        return all(r == 1 for r in self.remaining()) and all(len(a) == c for (g, c, a) in self.known)\n",
    "    \n",
    "    def support(self, pos, n):\n",
    "        return sum(g[pos] == n for (g, _, _) in self.known)\n",
    "    \n",
    "    def assigned(self, pos, n):\n",
    "        return self.possibilities[pos, n] and self.possibilities[pos].sum() == 1\n",
    "    \n",
    "    def eliminate(self, pos, n):\n",
    "        self.possibilities[pos, n] = False\n",
    "    \n",
    "    def assign(self, pos, n):\n",
    "        new = copy.deepcopy(self)\n",
    "        new.possibilities[pos, :] = False\n",
    "        new.possibilities[pos, n] = True\n",
    "        for g, c, a in new.known:\n",
    "            if g[pos] == n: \n",
    "                a.add(pos)\n",
    "\n",
    "            if len(a) == c:\n",
    "                # Eliminate row\n",
    "                for pos2, m in enumerate(g):\n",
    "                    if pos2 in a: continue\n",
    "                    new.eliminate(pos2, m)\n",
    "        return new\n",
    "    \n",
    "\n",
    "def possible_guesses(m, g):\n",
    "    guesses = []\n",
    "    for pos, can in enumerate(m.unknowns(g)):\n",
    "        if not can: continue\n",
    "        if m.assigned(pos, g[pos]): continue\n",
    "        guesses.append((pos, g[pos]))\n",
    "    guesses.sort(key=lambda k: m.support(*k))\n",
    "    return guesses"
   ]
  },
  {
   "cell_type": "code",
   "execution_count": 740,
   "id": "33d2c786",
   "metadata": {},
   "outputs": [],
   "source": [
    "def solve(known):\n",
    "    m = Mastermind(known)\n",
    "    guesses = possible_guesses(m, m.best_guess())\n",
    "    history = []\n",
    "    backtracked = 0\n",
    "    while True:\n",
    "        move = guesses.pop()\n",
    "        #print(m.best_guess(), move)\n",
    "        history.append((m, guesses, move))\n",
    "        m = m.assign(*move)\n",
    "        #print(m)\n",
    "        if m.solved():\n",
    "            print('solved!')\n",
    "            print(m)\n",
    "            break\n",
    "        guesses = possible_guesses(m, m.best_guess())\n",
    "        if not guesses or not m.solvable():\n",
    "            while not guesses or not m.solvable():\n",
    "                m, guesses, prev_move = history.pop()\n",
    "                # Eliminate the previous possibility.\n",
    "                #print('backtracking and eliminating', prev_move)\n",
    "                m.eliminate(*prev_move)\n",
    "                backtracked += 1\n",
    "#         if backtracked > 2:\n",
    "#             break"
   ]
  },
  {
   "cell_type": "code",
   "execution_count": 717,
   "id": "83053ff3",
   "metadata": {},
   "outputs": [],
   "source": [
    "short_known = parse_known(\"\"\"\n",
    "    90342 ;2 correct\n",
    "    70794 ;0 correct\n",
    "    39458 ;2 correct\n",
    "    34109 ;1 correct\n",
    "    51545 ;2 correct\n",
    "    12531 ;1 correct\n",
    "\"\"\")"
   ]
  },
  {
   "cell_type": "code",
   "execution_count": 706,
   "id": "b4514589",
   "metadata": {},
   "outputs": [
    {
     "name": "stdout",
     "output_type": "stream",
     "text": [
      "solved!\n",
      "39542\n",
      "possibilities:\n",
      "  0 : X|X|X|3|X|X|X|X|X|X | c:1\n",
      "  1 : X|X|X|X|X|X|X|X|X|9 | c:1\n",
      "  2 : X|X|X|X|X|5|X|X|X|X | c:1\n",
      "  3 : X|X|X|X|4|X|X|X|X|X | c:1\n",
      "  4 : X|X|2|X|X|X|X|X|X|X | c:1\n",
      "known:\n",
      "  !9  !0  !3  ✓4  ✓2  | c:2 | a:2\n",
      "  !7  !0  !7  !9  !4  | c:0 | a:0\n",
      "  ✓3  ✓9  !4  !5  !8  | c:2 | a:2\n",
      "  ✓3  !4  !1  !0  !9  | c:1 | a:1\n",
      "  !5  !1  ✓5  ✓4  !5  | c:2 | a:2\n",
      "  !1  !2  ✓5  !3  !1  | c:1 | a:1\n",
      "CPU times: user 19 ms, sys: 95 µs, total: 19 ms\n",
      "Wall time: 15.1 ms\n"
     ]
    }
   ],
   "source": [
    "%%time\n",
    "solve(short_known)"
   ]
  },
  {
   "cell_type": "code",
   "execution_count": 745,
   "id": "5f4b3069",
   "metadata": {},
   "outputs": [],
   "source": [
    "long_known = parse_known(\"\"\"\n",
    "    5616185650518293 ;2 correct\n",
    "    3847439647293047 ;1 correct\n",
    "    5855462940810587 ;3 correct\n",
    "    9742855507068353 ;3 correct\n",
    "    4296849643607543 ;3 correct\n",
    "    3174248439465858 ;1 correct\n",
    "    4513559094146117 ;2 correct\n",
    "    7890971548908067 ;3 correct\n",
    "    8157356344118483 ;1 correct\n",
    "    2615250744386899 ;2 correct\n",
    "    8690095851526254 ;3 correct\n",
    "    6375711915077050 ;1 correct\n",
    "    6913859173121360 ;1 correct\n",
    "    6442889055042768 ;2 correct\n",
    "    2321386104303845 ;0 correct\n",
    "    2326509471271448 ;2 correct\n",
    "    5251583379644322 ;2 correct\n",
    "    1748270476758276 ;3 correct\n",
    "    4895722652190306 ;1 correct\n",
    "    3041631117224635 ;3 correct\n",
    "    1841236454324589 ;3 correct\n",
    "    2659862637316867 ;2 correct\n",
    "\"\"\")"
   ]
  },
  {
   "cell_type": "code",
   "execution_count": 743,
   "id": "3975b724",
   "metadata": {},
   "outputs": [],
   "source": [
    "long_known = parse_known(\"\"\"\n",
    "    5616185650518293 ;15 correct\n",
    "    0123456789097654 ;1 correct\n",
    "\"\"\")"
   ]
  },
  {
   "cell_type": "code",
   "execution_count": 746,
   "id": "fd8e8219",
   "metadata": {},
   "outputs": [
    {
     "ename": "KeyboardInterrupt",
     "evalue": "",
     "output_type": "error",
     "traceback": [
      "\u001b[0;31m---------------------------------------------------------------------------\u001b[0m",
      "\u001b[0;31mKeyboardInterrupt\u001b[0m                         Traceback (most recent call last)",
      "\u001b[0;32m<timed eval>\u001b[0m in \u001b[0;36m<module>\u001b[0;34m\u001b[0m\n",
      "\u001b[0;32m/tmp/ipykernel_1458330/3210246899.py\u001b[0m in \u001b[0;36msolve\u001b[0;34m(known)\u001b[0m\n\u001b[1;32m     16\u001b[0m         \u001b[0mguesses\u001b[0m \u001b[0;34m=\u001b[0m \u001b[0mpossible_guesses\u001b[0m\u001b[0;34m(\u001b[0m\u001b[0mm\u001b[0m\u001b[0;34m,\u001b[0m \u001b[0mm\u001b[0m\u001b[0;34m.\u001b[0m\u001b[0mbest_guess\u001b[0m\u001b[0;34m(\u001b[0m\u001b[0;34m)\u001b[0m\u001b[0;34m)\u001b[0m\u001b[0;34m\u001b[0m\u001b[0;34m\u001b[0m\u001b[0m\n\u001b[1;32m     17\u001b[0m         \u001b[0;32mif\u001b[0m \u001b[0;32mnot\u001b[0m \u001b[0mguesses\u001b[0m \u001b[0;32mor\u001b[0m \u001b[0;32mnot\u001b[0m \u001b[0mm\u001b[0m\u001b[0;34m.\u001b[0m\u001b[0msolvable\u001b[0m\u001b[0;34m(\u001b[0m\u001b[0;34m)\u001b[0m\u001b[0;34m:\u001b[0m\u001b[0;34m\u001b[0m\u001b[0;34m\u001b[0m\u001b[0m\n\u001b[0;32m---> 18\u001b[0;31m             \u001b[0;32mwhile\u001b[0m \u001b[0;32mnot\u001b[0m \u001b[0mguesses\u001b[0m \u001b[0;32mor\u001b[0m \u001b[0;32mnot\u001b[0m \u001b[0mm\u001b[0m\u001b[0;34m.\u001b[0m\u001b[0msolvable\u001b[0m\u001b[0;34m(\u001b[0m\u001b[0;34m)\u001b[0m\u001b[0;34m:\u001b[0m\u001b[0;34m\u001b[0m\u001b[0;34m\u001b[0m\u001b[0m\n\u001b[0m\u001b[1;32m     19\u001b[0m                 \u001b[0mm\u001b[0m\u001b[0;34m,\u001b[0m \u001b[0mguesses\u001b[0m\u001b[0;34m,\u001b[0m \u001b[0mprev_move\u001b[0m \u001b[0;34m=\u001b[0m \u001b[0mhistory\u001b[0m\u001b[0;34m.\u001b[0m\u001b[0mpop\u001b[0m\u001b[0;34m(\u001b[0m\u001b[0;34m)\u001b[0m\u001b[0;34m\u001b[0m\u001b[0;34m\u001b[0m\u001b[0m\n\u001b[1;32m     20\u001b[0m                 \u001b[0;31m# Eliminate the previous possibility.\u001b[0m\u001b[0;34m\u001b[0m\u001b[0;34m\u001b[0m\u001b[0;34m\u001b[0m\u001b[0m\n",
      "\u001b[0;32m/tmp/ipykernel_1458330/1515976562.py\u001b[0m in \u001b[0;36msolvable\u001b[0;34m(self)\u001b[0m\n\u001b[1;32m     72\u001b[0m     \u001b[0;32mdef\u001b[0m \u001b[0msolvable\u001b[0m\u001b[0;34m(\u001b[0m\u001b[0mself\u001b[0m\u001b[0;34m)\u001b[0m\u001b[0;34m:\u001b[0m\u001b[0;34m\u001b[0m\u001b[0;34m\u001b[0m\u001b[0m\n\u001b[1;32m     73\u001b[0m         return (all(r > 0 for r in self.remaining()) and\n\u001b[0;32m---> 74\u001b[0;31m                 all(len(a) <= c and self.is_compatible(g, c) and self.num_unknowns(g) >= c for (g, c, a) in self.known))\n\u001b[0m\u001b[1;32m     75\u001b[0m \u001b[0;34m\u001b[0m\u001b[0m\n\u001b[1;32m     76\u001b[0m     \u001b[0;32mdef\u001b[0m \u001b[0msolved\u001b[0m\u001b[0;34m(\u001b[0m\u001b[0mself\u001b[0m\u001b[0;34m)\u001b[0m\u001b[0;34m:\u001b[0m\u001b[0;34m\u001b[0m\u001b[0;34m\u001b[0m\u001b[0m\n",
      "\u001b[0;32m/tmp/ipykernel_1458330/1515976562.py\u001b[0m in \u001b[0;36m<genexpr>\u001b[0;34m(.0)\u001b[0m\n\u001b[1;32m     72\u001b[0m     \u001b[0;32mdef\u001b[0m \u001b[0msolvable\u001b[0m\u001b[0;34m(\u001b[0m\u001b[0mself\u001b[0m\u001b[0;34m)\u001b[0m\u001b[0;34m:\u001b[0m\u001b[0;34m\u001b[0m\u001b[0;34m\u001b[0m\u001b[0m\n\u001b[1;32m     73\u001b[0m         return (all(r > 0 for r in self.remaining()) and\n\u001b[0;32m---> 74\u001b[0;31m                 all(len(a) <= c and self.is_compatible(g, c) and self.num_unknowns(g) >= c for (g, c, a) in self.known))\n\u001b[0m\u001b[1;32m     75\u001b[0m \u001b[0;34m\u001b[0m\u001b[0m\n\u001b[1;32m     76\u001b[0m     \u001b[0;32mdef\u001b[0m \u001b[0msolved\u001b[0m\u001b[0;34m(\u001b[0m\u001b[0mself\u001b[0m\u001b[0;34m)\u001b[0m\u001b[0;34m:\u001b[0m\u001b[0;34m\u001b[0m\u001b[0;34m\u001b[0m\u001b[0m\n",
      "\u001b[0;32m/tmp/ipykernel_1458330/1515976562.py\u001b[0m in \u001b[0;36mnum_unknowns\u001b[0;34m(self, guess)\u001b[0m\n\u001b[1;32m     48\u001b[0m \u001b[0;34m\u001b[0m\u001b[0m\n\u001b[1;32m     49\u001b[0m     \u001b[0;32mdef\u001b[0m \u001b[0mnum_unknowns\u001b[0m\u001b[0;34m(\u001b[0m\u001b[0mself\u001b[0m\u001b[0;34m,\u001b[0m \u001b[0mguess\u001b[0m\u001b[0;34m)\u001b[0m\u001b[0;34m:\u001b[0m\u001b[0;34m\u001b[0m\u001b[0;34m\u001b[0m\u001b[0m\n\u001b[0;32m---> 50\u001b[0;31m         \u001b[0;32mreturn\u001b[0m \u001b[0msum\u001b[0m\u001b[0;34m(\u001b[0m\u001b[0mself\u001b[0m\u001b[0;34m.\u001b[0m\u001b[0munknowns\u001b[0m\u001b[0;34m(\u001b[0m\u001b[0mguess\u001b[0m\u001b[0;34m)\u001b[0m\u001b[0;34m)\u001b[0m\u001b[0;34m\u001b[0m\u001b[0;34m\u001b[0m\u001b[0m\n\u001b[0m\u001b[1;32m     51\u001b[0m \u001b[0;34m\u001b[0m\u001b[0m\n\u001b[1;32m     52\u001b[0m     \u001b[0;32mdef\u001b[0m \u001b[0munknowns\u001b[0m\u001b[0;34m(\u001b[0m\u001b[0mself\u001b[0m\u001b[0;34m,\u001b[0m \u001b[0mguess\u001b[0m\u001b[0;34m)\u001b[0m\u001b[0;34m:\u001b[0m\u001b[0;34m\u001b[0m\u001b[0;34m\u001b[0m\u001b[0m\n",
      "\u001b[0;31mKeyboardInterrupt\u001b[0m: "
     ]
    }
   ],
   "source": [
    "%%time\n",
    "solve(long_known)"
   ]
  },
  {
   "cell_type": "code",
   "execution_count": null,
   "id": "e0520890",
   "metadata": {},
   "outputs": [],
   "source": []
  },
  {
   "cell_type": "code",
   "execution_count": null,
   "id": "e6c679b5",
   "metadata": {},
   "outputs": [],
   "source": []
  }
 ],
 "metadata": {
  "kernelspec": {
   "display_name": "Python 3 (ipykernel)",
   "language": "python",
   "name": "python3"
  },
  "language_info": {
   "codemirror_mode": {
    "name": "ipython",
    "version": 3
   },
   "file_extension": ".py",
   "mimetype": "text/x-python",
   "name": "python",
   "nbconvert_exporter": "python",
   "pygments_lexer": "ipython3",
   "version": "3.8.10"
  }
 },
 "nbformat": 4,
 "nbformat_minor": 5
}
