{
 "cells": [
  {
   "cell_type": "code",
   "execution_count": 1,
   "id": "75183b2f",
   "metadata": {},
   "outputs": [],
   "source": [
    "def is_increasing(n):\n",
    "    n_str = str(n)\n",
    "    return n_str == ''.join(sorted(n_str)) \n",
    "\n",
    "def is_decreasing(n):\n",
    "    n_str = str(n)\n",
    "    return n_str == ''.join(reversed(sorted(n_str))) \n",
    "\n",
    "def is_bouncy(n):\n",
    "    return not (is_increasing(n) or is_decreasing(n))"
   ]
  },
  {
   "cell_type": "code",
   "execution_count": 2,
   "id": "ecb25323",
   "metadata": {},
   "outputs": [
    {
     "data": {
      "text/plain": [
       "False"
      ]
     },
     "execution_count": 2,
     "metadata": {},
     "output_type": "execute_result"
    }
   ],
   "source": [
    "is_bouncy(123)"
   ]
  },
  {
   "cell_type": "code",
   "execution_count": 3,
   "id": "e6931701",
   "metadata": {},
   "outputs": [
    {
     "data": {
      "text/plain": [
       "True"
      ]
     },
     "execution_count": 3,
     "metadata": {},
     "output_type": "execute_result"
    }
   ],
   "source": [
    "is_bouncy(155349)"
   ]
  },
  {
   "cell_type": "code",
   "execution_count": 5,
   "id": "a03025f3",
   "metadata": {},
   "outputs": [],
   "source": [
    "def proportion_bouncy(upto_n):\n",
    "    return sum(is_bouncy(n) for n in range(1, upto_n + 1)) / upto_n"
   ]
  },
  {
   "cell_type": "code",
   "execution_count": 7,
   "id": "7198c125",
   "metadata": {},
   "outputs": [
    {
     "data": {
      "text/plain": [
       "0.9"
      ]
     },
     "execution_count": 7,
     "metadata": {},
     "output_type": "execute_result"
    }
   ],
   "source": [
    "proportion_bouncy(21780)"
   ]
  },
  {
   "cell_type": "code",
   "execution_count": 46,
   "id": "0dcf8643",
   "metadata": {},
   "outputs": [],
   "source": [
    "def find_bouncy_proportion(p):\n",
    "    bouncy = 0\n",
    "    n = 100\n",
    "    while bouncy / n < p:\n",
    "        n += 1\n",
    "        if is_bouncy(n):\n",
    "            bouncy += 1\n",
    "    return bouncy, n"
   ]
  },
  {
   "cell_type": "code",
   "execution_count": 50,
   "id": "2771c606",
   "metadata": {},
   "outputs": [
    {
     "name": "stdout",
     "output_type": "stream",
     "text": [
      "CPU times: user 2.35 s, sys: 0 ns, total: 2.35 s\n",
      "Wall time: 2.35 s\n"
     ]
    },
    {
     "data": {
      "text/plain": [
       "(1571130, 1587000)"
      ]
     },
     "execution_count": 50,
     "metadata": {},
     "output_type": "execute_result"
    }
   ],
   "source": [
    "%%time\n",
    "find_bouncy_proportion(.99)"
   ]
  },
  {
   "cell_type": "code",
   "execution_count": null,
   "id": "8277f848",
   "metadata": {},
   "outputs": [],
   "source": []
  }
 ],
 "metadata": {
  "kernelspec": {
   "display_name": "Python 3 (ipykernel)",
   "language": "python",
   "name": "python3"
  },
  "language_info": {
   "codemirror_mode": {
    "name": "ipython",
    "version": 3
   },
   "file_extension": ".py",
   "mimetype": "text/x-python",
   "name": "python",
   "nbconvert_exporter": "python",
   "pygments_lexer": "ipython3",
   "version": "3.8.10"
  }
 },
 "nbformat": 4,
 "nbformat_minor": 5
}
