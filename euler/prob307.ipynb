{
 "cells": [
  {
   "cell_type": "code",
   "execution_count": 1,
   "id": "07db6202",
   "metadata": {},
   "outputs": [],
   "source": [
    "import util\n",
    "import math\n",
    "from functools import lru_cache\n",
    "from tqdm import tqdm\n",
    "import numpy as np\n",
    "from collections import Counter"
   ]
  },
  {
   "cell_type": "code",
   "execution_count": 116,
   "id": "fe3b44c5",
   "metadata": {},
   "outputs": [],
   "source": [
    "@lru_cache(maxsize=None)\n",
    "def comb(n, r):\n",
    "    if r >= n or n <= 1 or r <= 1: return math.comb(n, r)\n",
    "    return math.comb(n, r) #n*comb(n, r)//(n-r)\n",
    "\n",
    "@lru_cache(maxsize=None)\n",
    "def perm(n, r):\n",
    "    if r >= n or n <= 1 or r <= 1: return math.perm(n, r)\n",
    "    #print(n, r, n-1, r-2)\n",
    "    return n*(n-r+1)*perm(n-1, r-2)\n",
    "\n",
    "@lru_cache(maxsize=None)\n",
    "def p2(k, n):\n",
    "    if n == 0: return 1\n",
    "    return comb(k, 2) * p2(k-2, n-1)\n",
    "\n",
    "@lru_cache(maxsize=None)\n",
    "def p12(k, n):\n",
    "    num = 0\n",
    "    for twos in tqdm(range(k // 2 + 1)):\n",
    "        kp = k-twos*2\n",
    "        np = n-twos\n",
    "        #print(k, n, twos, kp, np)\n",
    "        num += perm(np, kp) * comb(n, np) * comb(k, kp) * p2(twos*2, twos)\n",
    "    return num\n",
    "\n",
    "def p(k, n):\n",
    "    return 1 - (p12(k, n) / n**k)\n",
    "\n",
    "def p_sim(k, n):\n",
    "    total = 200_000\n",
    "    c = 0\n",
    "    for _ in range(total):\n",
    "        if any(v >= 3 for v in Counter(np.random.randint(n, size=k)).values()):\n",
    "            c += 1\n",
    "    return c / total"
   ]
  },
  {
   "cell_type": "code",
   "execution_count": 118,
   "id": "a87aff88",
   "metadata": {},
   "outputs": [
    {
     "name": "stderr",
     "output_type": "stream",
     "text": [
      "10001it [00:00, 69313.19it/s]\n",
      "100%|█████████████████████████████████████████████████████████████████████████████████████████████████████████████| 10001/10001 [16:24<00:00, 10.16it/s]"
     ]
    },
    {
     "name": "stdout",
     "output_type": "stream",
     "text": [
      "CPU times: user 16min 24s, sys: 1.85 s, total: 16min 26s\n",
      "Wall time: 16min 24s\n"
     ]
    },
    {
     "name": "stderr",
     "output_type": "stream",
     "text": [
      "\n"
     ]
    },
    {
     "data": {
      "text/plain": [
       "0.731172025128296"
      ]
     },
     "execution_count": 118,
     "metadata": {},
     "output_type": "execute_result"
    }
   ],
   "source": [
    "%%time\n",
    "k, n = 20_000, 1_000_000\n",
    "twosr = range(k // 2 + 1)\n",
    "\n",
    "for twos in tqdm(reversed(twosr)):\n",
    "    perm(n-twos, k-twos*2)\n",
    "\n",
    "for twos in twosr:\n",
    "    p2(twos*2, twos)\n",
    "    \n",
    "p(k, n)"
   ]
  },
  {
   "cell_type": "code",
   "execution_count": 100,
   "id": "823ca470",
   "metadata": {},
   "outputs": [
    {
     "data": {
      "text/plain": [
       "0.239005"
      ]
     },
     "execution_count": 100,
     "metadata": {},
     "output_type": "execute_result"
    }
   ],
   "source": [
    "p_sim(17, 46)"
   ]
  },
  {
   "cell_type": "code",
   "execution_count": 115,
   "id": "ac8b1562",
   "metadata": {},
   "outputs": [
    {
     "name": "stderr",
     "output_type": "stream",
     "text": [
      "100%|████████████████████████████████████████████████████████████████████████████████████████████████████████████████████| 9/9 [00:00<00:00, 609.98it/s]"
     ]
    },
    {
     "name": "stdout",
     "output_type": "stream",
     "text": [
      "46 17 45 15\n",
      "45 15 44 13\n",
      "44 13 43 11\n",
      "43 11 42 9\n",
      "42 9 41 7\n",
      "41 7 40 5\n",
      "40 5 39 3\n",
      "39 3 38 1\n"
     ]
    },
    {
     "name": "stderr",
     "output_type": "stream",
     "text": [
      "\n"
     ]
    },
    {
     "data": {
      "text/plain": [
       "0.23735911597746928"
      ]
     },
     "execution_count": 115,
     "metadata": {},
     "output_type": "execute_result"
    }
   ],
   "source": [
    "p(17, 46)"
   ]
  },
  {
   "cell_type": "code",
   "execution_count": null,
   "id": "88c762da",
   "metadata": {},
   "outputs": [],
   "source": []
  }
 ],
 "metadata": {
  "kernelspec": {
   "display_name": "Python 3 (ipykernel)",
   "language": "python",
   "name": "python3"
  },
  "language_info": {
   "codemirror_mode": {
    "name": "ipython",
    "version": 3
   },
   "file_extension": ".py",
   "mimetype": "text/x-python",
   "name": "python",
   "nbconvert_exporter": "python",
   "pygments_lexer": "ipython3",
   "version": "3.8.10"
  }
 },
 "nbformat": 4,
 "nbformat_minor": 5
}
