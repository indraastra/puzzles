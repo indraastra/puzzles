{
 "cells": [
  {
   "cell_type": "code",
   "execution_count": 119,
   "metadata": {},
   "outputs": [],
   "source": [
    "import util\n",
    "from tqdm import tqdm\n",
    "import math\n",
    "\n",
    "from importlib import reload"
   ]
  },
  {
   "cell_type": "code",
   "execution_count": 12,
   "metadata": {},
   "outputs": [
    {
     "data": {
      "text/plain": [
       "<module 'util' from '/home/vtalwar/Workspace/puzzles/euler/util.py'>"
      ]
     },
     "execution_count": 12,
     "metadata": {},
     "output_type": "execute_result"
    }
   ],
   "source": [
    "reload(util)"
   ]
  },
  {
   "cell_type": "code",
   "execution_count": 160,
   "metadata": {},
   "outputs": [],
   "source": [
    "bound = 100_000"
   ]
  },
  {
   "cell_type": "code",
   "execution_count": 167,
   "metadata": {},
   "outputs": [
    {
     "name": "stderr",
     "output_type": "stream",
     "text": [
      "100%|██████████| 99998/99998 [00:30<00:00, 3303.11it/s] \n"
     ]
    }
   ],
   "source": [
    "partitions = [1, 1]\n",
    "\n",
    "# From the recurrence relation in Wikipedia:\n",
    "# https://en.wikipedia.org/wiki/Partition_function_(number_theory)#Recurrence_relations\n",
    "for n in tqdm(range(2, bound)):\n",
    "    sq24p1 = math.sqrt(24*n+1)\n",
    "    p = 0\n",
    "    for k in range(-int((sq24p1-1)/6), int((sq24p1+1)/6)+1):\n",
    "        if k == 0: continue\n",
    "        #print(n, '\\t', k, int((-1)**(k+1)) * partitions[n - k*(3*k-1)//2])\n",
    "        p += int((-1)**(k+1)) * partitions[n - k*(3*k-1)//2]\n",
    "    partitions.append(p)"
   ]
  },
  {
   "cell_type": "code",
   "execution_count": 162,
   "metadata": {},
   "outputs": [
    {
     "data": {
      "text/plain": [
       "[1, 1, 2, 3, 5, 7, 11, 15, 22, 30]"
      ]
     },
     "execution_count": 162,
     "metadata": {},
     "output_type": "execute_result"
    }
   ],
   "source": [
    "partitions[:10]"
   ]
  },
  {
   "cell_type": "code",
   "execution_count": 165,
   "metadata": {},
   "outputs": [
    {
     "name": "stdout",
     "output_type": "stream",
     "text": [
      "55374\n",
      "CPU times: user 60.7 ms, sys: 0 ns, total: 60.7 ms\n",
      "Wall time: 58.6 ms\n"
     ]
    }
   ],
   "source": [
    "%%time\n",
    "for i, p in enumerate(partitions):\n",
    "    if p % 1_000_000 == 0:\n",
    "        print(i)"
   ]
  }
 ],
 "metadata": {
  "kernelspec": {
   "display_name": "Python 3",
   "language": "python",
   "name": "python3"
  },
  "language_info": {
   "codemirror_mode": {
    "name": "ipython",
    "version": 3
   },
   "file_extension": ".py",
   "mimetype": "text/x-python",
   "name": "python",
   "nbconvert_exporter": "python",
   "pygments_lexer": "ipython3",
   "version": "3.9.2"
  }
 },
 "nbformat": 4,
 "nbformat_minor": 2
}
