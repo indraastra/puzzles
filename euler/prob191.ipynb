{
  "nbformat": 4,
  "nbformat_minor": 0,
  "metadata": {
    "colab": {
      "name": "prob191",
      "provenance": [],
      "collapsed_sections": []
    },
    "kernelspec": {
      "name": "python3",
      "display_name": "Python 3"
    },
    "language_info": {
      "name": "python"
    }
  },
  "cells": [
    {
      "cell_type": "code",
      "metadata": {
        "id": "6a25IHcgK_xw"
      },
      "source": [
        "import itertools\n",
        "from functools import lru_cache\n",
        "import math\n",
        "from collections import defaultdict\n",
        "from fractions import Fraction"
      ],
      "execution_count": null,
      "outputs": []
    },
    {
      "cell_type": "code",
      "metadata": {
        "id": "YCpBuMJwi-_4"
      },
      "source": [
        "@lru_cache(maxsize=None)\n",
        "def A(i, n=3, c=3):\n",
        "  \"\"\"Probability of being absent at least 3 consecutive days.\"\"\"\n",
        "  if i < n:\n",
        "    return 0\n",
        "  elif i == n:\n",
        "    return Fraction(1, c**i)\n",
        "  return A(i-1, n, c) + (1 - A(i-n-1, n, c))*Fraction(c-1, c)*Fraction(1, c**n)\n",
        "\n",
        "@lru_cache(maxsize=None)\n",
        "def A_L0(i):\n",
        "  return A(i, c=2) * Fraction(2, 3)**i\n",
        "\n",
        "@lru_cache(maxsize=None)\n",
        "def A_L1(i, n=3):\n",
        "  if i <= 3:\n",
        "    return 0\n",
        "  p = 0\n",
        "  for j in range(i):\n",
        "    l = j\n",
        "    r = i - j - 1\n",
        "    l_not_r = A_L0(l)*(1 - A(r, c=2))*Fraction(2, 3)**r\n",
        "    r_not_l = A_L0(r)*(1 - A(l, c=2))*Fraction(2, 3)**l\n",
        "    l_and_r = A(l, c=2)*A(r, c=2)*Fraction(2, 3)**(i-1)\n",
        "    subp = (l_not_r + r_not_l + l_and_r)*Fraction(1, 3)\n",
        "    #print(j, l, r, lp*Fraction(1, 3), rp*Fraction(1, 3))\n",
        "    p += subp\n",
        "  return p\n",
        "\n",
        "@lru_cache(maxsize=None)\n",
        "def B(i):\n",
        "  \"\"\"Probability of being late at least twice.\"\"\"\n",
        "  if i < 2:\n",
        "    return 0\n",
        "  return 1 - (Fraction(2, 3)**i + i*Fraction(2**(i-1), 3**i))\n",
        "\n",
        "def num_prize_strings(i, c=3):\n",
        "  p1 = A_L0(i)\n",
        "  p2 = A_L1(i)\n",
        "  p3 = B(i)\n",
        "  #print(f'A_L0: {p1}, A_L1: {p2}, B: {p3}')\n",
        "  return c**i * (1 - p1 - p2 - p3) "
      ],
      "execution_count": null,
      "outputs": []
    },
    {
      "cell_type": "code",
      "metadata": {
        "colab": {
          "base_uri": "https://localhost:8080/"
        },
        "id": "tYU6FG7vbWr1",
        "outputId": "2b75509f-4df5-4605-b4b5-58c50cc38fd1"
      },
      "source": [
        "A(1, c=2)"
      ],
      "execution_count": null,
      "outputs": [
        {
          "output_type": "execute_result",
          "data": {
            "text/plain": [
              "0"
            ]
          },
          "metadata": {
            "tags": []
          },
          "execution_count": 8
        }
      ]
    },
    {
      "cell_type": "code",
      "metadata": {
        "colab": {
          "base_uri": "https://localhost:8080/"
        },
        "id": "-oFkTWGbG9_s",
        "outputId": "b715b16c-d18e-43d1-9c02-e9217e7a5ccc"
      },
      "source": [
        "A_L1(7)"
      ],
      "execution_count": null,
      "outputs": [
        {
          "output_type": "execute_result",
          "data": {
            "text/plain": [
              "Fraction(37, 729)"
            ]
          },
          "metadata": {
            "tags": []
          },
          "execution_count": 9
        }
      ]
    },
    {
      "cell_type": "code",
      "metadata": {
        "colab": {
          "base_uri": "https://localhost:8080/"
        },
        "id": "Kck4b9G8jnYG",
        "outputId": "fa63b330-49b2-4636-b0a5-b6531c1c551f"
      },
      "source": [
        "%%time\n",
        "for i in range(3, 31):\n",
        "  print(i, A(i)*3**i, B(i)*3**i, num_prize_strings(i))"
      ],
      "execution_count": null,
      "outputs": [
        {
          "output_type": "stream",
          "text": [
            "3 1 7 19\n",
            "4 5 33 43\n",
            "5 21 131 94\n",
            "6 81 473 200\n",
            "7 295 1611 418\n",
            "8 1037 5281 861\n",
            "9 3555 16867 1753\n",
            "10 11961 52905 3536\n",
            "11 39667 163835 7077\n",
            "12 130049 502769 14071\n",
            "13 422403 1532883 27820\n",
            "14 1361385 4651897 54736\n",
            "15 4359115 14070379 107236\n",
            "16 13880129 42456897 209305\n",
            "17 43984227 127894979 407167\n",
            "18 138795849 384799049 789720\n",
            "19 436367131 1156756443 1527607\n",
            "20 1367434577 3475250065 2947811\n",
            "21 4272615603 10436235955 5675882\n",
            "22 13315096089 31330727961 10906776\n",
            "23 41397076939 94038321227 20920006\n",
            "24 128429930465 282211432673 40058421\n",
            "25 397665266595 846835624611 76585973\n",
            "26 1229127726825 2540926304233 146210464\n",
            "27 3792875384251 7623651327931 278757449\n",
            "28 11686625364785 22872765923121 530803311\n",
            "29 35959122780051 68622055865747 1009569304\n",
            "30 110502844543161 205873952225465 1918080160\n",
            "CPU times: user 52.3 ms, sys: 171 µs, total: 52.5 ms\n",
            "Wall time: 53.1 ms\n"
          ],
          "name": "stdout"
        }
      ]
    },
    {
      "cell_type": "code",
      "metadata": {
        "colab": {
          "base_uri": "https://localhost:8080/"
        },
        "id": "lz8XjIN1n6Dx",
        "outputId": "a9c2dab2-d6f4-4a10-b902-4aaa727e5f07"
      },
      "source": [
        "found = 0\n",
        "total = 0\n",
        "for c in sorted(itertools.product('ALO', repeat=7)):\n",
        "  s = ''.join(c)\n",
        "  if 'AAA' in s and s.count('L') == 1:\n",
        "    found += 1\n",
        "    #print(s)\n",
        "  total += 1\n",
        "print(Fraction(found, total))"
      ],
      "execution_count": null,
      "outputs": [
        {
          "output_type": "stream",
          "text": [
            "37/729\n"
          ],
          "name": "stdout"
        }
      ]
    },
    {
      "cell_type": "code",
      "metadata": {
        "colab": {
          "base_uri": "https://localhost:8080/"
        },
        "id": "Zg18U0GQeREW",
        "outputId": "54a60a5c-0c1a-4b71-be2a-15970295874a"
      },
      "source": [
        "37*3"
      ],
      "execution_count": null,
      "outputs": [
        {
          "output_type": "execute_result",
          "data": {
            "text/plain": [
              "111"
            ]
          },
          "metadata": {
            "tags": []
          },
          "execution_count": 366
        }
      ]
    },
    {
      "cell_type": "code",
      "metadata": {
        "id": "vJJ6w_Ets8hd"
      },
      "source": [
        "def primes(n):\n",
        "    \"\"\"\n",
        "    credit goes to someone else for this; it ended up being faster than my\n",
        "    function above\n",
        "    \"\"\"\n",
        "    if n == 2:\n",
        "        return [2]\n",
        "    elif n < 2:\n",
        "        return []\n",
        "    s = list(range(3, n+1, 2))\n",
        "    mroot = n ** 0.5\n",
        "    half = (n+1)//2-1\n",
        "    i = 0\n",
        "    m = 3\n",
        "    while m <= mroot:\n",
        "        if s[i]:\n",
        "            j = (m*m-3)//2\n",
        "            s[j] = 0\n",
        "            while j < half:\n",
        "                s[j] = 0\n",
        "                j += m\n",
        "        i = i+1\n",
        "        m = 2*i+3\n",
        "    return [2]+[x for x in s if x]"
      ],
      "execution_count": null,
      "outputs": []
    },
    {
      "cell_type": "code",
      "metadata": {
        "id": "1TRJfQwILqBO"
      },
      "source": [
        "def iter_len(iter):\n",
        "  count = 0\n",
        "  for i in iter:\n",
        "    count += 1\n",
        "  return count"
      ],
      "execution_count": null,
      "outputs": []
    },
    {
      "cell_type": "code",
      "metadata": {
        "id": "_zUtZTfrs9fV"
      },
      "source": [
        "primes = primes(100)"
      ],
      "execution_count": null,
      "outputs": []
    },
    {
      "cell_type": "code",
      "metadata": {
        "id": "iA4BFv83OvMX"
      },
      "source": [
        "def choose(n, k):\n",
        "    return factorial(n) // (factorial(k) * factorial(n - k))\n",
        "\n",
        "_factorials = [1, 1, 2]\n",
        "\n",
        "def factorial(n):\n",
        "    if n <= len(_factorials) - 1:\n",
        "        return _factorials[n]\n",
        "    else:\n",
        "        start = len(_factorials)\n",
        "        for idx in range(start, n + 1):\n",
        "            _factorials.append(idx * _factorials[idx - 1])\n",
        "        return _factorials[-1]"
      ],
      "execution_count": null,
      "outputs": []
    },
    {
      "cell_type": "code",
      "metadata": {
        "id": "sQbX2tblPMoj"
      },
      "source": [
        "for i in range(100):\n",
        "  factorial(i)"
      ],
      "execution_count": null,
      "outputs": []
    },
    {
      "cell_type": "code",
      "metadata": {
        "colab": {
          "base_uri": "https://localhost:8080/"
        },
        "id": "DFfbitsdPRPR",
        "outputId": "1f371fa3-1d47-41d4-f057-49709da58b7a"
      },
      "source": [
        "choose(4, 2)"
      ],
      "execution_count": null,
      "outputs": [
        {
          "output_type": "execute_result",
          "data": {
            "text/plain": [
              "6"
            ]
          },
          "metadata": {
            "tags": []
          },
          "execution_count": 8
        }
      ]
    },
    {
      "cell_type": "code",
      "metadata": {
        "id": "ti1dhOaMLWUl"
      },
      "source": [
        "@lru_cache(maxsize=None)\n",
        "def strings(consecutive, count, days):\n",
        "  print(f'strings(consecutive={consecutive}, count={count}, days={days})')\n",
        "  total = double_counted = 0\n",
        "  free = days - consecutive * count\n",
        "  if free < 0: return total\n",
        "  \n",
        "  if consecutive == 0:\n",
        "    total = 1\n",
        "  elif count == 1:\n",
        "    total = days - consecutive + 1 \n",
        "  else:\n",
        "    total = choose(math.ceil(days / consecutive), count)\n",
        "    for m in range(2, count + 1):\n",
        "        if count % m != 0: continue\n",
        "        double_counted += strings(consecutive * m, count // m, days)\n",
        "        print('  -', consecutive*m, count//m, strings(consecutive * m, count // m, days))\n",
        "\n",
        "  # late once + late zero times\n",
        "  expanded = total * (free + 1)\n",
        "  total_strings = expanded - double_counted \n",
        "  print(f'  -> total: {total}')\n",
        "  print(f'  -> free: {free}')\n",
        "  print(f'  -> expanded: {expanded}')\n",
        "  print(f'  -> double_counted: {double_counted}')\n",
        "  print(f'  -> total_strings: {total_strings}')\n",
        "  print(f'###')\n",
        "  return total_strings\n",
        "\n",
        "def prize_strings(days):\n",
        "  total = strings(0, 0, days)\n",
        "  for consecutive in range(1, 3):\n",
        "    for count in range(1, round(days / consecutive) + 1):\n",
        "      total += strings(consecutive, count, days)\n",
        "      double_counted = 0\n",
        "      #print(consecutive, count, strings(consecutive, count, days))\n",
        "      # for m in range(2, math.ceil(count / consecutive) + 1):\n",
        "      #   if count % m != 0: continue\n",
        "      #   double_counted += strings(consecutive * m, count // m, days)\n",
        "      #   print('  -', consecutive*m, count//m, strings(consecutive * m, count // m, days))\n",
        "      total -= double_counted\n",
        "  return total\n",
        "\n",
        "def prize_strings_naive(days):\n",
        "  total = 0\n",
        "  solutions = set()\n",
        "  for c in itertools.product('ALO', repeat=days):\n",
        "    s = ''.join(c)\n",
        "    if 'AAA' not in s and s.count('L') <= 1:\n",
        "      total += 1\n",
        "      solutions.add(s)\n",
        "  return total, solutions"
      ],
      "execution_count": null,
      "outputs": []
    },
    {
      "cell_type": "code",
      "metadata": {
        "colab": {
          "base_uri": "https://localhost:8080/"
        },
        "id": "oWtX_TQhHxmc",
        "outputId": "c7bacc04-016c-47bf-c38e-c5bbcf5d3e92"
      },
      "source": [
        "strings(3, 1, 5)"
      ],
      "execution_count": null,
      "outputs": [
        {
          "output_type": "execute_result",
          "data": {
            "text/plain": [
              "9"
            ]
          },
          "metadata": {
            "tags": []
          },
          "execution_count": 71
        }
      ]
    },
    {
      "cell_type": "code",
      "metadata": {
        "colab": {
          "base_uri": "https://localhost:8080/"
        },
        "id": "jqcQcmbeOOFT",
        "outputId": "d80dd50f-b908-422e-b8f9-b44ff7061399"
      },
      "source": [
        "for days in range(4, 7):\n",
        "  print(f'### Days: {days}')\n",
        "  total = prize_strings(days)\n",
        "  print(f'Prize strings for days = {days}: {total}')\n",
        "  print()"
      ],
      "execution_count": null,
      "outputs": [
        {
          "output_type": "stream",
          "text": [
            "### Days: 4\n",
            "strings(consecutive=0, count=0, days=4)\n",
            "  -> total: 1\n",
            "  -> free: 4\n",
            "  -> expanded: 5\n",
            "  -> double_counted: 0\n",
            "  -> total_strings: 5\n",
            "###\n",
            "strings(consecutive=1, count=1, days=4)\n",
            "  -> total: 4\n",
            "  -> free: 3\n",
            "  -> expanded: 16\n",
            "  -> double_counted: 0\n",
            "  -> total_strings: 16\n",
            "###\n",
            "strings(consecutive=1, count=2, days=4)\n",
            "strings(consecutive=2, count=1, days=4)\n",
            "  -> total: 3\n",
            "  -> free: 2\n",
            "  -> expanded: 9\n",
            "  -> double_counted: 0\n",
            "  -> total_strings: 9\n",
            "###\n",
            "  - 2 1 9\n",
            "  -> total: 6\n",
            "  -> free: 2\n",
            "  -> expanded: 18\n",
            "  -> double_counted: 9\n",
            "  -> total_strings: 9\n",
            "###\n",
            "strings(consecutive=1, count=3, days=4)\n",
            "strings(consecutive=3, count=1, days=4)\n",
            "  -> total: 2\n",
            "  -> free: 1\n",
            "  -> expanded: 4\n",
            "  -> double_counted: 0\n",
            "  -> total_strings: 4\n",
            "###\n",
            "  - 3 1 4\n",
            "  -> total: 4\n",
            "  -> free: 1\n",
            "  -> expanded: 8\n",
            "  -> double_counted: 4\n",
            "  -> total_strings: 4\n",
            "###\n",
            "strings(consecutive=1, count=4, days=4)\n",
            "strings(consecutive=2, count=2, days=4)\n",
            "strings(consecutive=4, count=1, days=4)\n",
            "  -> total: 1\n",
            "  -> free: 0\n",
            "  -> expanded: 1\n",
            "  -> double_counted: 0\n",
            "  -> total_strings: 1\n",
            "###\n",
            "  - 4 1 1\n",
            "  -> total: 1\n",
            "  -> free: 0\n",
            "  -> expanded: 1\n",
            "  -> double_counted: 1\n",
            "  -> total_strings: 0\n",
            "###\n",
            "  - 2 2 0\n",
            "  - 4 1 1\n",
            "  -> total: 1\n",
            "  -> free: 0\n",
            "  -> expanded: 1\n",
            "  -> double_counted: 1\n",
            "  -> total_strings: 0\n",
            "###\n",
            "Prize strings for days = 4: 43\n",
            "\n",
            "### Days: 5\n",
            "strings(consecutive=0, count=0, days=5)\n",
            "  -> total: 1\n",
            "  -> free: 5\n",
            "  -> expanded: 6\n",
            "  -> double_counted: 0\n",
            "  -> total_strings: 6\n",
            "###\n",
            "strings(consecutive=1, count=1, days=5)\n",
            "  -> total: 5\n",
            "  -> free: 4\n",
            "  -> expanded: 25\n",
            "  -> double_counted: 0\n",
            "  -> total_strings: 25\n",
            "###\n",
            "strings(consecutive=1, count=2, days=5)\n",
            "strings(consecutive=2, count=1, days=5)\n",
            "  -> total: 4\n",
            "  -> free: 3\n",
            "  -> expanded: 16\n",
            "  -> double_counted: 0\n",
            "  -> total_strings: 16\n",
            "###\n",
            "  - 2 1 16\n",
            "  -> total: 10\n",
            "  -> free: 3\n",
            "  -> expanded: 40\n",
            "  -> double_counted: 16\n",
            "  -> total_strings: 24\n",
            "###\n",
            "strings(consecutive=1, count=3, days=5)\n",
            "strings(consecutive=3, count=1, days=5)\n",
            "  -> total: 3\n",
            "  -> free: 2\n",
            "  -> expanded: 9\n",
            "  -> double_counted: 0\n",
            "  -> total_strings: 9\n",
            "###\n",
            "  - 3 1 9\n",
            "  -> total: 10\n",
            "  -> free: 2\n",
            "  -> expanded: 30\n",
            "  -> double_counted: 9\n",
            "  -> total_strings: 21\n",
            "###\n",
            "strings(consecutive=1, count=4, days=5)\n",
            "  - 2 2 2\n",
            "  - 4 1 4\n",
            "  -> total: 5\n",
            "  -> free: 1\n",
            "  -> expanded: 10\n",
            "  -> double_counted: 6\n",
            "  -> total_strings: 4\n",
            "###\n",
            "strings(consecutive=1, count=5, days=5)\n",
            "strings(consecutive=5, count=1, days=5)\n",
            "  -> total: 1\n",
            "  -> free: 0\n",
            "  -> expanded: 1\n",
            "  -> double_counted: 0\n",
            "  -> total_strings: 1\n",
            "###\n",
            "  - 5 1 1\n",
            "  -> total: 1\n",
            "  -> free: 0\n",
            "  -> expanded: 1\n",
            "  -> double_counted: 1\n",
            "  -> total_strings: 0\n",
            "###\n",
            "Prize strings for days = 5: 98\n",
            "\n",
            "### Days: 6\n",
            "strings(consecutive=0, count=0, days=6)\n",
            "  -> total: 1\n",
            "  -> free: 6\n",
            "  -> expanded: 7\n",
            "  -> double_counted: 0\n",
            "  -> total_strings: 7\n",
            "###\n",
            "strings(consecutive=1, count=1, days=6)\n",
            "  -> total: 6\n",
            "  -> free: 5\n",
            "  -> expanded: 36\n",
            "  -> double_counted: 0\n",
            "  -> total_strings: 36\n",
            "###\n",
            "strings(consecutive=1, count=2, days=6)\n",
            "strings(consecutive=2, count=1, days=6)\n",
            "  -> total: 5\n",
            "  -> free: 4\n",
            "  -> expanded: 25\n",
            "  -> double_counted: 0\n",
            "  -> total_strings: 25\n",
            "###\n",
            "  - 2 1 25\n",
            "  -> total: 15\n",
            "  -> free: 4\n",
            "  -> expanded: 75\n",
            "  -> double_counted: 25\n",
            "  -> total_strings: 50\n",
            "###\n",
            "strings(consecutive=1, count=3, days=6)\n",
            "strings(consecutive=3, count=1, days=6)\n",
            "  -> total: 4\n",
            "  -> free: 3\n",
            "  -> expanded: 16\n",
            "  -> double_counted: 0\n",
            "  -> total_strings: 16\n",
            "###\n",
            "  - 3 1 16\n",
            "  -> total: 20\n",
            "  -> free: 3\n",
            "  -> expanded: 80\n",
            "  -> double_counted: 16\n",
            "  -> total_strings: 64\n",
            "###\n",
            "strings(consecutive=1, count=4, days=6)\n",
            "strings(consecutive=2, count=2, days=6)\n",
            "strings(consecutive=4, count=1, days=6)\n",
            "  -> total: 3\n",
            "  -> free: 2\n",
            "  -> expanded: 9\n",
            "  -> double_counted: 0\n",
            "  -> total_strings: 9\n",
            "###\n",
            "  - 4 1 9\n",
            "  -> total: 3\n",
            "  -> free: 2\n",
            "  -> expanded: 9\n",
            "  -> double_counted: 9\n",
            "  -> total_strings: 0\n",
            "###\n",
            "  - 2 2 0\n",
            "  - 4 1 9\n",
            "  -> total: 15\n",
            "  -> free: 2\n",
            "  -> expanded: 45\n",
            "  -> double_counted: 9\n",
            "  -> total_strings: 36\n",
            "###\n",
            "strings(consecutive=1, count=5, days=6)\n",
            "strings(consecutive=5, count=1, days=6)\n",
            "  -> total: 2\n",
            "  -> free: 1\n",
            "  -> expanded: 4\n",
            "  -> double_counted: 0\n",
            "  -> total_strings: 4\n",
            "###\n",
            "  - 5 1 4\n",
            "  -> total: 6\n",
            "  -> free: 1\n",
            "  -> expanded: 12\n",
            "  -> double_counted: 4\n",
            "  -> total_strings: 8\n",
            "###\n",
            "strings(consecutive=1, count=6, days=6)\n",
            "strings(consecutive=2, count=3, days=6)\n",
            "strings(consecutive=6, count=1, days=6)\n",
            "  -> total: 1\n",
            "  -> free: 0\n",
            "  -> expanded: 1\n",
            "  -> double_counted: 0\n",
            "  -> total_strings: 1\n",
            "###\n",
            "  - 6 1 1\n",
            "  -> total: 1\n",
            "  -> free: 0\n",
            "  -> expanded: 1\n",
            "  -> double_counted: 1\n",
            "  -> total_strings: 0\n",
            "###\n",
            "  - 2 3 0\n",
            "strings(consecutive=3, count=2, days=6)\n",
            "  - 6 1 1\n",
            "  -> total: 1\n",
            "  -> free: 0\n",
            "  -> expanded: 1\n",
            "  -> double_counted: 1\n",
            "  -> total_strings: 0\n",
            "###\n",
            "  - 3 2 0\n",
            "  - 6 1 1\n",
            "  -> total: 1\n",
            "  -> free: 0\n",
            "  -> expanded: 1\n",
            "  -> double_counted: 1\n",
            "  -> total_strings: 0\n",
            "###\n",
            "Prize strings for days = 6: 226\n",
            "\n"
          ],
          "name": "stdout"
        }
      ]
    },
    {
      "cell_type": "code",
      "metadata": {
        "colab": {
          "base_uri": "https://localhost:8080/"
        },
        "id": "ftCZTAgXV93h",
        "outputId": "bebc8830-b10d-46ac-9cdf-05ee6ec2ccdc"
      },
      "source": [
        "for days in range(1, 10):\n",
        "  total, solutions = prize_strings_naive(days)\n",
        "  print(f'Prize strings for days = {days}: {total}')\n",
        "  # by_a_count = defaultdict(int)\n",
        "  # kept = set()\n",
        "  # for s in solutions:\n",
        "  #   by_a_count[s.count('A')] += 1\n",
        "  #   if s.count('A') == 4:\n",
        "  #     kept.add(s)\n",
        "  # print(len(kept))\n",
        "  # print('\\n'.join(sorted(kept)))\n",
        "  # print(by_a_count)\n",
        "  print()"
      ],
      "execution_count": null,
      "outputs": [
        {
          "output_type": "stream",
          "text": [
            "Prize strings for days = 1: 3\n",
            "\n",
            "Prize strings for days = 2: 8\n",
            "\n",
            "Prize strings for days = 3: 19\n",
            "\n",
            "Prize strings for days = 4: 43\n",
            "\n",
            "Prize strings for days = 5: 94\n",
            "\n",
            "Prize strings for days = 6: 200\n",
            "\n",
            "Prize strings for days = 7: 418\n",
            "\n",
            "Prize strings for days = 8: 861\n",
            "\n",
            "Prize strings for days = 9: 1753\n",
            "\n"
          ],
          "name": "stdout"
        }
      ]
    },
    {
      "cell_type": "code",
      "metadata": {
        "id": "mhR3W2iQjQnV"
      },
      "source": [
        ""
      ],
      "execution_count": null,
      "outputs": []
    }
  ]
}