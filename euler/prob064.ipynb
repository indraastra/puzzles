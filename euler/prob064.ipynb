{
 "metadata": {
  "language_info": {
   "codemirror_mode": {
    "name": "ipython",
    "version": 3
   },
   "file_extension": ".py",
   "mimetype": "text/x-python",
   "name": "python",
   "nbconvert_exporter": "python",
   "pygments_lexer": "ipython3",
   "version": "3.9.1-final"
  },
  "orig_nbformat": 2,
  "kernelspec": {
   "name": "python3",
   "display_name": "Python 3.9.1 64-bit ('aoc': conda)",
   "metadata": {
    "interpreter": {
     "hash": "91ecdc0959f669be397eefd8d918e676da99a58414a8579254f71bfed9ab338a"
    }
   }
  }
 },
 "nbformat": 4,
 "nbformat_minor": 2,
 "cells": [
  {
   "cell_type": "code",
   "execution_count": 50,
   "metadata": {},
   "outputs": [],
   "source": [
    "import doctest\n",
    "import math\n",
    "from dataclasses import dataclass\n",
    "import functools\n",
    "from typing import Sequence"
   ]
  },
  {
   "cell_type": "code",
   "execution_count": 166,
   "metadata": {},
   "outputs": [],
   "source": [
    "@dataclass\n",
    "class PeriodicFractionSqrt:\n",
    "    a0: int\n",
    "    a1_to_n: Sequence[int]\n",
    "\n",
    "    def eval(self, periods: int = 10):\n",
    "        return (self.a0 +\n",
    "                functools.reduce(lambda acc, a: 1/(a + acc), \n",
    "                                 reversed(self.a1_to_n*periods)))\n",
    "\n",
    "@dataclass\n",
    "class PeriodicFractionExpr:\n",
    "    \"\"\"\n",
    "    Represents:     x\n",
    "               -----------\n",
    "               sqrt(n) - y\n",
    "    \"\"\"\n",
    "    n: int\n",
    "    x: int\n",
    "    y: int\n",
    "\n",
    "    def next_a(self):\n",
    "        try:\n",
    "            return math.floor(self.x * (math.sqrt(self.n) + self.y) / (self.n - self.y**2))\n",
    "        except:\n",
    "            return None\n",
    "\n",
    "    def subtract_a_reciprocal(self, new_a):\n",
    "        new_x = (self.n - self.y**2) // self.x\n",
    "        new_y = new_a * new_x - self.y\n",
    "        return PeriodicFractionExpr(self.n, new_x, new_y)"
   ]
  },
  {
   "cell_type": "code",
   "execution_count": 106,
   "metadata": {},
   "outputs": [
    {
     "output_type": "stream",
     "name": "stdout",
     "text": [
      "4.795831523312719\n4.795831523312719\n"
     ]
    }
   ],
   "source": [
    "print(PeriodicFractionSqrt(4, (1, 3, 1, 8)).eval())\n",
    "print(math.sqrt(23))"
   ]
  },
  {
   "cell_type": "code",
   "execution_count": 107,
   "metadata": {},
   "outputs": [
    {
     "output_type": "execute_result",
     "data": {
      "text/plain": [
       "1"
      ]
     },
     "metadata": {},
     "execution_count": 107
    }
   ],
   "source": [
    "math.floor(1*(math.sqrt(23) + 4) / (23 - 4**2))"
   ]
  },
  {
   "cell_type": "code",
   "execution_count": 127,
   "metadata": {},
   "outputs": [
    {
     "output_type": "stream",
     "name": "stdout",
     "text": [
      "a_0: 1\na_1: 3\na_2: 1\na_3: 8\na_4: 1\na_5: 3\na_6: 1\na_7: 8\n"
     ]
    }
   ],
   "source": [
    "frac = PeriodicFractionExpr(23, 1, 4)\n",
    "for i in range(8):\n",
    "    next_a = frac.next_a()\n",
    "    print(f'a_{i}:', next_a)\n",
    "    frac = frac.subtract_a_reciprocal(next_a)"
   ]
  },
  {
   "cell_type": "code",
   "execution_count": 167,
   "metadata": {},
   "outputs": [],
   "source": [
    "def has_cycle(xs):\n",
    "    \"\"\"\n",
    "    >>> has_cycle([])\n",
    "    False\n",
    "    >>> has_cycle([1, 4, 1, 2])\n",
    "    False\n",
    "    >>> has_cycle([1, 4, 4, 1])\n",
    "    False\n",
    "    >>> has_cycle([5, 5])\n",
    "    True\n",
    "    >>> has_cycle([1, 4, 1, 2, 1, 4, 1, 2])\n",
    "    True\n",
    "    \"\"\"\n",
    "    n = len(xs)\n",
    "    return n > 0 and n % 2 == 0 and xs[:n//2] == xs[n//2:]\n",
    "\n",
    "def sqrt_periodic_form(n):\n",
    "    a0 = math.floor(math.sqrt(n))\n",
    "    expr0 = PeriodicFractionExpr(n, 1, a0)\n",
    "    a1_to_n = []\n",
    "\n",
    "    prev_a = a0\n",
    "    prev_expr = expr0\n",
    "    # Continue until we reach a cycle.\n",
    "    while prev_expr != expr0 or len(a1_to_n) == 0:\n",
    "        next_a = prev_expr.next_a()\n",
    "        if next_a is None: break\n",
    "        next_expr = prev_expr.subtract_a_reciprocal(next_a)\n",
    "        a1_to_n.append(next_a)\n",
    "        prev_a, prev_expr = next_a, next_expr\n",
    "\n",
    "    return PeriodicFractionSqrt(a0, a1_to_n)"
   ]
  },
  {
   "cell_type": "code",
   "execution_count": 163,
   "metadata": {},
   "outputs": [
    {
     "output_type": "stream",
     "name": "stdout",
     "text": [
      "2 : PeriodicFractionSqrt(a0=1, a1_to_n=[2])\n3 : PeriodicFractionSqrt(a0=1, a1_to_n=[1, 2])\n5 : PeriodicFractionSqrt(a0=2, a1_to_n=[4])\n6 : PeriodicFractionSqrt(a0=2, a1_to_n=[2, 4])\n7 : PeriodicFractionSqrt(a0=2, a1_to_n=[1, 1, 1, 4])\n8 : PeriodicFractionSqrt(a0=2, a1_to_n=[1, 4])\n10 : PeriodicFractionSqrt(a0=3, a1_to_n=[6])\n11 : PeriodicFractionSqrt(a0=3, a1_to_n=[3, 6])\n12 : PeriodicFractionSqrt(a0=3, a1_to_n=[2, 6])\n13 : PeriodicFractionSqrt(a0=3, a1_to_n=[1, 1, 1, 1, 6])\n23 : PeriodicFractionSqrt(a0=4, a1_to_n=[1, 3, 1, 8])\n"
     ]
    }
   ],
   "source": [
    "for n in [2, 3, 5, 6, 7, 8, 10, 11, 12, 13, 23]:\n",
    "    print(n, ':', sqrt_periodic_form(n))"
   ]
  },
  {
   "cell_type": "code",
   "execution_count": 172,
   "metadata": {},
   "outputs": [
    {
     "output_type": "execute_result",
     "data": {
      "text/plain": [
       "PeriodicFractionSqrt(a0=4, a1_to_n=[])"
      ]
     },
     "metadata": {},
     "execution_count": 172
    }
   ],
   "source": [
    "sqrt_periodic_form(16)"
   ]
  },
  {
   "cell_type": "code",
   "execution_count": 170,
   "metadata": {},
   "outputs": [
    {
     "output_type": "execute_result",
     "data": {
      "text/plain": [
       "1322"
      ]
     },
     "metadata": {},
     "execution_count": 170
    }
   ],
   "source": [
    "sum(len(sqrt_periodic_form(n).a1_to_n) % 2 == 1 for n in range(2, 10001))"
   ]
  },
  {
   "cell_type": "code",
   "execution_count": 175,
   "metadata": {},
   "outputs": [
    {
     "output_type": "execute_result",
     "data": {
      "text/plain": [
       "(217, 9949)"
      ]
     },
     "metadata": {},
     "execution_count": 175
    }
   ],
   "source": [
    "# Out of curiosity...\n",
    "max((len(sqrt_periodic_form(n).a1_to_n), n) for n in range(2, 10001))"
   ]
  },
  {
   "cell_type": "code",
   "execution_count": 176,
   "metadata": {},
   "outputs": [
    {
     "output_type": "execute_result",
     "data": {
      "text/plain": [
       "PeriodicFractionSqrt(a0=99, a1_to_n=[1, 2, 1, 10, 1, 65, 1, 1, 2, 1, 1, 3, 3, 21, 1, 6, 5, 1, 9, 7, 3, 2, 17, 1, 2, 2, 1, 1, 1, 3, 4, 1, 5, 4, 3, 1, 4, 1, 14, 1, 1, 12, 1, 3, 1, 1, 1, 1, 4, 1, 1, 39, 2, 1, 6, 2, 5, 13, 8, 1, 1, 2, 16, 4, 2, 1, 2, 5, 49, 1, 2, 5, 2, 1, 2, 1, 15, 1, 8, 1, 1, 3, 1, 2, 1, 1, 4, 1, 27, 1, 2, 9, 1, 1, 1, 3, 9, 4, 2, 2, 1, 7, 3, 1, 2, 2, 2, 4, 4, 2, 2, 2, 1, 3, 7, 1, 2, 2, 4, 9, 3, 1, 1, 1, 9, 2, 1, 27, 1, 4, 1, 1, 2, 1, 3, 1, 1, 8, 1, 15, 1, 2, 1, 2, 5, 2, 1, 49, 5, 2, 1, 2, 4, 16, 2, 1, 1, 8, 13, 5, 2, 6, 1, 2, 39, 1, 1, 4, 1, 1, 1, 1, 3, 1, 12, 1, 1, 14, 1, 4, 1, 3, 4, 5, 1, 4, 3, 1, 1, 1, 2, 2, 1, 17, 2, 3, 7, 9, 1, 5, 6, 1, 21, 3, 3, 1, 1, 2, 1, 1, 65, 1, 10, 1, 2, 1, 198])"
      ]
     },
     "metadata": {},
     "execution_count": 176
    }
   ],
   "source": [
    "sqrt_periodic_form(9949)"
   ]
  },
  {
   "cell_type": "code",
   "execution_count": 78,
   "metadata": {},
   "outputs": [
    {
     "output_type": "stream",
     "name": "stdout",
     "text": [
      "Trying:\n    has_cycle([1, 4, 1, 2])\nExpecting:\n    False\nok\nTrying:\n    has_cycle([1, 4, 4, 1])\nExpecting:\n    False\nok\nTrying:\n    has_cycle([5, 5])\nExpecting:\n    True\nok\nTrying:\n    has_cycle([1, 4, 1, 2, 1, 4, 1, 2])\nExpecting:\n    True\nok\n7 items had no tests:\n    __main__\n    __main__.PeriodicFractionSqrt\n    __main__.PeriodicFractionSqrt.__eq__\n    __main__.PeriodicFractionSqrt.__init__\n    __main__.PeriodicFractionSqrt.__repr__\n    __main__.PeriodicFractionSqrt.eval\n    __main__.sqrt_periodic_form\n1 items passed all tests:\n   4 tests in __main__.has_cycle\n4 tests in 8 items.\n4 passed and 0 failed.\nTest passed.\n"
     ]
    },
    {
     "output_type": "execute_result",
     "data": {
      "text/plain": [
       "TestResults(failed=0, attempted=4)"
      ]
     },
     "metadata": {},
     "execution_count": 78
    }
   ],
   "source": [
    "doctest.testmod(verbose=True)"
   ]
  },
  {
   "cell_type": "code",
   "execution_count": null,
   "metadata": {},
   "outputs": [],
   "source": []
  }
 ]
}