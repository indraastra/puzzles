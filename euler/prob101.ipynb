{
 "cells": [
  {
   "cell_type": "code",
   "execution_count": 2,
   "id": "831c8d26",
   "metadata": {},
   "outputs": [],
   "source": [
    "# un = 1 − n + n2 − n3 + n4 − n5 + n6 − n7 + n8 − n9 + n10\n",
    "\n",
    "def u1(n):\n",
    "    return n**3\n",
    "\n",
    "def u2(n):\n",
    "    return 1 - n + n**2 - n**3 + n**4 - n**5 + n**6 - n**7 + n**8 - n**9 + n**10"
   ]
  },
  {
   "cell_type": "code",
   "execution_count": 5,
   "id": "0f8c1b08",
   "metadata": {},
   "outputs": [],
   "source": [
    "def generate(u, deg):\n",
    "    for i in range(1, deg + 1):\n",
    "        yield u(i)"
   ]
  },
  {
   "cell_type": "code",
   "execution_count": 6,
   "id": "9cd36d4d",
   "metadata": {},
   "outputs": [
    {
     "data": {
      "text/plain": [
       "[1, 8, 27, 64, 125]"
      ]
     },
     "execution_count": 6,
     "metadata": {},
     "output_type": "execute_result"
    }
   ],
   "source": [
    "list(generate(u1, 5))"
   ]
  },
  {
   "cell_type": "code",
   "execution_count": null,
   "id": "cf20b655",
   "metadata": {},
   "outputs": [],
   "source": [
    "def op(k, n, u):\n",
    "    pass"
   ]
  },
  {
   "cell_type": "code",
   "execution_count": 79,
   "id": "378e909f",
   "metadata": {},
   "outputs": [],
   "source": [
    "import numpy as np\n",
    "import math"
   ]
  },
  {
   "cell_type": "code",
   "execution_count": 97,
   "id": "c39518fe",
   "metadata": {},
   "outputs": [],
   "source": [
    "def bops(fn, deg):\n",
    "    for k in range(1, deg+1):\n",
    "        xs = list(range(1, k+1))\n",
    "        A = np.array([[x**i for i in range(k)] for x in xs])\n",
    "        ys = list(generate(fn, k))\n",
    "        coeffs = np.linalg.inv(A).dot(ys).round()\n",
    "        bop = round(coeffs.dot([(k+1)**i for i in range(k)]))\n",
    "        print('k:', k)\n",
    "        print(' \\\\_ xs:', xs)\n",
    "        print(' |_ ys:', ys)\n",
    "        print(' |_ coeffs:', coeffs)\n",
    "        print(' |_ bop:', int(bop))\n",
    "        yield bop"
   ]
  },
  {
   "cell_type": "code",
   "execution_count": 98,
   "id": "47eca259",
   "metadata": {},
   "outputs": [
    {
     "name": "stdout",
     "output_type": "stream",
     "text": [
      "k: 1\n",
      " \\_ xs: [1]\n",
      " |_ ys: [1]\n",
      " |_ coeffs: [1.]\n",
      " |_ bop: 1\n",
      "k: 2\n",
      " \\_ xs: [1, 2]\n",
      " |_ ys: [1, 8]\n",
      " |_ coeffs: [-6.  7.]\n",
      " |_ bop: 15\n",
      "k: 3\n",
      " \\_ xs: [1, 2, 3]\n",
      " |_ ys: [1, 8, 27]\n",
      " |_ coeffs: [  6. -11.   6.]\n",
      " |_ bop: 58\n"
     ]
    },
    {
     "data": {
      "text/plain": [
       "74"
      ]
     },
     "execution_count": 98,
     "metadata": {},
     "output_type": "execute_result"
    }
   ],
   "source": [
    "sum(list(bops(u1, 3)))"
   ]
  },
  {
   "cell_type": "code",
   "execution_count": 99,
   "id": "debc8d31",
   "metadata": {},
   "outputs": [
    {
     "name": "stdout",
     "output_type": "stream",
     "text": [
      "k: 1\n",
      " \\_ xs: [1]\n",
      " |_ ys: [1]\n",
      " |_ coeffs: [1.]\n",
      " |_ bop: 1\n",
      "k: 2\n",
      " \\_ xs: [1, 2]\n",
      " |_ ys: [1, 683]\n",
      " |_ coeffs: [-681.  682.]\n",
      " |_ bop: 1365\n",
      "k: 3\n",
      " \\_ xs: [1, 2, 3]\n",
      " |_ ys: [1, 683, 44287]\n",
      " |_ coeffs: [ 42241. -63701.  21461.]\n",
      " |_ bop: 130813\n",
      "k: 4\n",
      " \\_ xs: [1, 2, 3, 4]\n",
      " |_ ys: [1, 683, 44287, 838861]\n",
      " |_ coeffs: [-665807. 1234387. -686587.  118008.]\n",
      " |_ bop: 3092453\n",
      "k: 5\n",
      " \\_ xs: [1, 2, 3, 4, 5]\n",
      " |_ ys: [1, 683, 44287, 838861, 8138021]\n",
      " |_ coeffs: [ 4379761. -9277213.  6671533. -1984312.   210232.]\n",
      " |_ bop: 32740951\n",
      "k: 6\n",
      " \\_ xs: [1, 2, 3, 4, 5, 6]\n",
      " |_ ys: [1, 683, 44287, 838861, 8138021, 51828151]\n",
      " |_ coeffs: [-14707439.  34305227. -29116967.  11535788.  -2175668.    159060.]\n",
      " |_ bop: 205015603\n",
      "k: 7\n",
      " \\_ xs: [1, 2, 3, 4, 5, 6, 7]\n",
      " |_ ys: [1, 683, 44287, 838861, 8138021, 51828151, 247165843]\n",
      " |_ coeffs: [ 2.7442801e+07 -6.8962861e+07  6.5955241e+07 -3.1492582e+07\n",
      "  8.0691820e+06 -1.0703220e+06  5.8542000e+04]\n",
      " |_ bop: 898165577\n",
      "k: 8\n",
      " \\_ xs: [1, 2, 3, 4, 5, 6, 7, 8]\n",
      " |_ ys: [1, 683, 44287, 838861, 8138021, 51828151, 247165843, 954437177]\n",
      " |_ coeffs: [-2.8828799e+07  7.6941359e+07 -8.0663539e+07  4.4083303e+07\n",
      " -1.3814218e+07  2.5248080e+06 -2.5407800e+05  1.1165000e+04]\n",
      " |_ bop: 3093310441\n",
      "k: 9\n",
      " \\_ xs: [1, 2, 3, 4, 5, 6, 7, 8, 9]\n",
      " |_ ys: [1, 683, 44287, 838861, 8138021, 51828151, 247165843, 954437177, 3138105961]\n",
      " |_ coeffs: [ 1.5966721e+07 -4.4806465e+07  5.0572225e+07 -3.0669221e+07\n",
      "  1.1126621e+07 -2.5146880e+06  3.5252800e+05 -2.8831000e+04\n",
      "  1.1110000e+03]\n",
      " |_ bop: 9071313571\n",
      "k: 10\n",
      " \\_ xs: [1, 2, 3, 4, 5, 6, 7, 8, 9, 10]\n",
      " |_ ys: [1, 683, 44287, 838861, 8138021, 51828151, 247165843, 954437177, 3138105961, 9090909091]\n",
      " |_ coeffs: [-3.6287990e+06  1.0628639e+07 -1.2753575e+07  8.4094990e+06\n",
      " -3.4169290e+06  9.0205400e+05 -1.5777200e+05  1.8149000e+04\n",
      " -1.3190000e+03  5.4000000e+01]\n",
      " |_ bop: 23772343751\n"
     ]
    },
    {
     "data": {
      "text/plain": [
       "37076114526"
      ]
     },
     "execution_count": 99,
     "metadata": {},
     "output_type": "execute_result"
    }
   ],
   "source": [
    "sum(list(bops(u2, 10)))"
   ]
  },
  {
   "cell_type": "code",
   "execution_count": null,
   "id": "22131bc4",
   "metadata": {},
   "outputs": [],
   "source": []
  }
 ],
 "metadata": {
  "kernelspec": {
   "display_name": "Python 3 (ipykernel)",
   "language": "python",
   "name": "python3"
  },
  "language_info": {
   "codemirror_mode": {
    "name": "ipython",
    "version": 3
   },
   "file_extension": ".py",
   "mimetype": "text/x-python",
   "name": "python",
   "nbconvert_exporter": "python",
   "pygments_lexer": "ipython3",
   "version": "3.8.10"
  }
 },
 "nbformat": 4,
 "nbformat_minor": 5
}
