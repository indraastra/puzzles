{
  "nbformat": 4,
  "nbformat_minor": 0,
  "metadata": {
    "colab": {
      "name": "prob077",
      "provenance": [],
      "collapsed_sections": []
    },
    "kernelspec": {
      "name": "python3",
      "display_name": "Python 3"
    },
    "language_info": {
      "name": "python"
    }
  },
  "cells": [
    {
      "cell_type": "code",
      "metadata": {
        "id": "nyZpKB9sLsUp"
      },
      "source": [
        "import functools\n",
        "import math\n",
        "from tqdm import tqdm"
      ],
      "execution_count": null,
      "outputs": []
    },
    {
      "cell_type": "code",
      "metadata": {
        "id": "PFYG1YbJLXIP"
      },
      "source": [
        "def primes(n):\n",
        "    \"\"\"\n",
        "    credit goes to someone else for this; it ended up being faster than my\n",
        "    function above\n",
        "    \"\"\"\n",
        "    if n == 2:\n",
        "        return [2]\n",
        "    elif n < 2:\n",
        "        return []\n",
        "    s = list(range(3, n+1, 2))\n",
        "    mroot = n ** 0.5\n",
        "    half = (n+1)//2-1\n",
        "    i = 0\n",
        "    m = 3\n",
        "    while m <= mroot:\n",
        "        if s[i]:\n",
        "            j = (m*m-3)//2\n",
        "            s[j] = 0\n",
        "            while j < half:\n",
        "                s[j] = 0\n",
        "                j += m\n",
        "        i = i+1\n",
        "        m = 2*i+3\n",
        "    return [2]+[x for x in s if x]"
      ],
      "execution_count": null,
      "outputs": []
    },
    {
      "cell_type": "code",
      "metadata": {
        "id": "1-Xero9UPKfs"
      },
      "source": [
        "from collections import Counter"
      ],
      "execution_count": null,
      "outputs": []
    },
    {
      "cell_type": "code",
      "metadata": {
        "id": "M6KXrxbhQeHa"
      },
      "source": [
        "class HashableCounter(Counter):\n",
        "  def __hash__(self):\n",
        "    return hash(tuple(sorted(self.items())))"
      ],
      "execution_count": null,
      "outputs": []
    },
    {
      "cell_type": "code",
      "metadata": {
        "id": "tzKjxJmSLlKa"
      },
      "source": [
        "def make_prime_sums(bound=1_000):\n",
        "  cached_primes = primes(bound)\n",
        "  \n",
        "  @functools.lru_cache(maxsize=None)\n",
        "  def prime_sums(n):\n",
        "    if n < 2:\n",
        "      return frozenset()\n",
        "    sums = set({HashableCounter({n})}) if n in cached_primes else set()\n",
        "    for p in cached_primes:\n",
        "      if p > n/2:\n",
        "        break\n",
        "      sums.update(HashableCounter(s + Counter({p})) for s in prime_sums(n-p))\n",
        "    return sums\n",
        "  \n",
        "  return prime_sums\n",
        "\n",
        "prime_sums = make_prime_sums()"
      ],
      "execution_count": null,
      "outputs": []
    },
    {
      "cell_type": "code",
      "metadata": {
        "colab": {
          "base_uri": "https://localhost:8080/"
        },
        "id": "5zDZiSqSO8U_",
        "outputId": "6d3dd624-1d38-4301-cfaf-253a3ac851ab"
      },
      "source": [
        "%%time\n",
        "n = 2\n",
        "bound = 1_000\n",
        "while len(prime_sums(n)) <= 5000:\n",
        "  n += 1\n",
        "  if n >= bound:\n",
        "    print('failed to find solution')\n",
        "    break\n",
        "print('last n', n)"
      ],
      "execution_count": null,
      "outputs": [
        {
          "output_type": "stream",
          "text": [
            "last n 71\n",
            "CPU times: user 2.77 s, sys: 12.8 ms, total: 2.78 s\n",
            "Wall time: 2.79 s\n"
          ],
          "name": "stdout"
        }
      ]
    },
    {
      "cell_type": "code",
      "metadata": {
        "colab": {
          "base_uri": "https://localhost:8080/"
        },
        "id": "zbBzWD2ZhPQy",
        "outputId": "84a4d49c-aa96-4c7a-fc48-3a4f5feb8b47"
      },
      "source": [
        "# Prob 76\n",
        "\n",
        "bound = 150\n",
        "partitions = [1, 1]\n",
        "\n",
        "# From the recurrence relation in Wikipedia:\n",
        "# https://en.wikipedia.org/wiki/Partition_function_(number_theory)#Recurrence_relations\n",
        "for n in tqdm(range(2, bound)):\n",
        "    sq24p1 = math.sqrt(24*n+1)\n",
        "    p = 0\n",
        "    for k in range(-int((sq24p1-1)/6), int((sq24p1+1)/6)+1):\n",
        "        if k == 0: continue\n",
        "        #print(n, '\\t', k, int((-1)**(k+1)) * partitions[n - k*(3*k-1)//2])\n",
        "        p += int((-1)**(k+1)) * partitions[n - k*(3*k-1)//2]\n",
        "    partitions.append(p)\n"
      ],
      "execution_count": null,
      "outputs": [
        {
          "output_type": "stream",
          "text": [
            "100%|██████████| 148/148 [00:00<00:00, 64534.46it/s]\n"
          ],
          "name": "stderr"
        }
      ]
    },
    {
      "cell_type": "code",
      "metadata": {
        "colab": {
          "base_uri": "https://localhost:8080/"
        },
        "id": "CjzljjHqhUhq",
        "outputId": "7f4e199e-1f92-4f96-8dcf-deffeef6b0ea"
      },
      "source": [
        "partitions[100]-1"
      ],
      "execution_count": null,
      "outputs": [
        {
          "output_type": "execute_result",
          "data": {
            "text/plain": [
              "190569291"
            ]
          },
          "metadata": {
            "tags": []
          },
          "execution_count": 163
        }
      ]
    }
  ]
}