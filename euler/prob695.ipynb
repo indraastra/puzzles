{
 "cells": [
  {
   "cell_type": "code",
   "execution_count": 2,
   "metadata": {},
   "outputs": [],
   "source": [
    "import numpy as np"
   ]
  },
  {
   "cell_type": "code",
   "execution_count": 86,
   "metadata": {},
   "outputs": [],
   "source": [
    "BATCH_SIZE = 1024"
   ]
  },
  {
   "cell_type": "code",
   "execution_count": 87,
   "metadata": {},
   "outputs": [],
   "source": [
    "points = np.random.rand(BATCH_SIZE * 3, 2)"
   ]
  },
  {
   "cell_type": "code",
   "execution_count": 88,
   "metadata": {},
   "outputs": [],
   "source": [
    "edges = np.abs(np.roll(points, BATCH_SIZE, axis=0) - points)"
   ]
  },
  {
   "cell_type": "code",
   "execution_count": 89,
   "metadata": {},
   "outputs": [],
   "source": [
    "areas = (edges[:, 0] * edges[:, 1]).reshape((BATCH_SIZE, -1))"
   ]
  },
  {
   "cell_type": "code",
   "execution_count": 90,
   "metadata": {},
   "outputs": [],
   "source": [
    "areas.sort(axis=1)"
   ]
  },
  {
   "cell_type": "code",
   "execution_count": 97,
   "metadata": {},
   "outputs": [
    {
     "data": {
      "text/plain": [
       "0.2204088464559777"
      ]
     },
     "execution_count": 97,
     "metadata": {},
     "output_type": "execute_result"
    }
   ],
   "source": [
    "areas[:, -1].mean()"
   ]
  },
  {
   "cell_type": "code",
   "execution_count": 195,
   "metadata": {},
   "outputs": [],
   "source": [
    "def compute_batch_mean_area(batch_size=BATCH_SIZE, mean=True):\n",
    "    points = np.random.rand(batch_size * 3, 2)\n",
    "    edges = np.abs(np.roll(points, batch_size, axis=0) - points)\n",
    "    areas = (edges[:, 0] * edges[:, 1]).reshape((batch_size, -1))\n",
    "    areas.sort(axis=1)\n",
    "    if mean:\n",
    "        return areas[:, 1].mean()\n",
    "    else:\n",
    "        return areas[:, 1]"
   ]
  },
  {
   "cell_type": "code",
   "execution_count": 102,
   "metadata": {},
   "outputs": [
    {
     "name": "stdout",
     "output_type": "stream",
     "text": [
      "0.08741139079024891\n",
      "0.08580751709236588\n",
      "0.08721988291811844\n",
      "0.08781836672669532\n",
      "0.087446106754198\n"
     ]
    }
   ],
   "source": [
    "for i in range(5):\n",
    "    print(compute_batch_mean_area())"
   ]
  },
  {
   "cell_type": "code",
   "execution_count": 163,
   "metadata": {},
   "outputs": [
    {
     "name": "stdout",
     "output_type": "stream",
     "text": [
      "57.7 µs ± 444 ns per loop (mean ± std. dev. of 7 runs, 10000 loops each)\n",
      "71.2 µs ± 1.44 µs per loop (mean ± std. dev. of 7 runs, 10000 loops each)\n",
      "95.8 µs ± 791 ns per loop (mean ± std. dev. of 7 runs, 10000 loops each)\n",
      "147 µs ± 6.66 µs per loop (mean ± std. dev. of 7 runs, 10000 loops each)\n"
     ]
    }
   ],
   "source": [
    "%timeit compute_batch_mean_area(128)\n",
    "%timeit compute_batch_mean_area(256)\n",
    "%timeit compute_batch_mean_area(512)\n",
    "%timeit compute_batch_mean_area(1024)"
   ]
  },
  {
   "cell_type": "code",
   "execution_count": 164,
   "metadata": {},
   "outputs": [
    {
     "name": "stdout",
     "output_type": "stream",
     "text": [
      "844 µs ± 20.1 µs per loop (mean ± std. dev. of 7 runs, 1000 loops each)\n",
      "2.14 ms ± 42.7 µs per loop (mean ± std. dev. of 7 runs, 1000 loops each)\n",
      "11.4 ms ± 402 µs per loop (mean ± std. dev. of 7 runs, 1000 loops each)\n"
     ]
    }
   ],
   "source": [
    "%timeit -n 1000 compute_batch_mean_area(8192)\n",
    "%timeit -n 1000 compute_batch_mean_area(16384)\n",
    "%timeit -n 1000 compute_batch_mean_area(65536)"
   ]
  },
  {
   "cell_type": "code",
   "execution_count": 123,
   "metadata": {},
   "outputs": [],
   "source": [
    "from difflib import SequenceMatcher\n",
    "\n",
    "def num_leading_digits_in_common(n1, n2):\n",
    "    s1 = str(n1)\n",
    "    s2 = str(n2)\n",
    "    match = SequenceMatcher(None, s1, s2).find_longest_match(0, len(s1), 0, len(s2))\n",
    "    return match.size - 2 if match.a + match.b == 0 else 0  # For 0."
   ]
  },
  {
   "cell_type": "code",
   "execution_count": 137,
   "metadata": {},
   "outputs": [],
   "source": [
    "BATCH_SIZE = 8192\n",
    "MIN_DIGITS = 10\n",
    "MIN_MINOR_DIFFS = 3"
   ]
  },
  {
   "cell_type": "code",
   "execution_count": 145,
   "metadata": {},
   "outputs": [
    {
     "name": "stdout",
     "output_type": "stream",
     "text": [
      "[8444] new avg. common to 10 digits: 0.0880660769, 0.0880660769\n",
      "[8445] resetting! saw 0.0880660771\n",
      "[9673] new avg. common to 10 digits: 0.0880662167, 0.0880662167\n",
      "[9674] resetting! saw 0.0880661481\n",
      "[13887] new avg. common to 10 digits: 0.0880664072, 0.0880664072\n",
      "[13888] resetting! saw 0.0880664970\n",
      "[15521] new avg. common to 10 digits: 0.0880660371, 0.0880660371\n",
      "[15522] resetting! saw 0.0880660626\n",
      "[16349] new avg. common to 10 digits: 0.0880670128, 0.0880670127\n",
      "[16350] resetting! saw 0.0880669879\n",
      "[18433] new avg. common to 10 digits: 0.0880696634, 0.0880696634\n",
      "[18434] resetting! saw 0.0880695521\n",
      "[19509] new avg. common to 10 digits: 0.0880691102, 0.0880691103\n",
      "[19510] resetting! saw 0.0880690529\n",
      "[19943] new avg. common to 10 digits: 0.0880694649, 0.0880694649\n",
      "[19944] resetting! saw 0.0880694944\n",
      "[21454] new avg. common to 10 digits: 0.0880700634, 0.0880700635\n",
      "[21455] resetting! saw 0.0880700884\n",
      "[21749] new avg. common to 10 digits: 0.0880710945, 0.0880710945\n",
      "[21750] resetting! saw 0.0880710457\n",
      "[22204] new avg. common to 10 digits: 0.0880707577, 0.0880707577\n",
      "[22205] resetting! saw 0.0880708431\n",
      "[22938] new avg. common to 10 digits: 0.0880701987, 0.0880701987\n",
      "[22939] resetting! saw 0.0880701655\n",
      "[26183] new avg. common to 10 digits: 0.0880703372, 0.0880703372\n",
      "[26184] resetting! saw 0.0880703400\n",
      "[26439] new avg. common to 10 digits: 0.0880712294, 0.0880712294\n",
      "[26440] resetting! saw 0.0880712082\n",
      "[27432] new avg. common to 10 digits: 0.0880721590, 0.0880721590\n",
      "[27433] resetting! saw 0.0880721704\n",
      "[27735] new avg. common to 10 digits: 0.0880724338, 0.0880724337\n",
      "[27736] resetting! saw 0.0880724338\n",
      "[27739] new avg. common to 10 digits: 0.0880724482, 0.0880724482\n",
      "[27740] resetting! saw 0.0880724473\n",
      "[28276] new avg. common to 10 digits: 0.0880722093, 0.0880722094\n",
      "[28277] resetting! saw 0.0880721930\n",
      "[28570] new avg. common to 10 digits: 0.0880723198, 0.0880723198\n",
      "[28571] resetting! saw 0.0880723206\n",
      "[29125] new avg. common to 10 digits: 0.0880716676, 0.0880716675\n",
      "[29126] resetting! saw 0.0880716744\n",
      "[29163] new avg. common to 10 digits: 0.0880718546, 0.0880718546\n",
      "[29164] resetting! saw 0.0880718316\n",
      "[29231] new avg. common to 10 digits: 0.0880720812, 0.0880720812\n",
      "[29232] resetting! saw 0.0880720491\n",
      "[29713] new avg. common to 10 digits: 0.0880720911, 0.0880720911\n",
      "[29714] resetting! saw 0.0880720710\n",
      "[30348] new avg. common to 10 digits: 0.0880715184, 0.0880715185\n",
      "[30349] resetting! saw 0.0880715156\n",
      "[30712] new avg. common to 10 digits: 0.0880718781, 0.0880718780\n",
      "[30713] resetting! saw 0.0880719244\n",
      "[31611] new avg. common to 10 digits: 0.0880712915, 0.0880712914\n",
      "[31612] resetting! saw 0.0880712648\n",
      "[32193] new avg. common to 10 digits: 0.0880707596, 0.0880707595\n",
      "[32194] resetting! saw 0.0880707733\n",
      "[32324] new avg. common to 10 digits: 0.0880708629, 0.0880708629\n",
      "[32325] resetting! saw 0.0880708289\n",
      "[32352] new avg. common to 10 digits: 0.0880708045, 0.0880708045\n",
      "[32353] resetting! saw 0.0880708312\n",
      "[32591] new avg. common to 10 digits: 0.0880711596, 0.0880711595\n",
      "[32592] resetting! saw 0.0880711392\n",
      "[32755] new avg. common to 10 digits: 0.0880711095, 0.0880711095\n",
      "[32756] resetting! saw 0.0880711203\n",
      "[33461] new avg. common to 10 digits: 0.0880704941, 0.0880704941\n",
      "[33462] resetting! saw 0.0880705044\n",
      "[33778] new avg. common to 10 digits: 0.0880704152, 0.0880704152\n",
      "[33779] resetting! saw 0.0880704238\n",
      "[34061] new avg. common to 10 digits: 0.0880703269, 0.0880703269\n",
      "[34062] resetting! saw 0.0880703209\n",
      "[34868] new avg. common to 10 digits: 0.0880701716, 0.0880701716\n",
      "[34869] resetting! saw 0.0880701773\n",
      "[35165] new avg. common to 10 digits: 0.0880703175, 0.0880703176\n",
      "[35166] resetting! saw 0.0880703058\n",
      "[35471] new avg. common to 10 digits: 0.0880703264, 0.0880703263\n",
      "[35472] resetting! saw 0.0880703084\n",
      "[35600] new avg. common to 10 digits: 0.0880703086, 0.0880703086\n",
      "[35601] resetting! saw 0.0880703163\n",
      "[35740] new avg. common to 10 digits: 0.0880699829, 0.0880699829\n",
      "[35741] resetting! saw 0.0880699765\n",
      "[36251] new avg. common to 10 digits: 0.0880701028, 0.0880701029\n",
      "[36252] resetting! saw 0.0880701061\n",
      "[36785] new avg. common to 10 digits: 0.0880698853, 0.0880698853\n",
      "[36786] resetting! saw 0.0880698910\n",
      "[37271] new avg. common to 10 digits: 0.0880702369, 0.0880702368\n",
      "[37272] resetting! saw 0.0880702275\n",
      "[37395] new avg. common to 10 digits: 0.0880699388, 0.0880699388\n",
      "[37396] resetting! saw 0.0880699252\n",
      "[37559] new avg. common to 10 digits: 0.0880700117, 0.0880700118\n",
      "[37560] resetting! saw 0.0880699926\n",
      "[37756] new avg. common to 10 digits: 0.0880702196, 0.0880702195\n",
      "[37757] resetting! saw 0.0880702102\n",
      "[38296] new avg. common to 10 digits: 0.0880704674, 0.0880704674\n",
      "[38297] resetting! saw 0.0880704799\n",
      "[38374] new avg. common to 10 digits: 0.0880705834, 0.0880705833\n",
      "[38375] resetting! saw 0.0880705759\n",
      "[38448] new avg. common to 10 digits: 0.0880704378, 0.0880704378\n",
      "[38449] resetting! saw 0.0880704323\n",
      "[38764] new avg. common to 10 digits: 0.0880702613, 0.0880702614\n",
      "[38765] resetting! saw 0.0880702652\n",
      "[39203] new avg. common to 10 digits: 0.0880698813, 0.0880698812\n",
      "[39204] resetting! saw 0.0880698512\n",
      "[40492] new avg. common to 10 digits: 0.0880703075, 0.0880703075\n",
      "[40493] resetting! saw 0.0880703095\n",
      "[40757] new avg. common to 10 digits: 0.0880701338, 0.0880701338\n",
      "[40758] resetting! saw 0.0880701270\n",
      "[40971] new avg. common to 10 digits: 0.0880700987, 0.0880700986\n",
      "[40972] resetting! saw 0.0880700982\n",
      "[41098] new avg. common to 10 digits: 0.0880700711, 0.0880700711\n",
      "[41099] resetting! saw 0.0880700528\n",
      "[41957] new avg. common to 10 digits: 0.0880704687, 0.0880704687\n",
      "[41958] resetting! saw 0.0880704519\n",
      "[42215] new avg. common to 10 digits: 0.0880710666, 0.0880710666\n",
      "[42216] resetting! saw 0.0880710697\n",
      "[42347] new avg. common to 10 digits: 0.0880710953, 0.0880710954\n",
      "[42348] resetting! saw 0.0880711008\n"
     ]
    },
    {
     "ename": "KeyboardInterrupt",
     "evalue": "",
     "output_type": "error",
     "traceback": [
      "\u001b[1;31m---------------------------------------------------------------------------\u001b[0m",
      "\u001b[1;31mKeyboardInterrupt\u001b[0m                         Traceback (most recent call last)",
      "\u001b[1;32m<ipython-input-145-0194e9a3e142>\u001b[0m in \u001b[0;36m<module>\u001b[1;34m\u001b[0m\n\u001b[0;32m      8\u001b[0m         \u001b[1;32mbreak\u001b[0m\u001b[1;33m\u001b[0m\u001b[1;33m\u001b[0m\u001b[0m\n\u001b[0;32m      9\u001b[0m \u001b[1;33m\u001b[0m\u001b[0m\n\u001b[1;32m---> 10\u001b[1;33m     \u001b[0msample_avg\u001b[0m \u001b[1;33m=\u001b[0m \u001b[0mcompute_batch_mean_area\u001b[0m\u001b[1;33m(\u001b[0m\u001b[0mBATCH_SIZE\u001b[0m\u001b[1;33m)\u001b[0m\u001b[1;33m\u001b[0m\u001b[1;33m\u001b[0m\u001b[0m\n\u001b[0m\u001b[0;32m     11\u001b[0m     \u001b[0mnew_avg\u001b[0m \u001b[1;33m=\u001b[0m \u001b[0mrunning_avg\u001b[0m \u001b[1;33m+\u001b[0m \u001b[1;33m(\u001b[0m\u001b[0msample_avg\u001b[0m \u001b[1;33m-\u001b[0m \u001b[0mrunning_avg\u001b[0m\u001b[1;33m)\u001b[0m \u001b[1;33m/\u001b[0m \u001b[0msamples\u001b[0m\u001b[1;33m\u001b[0m\u001b[1;33m\u001b[0m\u001b[0m\n\u001b[0;32m     12\u001b[0m     \u001b[1;32mif\u001b[0m \u001b[0mnum_leading_digits_in_common\u001b[0m\u001b[1;33m(\u001b[0m\u001b[0mnew_avg\u001b[0m\u001b[1;33m,\u001b[0m \u001b[0mrunning_avg\u001b[0m\u001b[1;33m)\u001b[0m \u001b[1;33m>=\u001b[0m \u001b[0mMIN_DIGITS\u001b[0m\u001b[1;33m:\u001b[0m\u001b[1;33m\u001b[0m\u001b[1;33m\u001b[0m\u001b[0m\n",
      "\u001b[1;32m<ipython-input-100-e0417d673beb>\u001b[0m in \u001b[0;36mcompute_batch_mean_area\u001b[1;34m(batch_size)\u001b[0m\n\u001b[0;32m      3\u001b[0m     \u001b[0medges\u001b[0m \u001b[1;33m=\u001b[0m \u001b[0mnp\u001b[0m\u001b[1;33m.\u001b[0m\u001b[0mabs\u001b[0m\u001b[1;33m(\u001b[0m\u001b[0mnp\u001b[0m\u001b[1;33m.\u001b[0m\u001b[0mroll\u001b[0m\u001b[1;33m(\u001b[0m\u001b[0mpoints\u001b[0m\u001b[1;33m,\u001b[0m \u001b[0mbatch_size\u001b[0m\u001b[1;33m,\u001b[0m \u001b[0maxis\u001b[0m\u001b[1;33m=\u001b[0m\u001b[1;36m0\u001b[0m\u001b[1;33m)\u001b[0m \u001b[1;33m-\u001b[0m \u001b[0mpoints\u001b[0m\u001b[1;33m)\u001b[0m\u001b[1;33m\u001b[0m\u001b[1;33m\u001b[0m\u001b[0m\n\u001b[0;32m      4\u001b[0m     \u001b[0mareas\u001b[0m \u001b[1;33m=\u001b[0m \u001b[1;33m(\u001b[0m\u001b[0medges\u001b[0m\u001b[1;33m[\u001b[0m\u001b[1;33m:\u001b[0m\u001b[1;33m,\u001b[0m \u001b[1;36m0\u001b[0m\u001b[1;33m]\u001b[0m \u001b[1;33m*\u001b[0m \u001b[0medges\u001b[0m\u001b[1;33m[\u001b[0m\u001b[1;33m:\u001b[0m\u001b[1;33m,\u001b[0m \u001b[1;36m1\u001b[0m\u001b[1;33m]\u001b[0m\u001b[1;33m)\u001b[0m\u001b[1;33m.\u001b[0m\u001b[0mreshape\u001b[0m\u001b[1;33m(\u001b[0m\u001b[1;33m(\u001b[0m\u001b[0mbatch_size\u001b[0m\u001b[1;33m,\u001b[0m \u001b[1;33m-\u001b[0m\u001b[1;36m1\u001b[0m\u001b[1;33m)\u001b[0m\u001b[1;33m)\u001b[0m\u001b[1;33m\u001b[0m\u001b[1;33m\u001b[0m\u001b[0m\n\u001b[1;32m----> 5\u001b[1;33m     \u001b[0mareas\u001b[0m\u001b[1;33m.\u001b[0m\u001b[0msort\u001b[0m\u001b[1;33m(\u001b[0m\u001b[0maxis\u001b[0m\u001b[1;33m=\u001b[0m\u001b[1;36m1\u001b[0m\u001b[1;33m)\u001b[0m\u001b[1;33m\u001b[0m\u001b[1;33m\u001b[0m\u001b[0m\n\u001b[0m\u001b[0;32m      6\u001b[0m     \u001b[1;32mreturn\u001b[0m \u001b[0mareas\u001b[0m\u001b[1;33m[\u001b[0m\u001b[1;33m:\u001b[0m\u001b[1;33m,\u001b[0m \u001b[1;36m1\u001b[0m\u001b[1;33m]\u001b[0m\u001b[1;33m.\u001b[0m\u001b[0mmean\u001b[0m\u001b[1;33m(\u001b[0m\u001b[1;33m)\u001b[0m\u001b[1;33m\u001b[0m\u001b[1;33m\u001b[0m\u001b[0m\n",
      "\u001b[1;31mKeyboardInterrupt\u001b[0m: "
     ]
    }
   ],
   "source": [
    "samples = 0\n",
    "running_avg = 0\n",
    "num_minor_diffs = 0\n",
    "\n",
    "while True:\n",
    "    samples += 1\n",
    "    if samples > 1220703:\n",
    "        break\n",
    "        \n",
    "    sample_avg = compute_batch_mean_area(BATCH_SIZE)\n",
    "    new_avg = running_avg + (sample_avg - running_avg) / samples\n",
    "    if num_leading_digits_in_common(new_avg, running_avg) >= MIN_DIGITS:\n",
    "        print(f'[{samples}] new avg. common to {MIN_DIGITS} digits: {running_avg:.010f}, {new_avg:.010f}')\n",
    "        num_minor_diffs += 1\n",
    "        if num_minor_diffs >= MIN_MINOR_DIFFS:\n",
    "            print('[{samples}] final!')\n",
    "            break\n",
    "    else:\n",
    "        if num_minor_diffs > 0:\n",
    "            print(f'[{samples}] resetting! saw {new_avg:.010f}')\n",
    "        num_minor_diffs = 0\n",
    "    running_avg = new_avg"
   ]
  },
  {
   "cell_type": "code",
   "execution_count": 156,
   "metadata": {},
   "outputs": [
    {
     "data": {
      "text/plain": [
       "1220703.125"
      ]
     },
     "execution_count": 156,
     "metadata": {},
     "output_type": "execute_result"
    }
   ],
   "source": [
    "(10 ** MIN_DIGITS) / 8192"
   ]
  },
  {
   "cell_type": "code",
   "execution_count": 194,
   "metadata": {},
   "outputs": [
    {
     "name": "stdout",
     "output_type": "stream",
     "text": [
      "0.02324668512555124\n",
      "0.1379408271881305\n",
      "0.01972411069789717\n",
      "0.17160346694157755\n",
      "0.14565455520427817\n",
      "0.014668016067845855\n",
      "0.14618422016281837\n",
      "0.2035242087391498\n",
      "0.048259311699909435\n",
      "0.05207778043964428\n"
     ]
    }
   ],
   "source": [
    "for i in range(10):\n",
    "    print(compute_batch_mean_area(1))"
   ]
  },
  {
   "cell_type": "code",
   "execution_count": 203,
   "metadata": {},
   "outputs": [
    {
     "name": "stdout",
     "output_type": "stream",
     "text": [
      "[10010000000] running avg: 0.0880714127, delta: -0.0000000000\n",
      "[10020000000] running avg: 0.0880713902, delta: -0.0000000000\n",
      "[10030000000] running avg: 0.0880713542, delta: -0.0000000000\n",
      "[10040000000] running avg: 0.0880713422, delta: 0.0000000000\n",
      "[10050000000] running avg: 0.0880713472, delta: -0.0000000000\n",
      "[10060000000] running avg: 0.0880713554, delta: -0.0000000000\n",
      "[10070000000] running avg: 0.0880713449, delta: -0.0000000000\n",
      "[10080000000] running avg: 0.0880713249, delta: -0.0000000000\n",
      "[10090000000] running avg: 0.0880713154, delta: -0.0000000000\n"
     ]
    },
    {
     "ename": "KeyboardInterrupt",
     "evalue": "",
     "output_type": "error",
     "traceback": [
      "\u001b[1;31m---------------------------------------------------------------------------\u001b[0m",
      "\u001b[1;31mKeyboardInterrupt\u001b[0m                         Traceback (most recent call last)",
      "\u001b[1;32m<ipython-input-203-45330dd34078>\u001b[0m in \u001b[0;36m<module>\u001b[1;34m\u001b[0m\n\u001b[0;32m      7\u001b[0m \u001b[1;32mwhile\u001b[0m \u001b[1;32mTrue\u001b[0m\u001b[1;33m:\u001b[0m\u001b[1;33m\u001b[0m\u001b[1;33m\u001b[0m\u001b[0m\n\u001b[0;32m      8\u001b[0m     \u001b[1;32mfor\u001b[0m \u001b[0msample_avg\u001b[0m \u001b[1;32min\u001b[0m \u001b[0mcompute_batch_mean_area\u001b[0m\u001b[1;33m(\u001b[0m\u001b[0mBATCH_SIZE\u001b[0m\u001b[1;33m,\u001b[0m \u001b[0mmean\u001b[0m\u001b[1;33m=\u001b[0m\u001b[1;32mFalse\u001b[0m\u001b[1;33m)\u001b[0m\u001b[1;33m:\u001b[0m\u001b[1;33m\u001b[0m\u001b[1;33m\u001b[0m\u001b[0m\n\u001b[1;32m----> 9\u001b[1;33m         \u001b[0msamples\u001b[0m \u001b[1;33m+=\u001b[0m \u001b[1;36m1\u001b[0m\u001b[1;33m\u001b[0m\u001b[1;33m\u001b[0m\u001b[0m\n\u001b[0m\u001b[0;32m     10\u001b[0m         \u001b[0mdelta\u001b[0m \u001b[1;33m=\u001b[0m \u001b[1;33m(\u001b[0m\u001b[0msample_avg\u001b[0m \u001b[1;33m-\u001b[0m \u001b[0mrunning_avg\u001b[0m\u001b[1;33m)\u001b[0m \u001b[1;33m/\u001b[0m \u001b[0msamples\u001b[0m\u001b[1;33m\u001b[0m\u001b[1;33m\u001b[0m\u001b[0m\n\u001b[0;32m     11\u001b[0m         \u001b[0mrunning_avg\u001b[0m \u001b[1;33m+=\u001b[0m \u001b[0mdelta\u001b[0m\u001b[1;33m\u001b[0m\u001b[1;33m\u001b[0m\u001b[0m\n",
      "\u001b[1;31mKeyboardInterrupt\u001b[0m: "
     ]
    }
   ],
   "source": [
    "BATCH_SIZE = 8192\n",
    "samples = 10000000000\n",
    "running_avg = 0.0880714201\n",
    "num_minor_diffs = 0\n",
    "max_samples = 10 ** (MIN_DIGITS + 1)\n",
    "\n",
    "while True:    \n",
    "    for sample_avg in compute_batch_mean_area(BATCH_SIZE, mean=False):\n",
    "        samples += 1\n",
    "        delta = (sample_avg - running_avg) / samples\n",
    "        running_avg += delta\n",
    "        if samples % 10000000 == 0:\n",
    "            print(f'[{samples}] running avg: {running_avg:.010f}, delta: {delta:.010f}')\n",
    "        if samples > max_samples:\n",
    "            print(f'[{samples}] final! {running_avg:.010f}')\n",
    "            break"
   ]
  },
  {
   "cell_type": "code",
   "execution_count": 143,
   "metadata": {},
   "outputs": [
    {
     "data": {
      "text/plain": [
       "1220703.125"
      ]
     },
     "execution_count": 143,
     "metadata": {},
     "output_type": "execute_result"
    }
   ],
   "source": [
    "[11690000000] running avg: 0.0880712192\n",
    "[11700000000] running avg: 0.0880712118\n",
    "[11710000000] running avg: 0.0880711937\n",
    "[11720000000] running avg: 0.0880711876\n",
    "[11730000000] running avg: 0.0880712180\n",
    "[11740000000] running avg: 0.0880712113\n",
    "[11750000000] running avg: 0.0880712169\n",
    "[11760000000] running avg: 0.0880712352\n",
    "[11770000000] running avg: 0.0880712686\n",
    "[11780000000] running avg: 0.0880712331"
   ]
  },
  {
   "cell_type": "code",
   "execution_count": 152,
   "metadata": {},
   "outputs": [
    {
     "data": {
      "text/plain": [
       "1220703.125"
      ]
     },
     "execution_count": 152,
     "metadata": {},
     "output_type": "execute_result"
    }
   ],
   "source": [
    "(10**10) / 8192"
   ]
  },
  {
   "cell_type": "code",
   "execution_count": null,
   "metadata": {},
   "outputs": [],
   "source": []
  }
 ],
 "metadata": {
  "kernelspec": {
   "display_name": "Python 3",
   "language": "python",
   "name": "python3"
  },
  "language_info": {
   "codemirror_mode": {
    "name": "ipython",
    "version": 3
   },
   "file_extension": ".py",
   "mimetype": "text/x-python",
   "name": "python",
   "nbconvert_exporter": "python",
   "pygments_lexer": "ipython3",
   "version": "3.7.3"
  }
 },
 "nbformat": 4,
 "nbformat_minor": 4
}
