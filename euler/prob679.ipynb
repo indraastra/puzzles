{
 "cells": [
  {
   "cell_type": "code",
   "execution_count": 647,
   "id": "148c017c",
   "metadata": {},
   "outputs": [],
   "source": [
    "import itertools\n",
    "from collections import Counter\n",
    "from functools import lru_cache\n",
    "import util"
   ]
  },
  {
   "cell_type": "code",
   "execution_count": 434,
   "id": "915d2312",
   "metadata": {},
   "outputs": [
    {
     "name": "stdout",
     "output_type": "stream",
     "text": [
      "{'R', 'E', 'A', 'F'} {'FREE', 'FARE', 'AREA', 'REEF'} 4 15\n"
     ]
    }
   ],
   "source": [
    "KEYWORDS = {'FREE', 'FARE', 'AREA', 'REEF'}\n",
    "LETTERS = set(Counter(itertools.chain(*KEYWORDS)).keys())\n",
    "WORDLEN = len(next(iter(KEYWORDS)))\n",
    "LIMIT = 15\n",
    "print(LETTERS, KEYWORDS, WORDLEN, LIMIT)"
   ]
  },
  {
   "cell_type": "code",
   "execution_count": 587,
   "id": "b7b9ae38",
   "metadata": {},
   "outputs": [],
   "source": [
    "def find_overlaps(s1, s2):\n",
    "    return [i for i in range(len(s1)) if s2.startswith(s1[i:])]\n",
    "\n",
    "def apply_overlaps(s1, s2, overlaps):\n",
    "    return [s1[:i] + s2 for i in overlaps]\n",
    "\n",
    "def limit_len(words, limit):\n",
    "    return [w for w in words if len(w) <= limit]\n",
    "\n",
    "import re\n",
    "\n",
    "def count_overlapping(text, search_for):\n",
    "    return len(re.findall(search_for, text))\n",
    "\n",
    "_keyword_res = {re.compile(rf'(?=({k}))') for k in KEYWORDS}\n",
    "def is_minimal(w):\n",
    "    return all(count_overlapping(w, k) == 1 for k in _keyword_res)\n",
    "\n",
    "def is_safe(w):\n",
    "    return all(count_overlapping(w, k) == 0 for k in _keyword_res)"
   ]
  },
  {
   "cell_type": "code",
   "execution_count": 878,
   "id": "d421fe5f",
   "metadata": {},
   "outputs": [],
   "source": [
    "@lru_cache(maxsize=None)\n",
    "def safe_suffixes(prev, n):\n",
    "    if n <= 0: return 1\n",
    "    words = {(prev+l)[-WORDLEN:] for l in LETTERS}\n",
    "    return sum(safe_suffixes(w, n-1) if n > 0 else 1 for w in words if w not in KEYWORDS)\n",
    "\n",
    "@lru_cache(maxsize=None)\n",
    "def safe_prefixes(post, n):\n",
    "    if n <= 0: return 1\n",
    "    words = {(l+post)[:WORDLEN] for l in LETTERS}\n",
    "    return sum(safe_prefixes(w, n-1) if n > 0 else 1 for w in words if w not in KEYWORDS)\n",
    "\n",
    "@lru_cache(maxsize=None)\n",
    "def _safe_infixes(prev, post, n):\n",
    "    if n <= 0: \n",
    "        return 1 if is_safe(prev[1:] + post[:-1]) else 0\n",
    "    words = {(prev+l)[-WORDLEN:] for l in LETTERS}\n",
    "    return sum(safe_infixes(w, post, n-1) for w in words if w not in KEYWORDS)    \n",
    "\n",
    "def safe_infixes(prev, post, n):\n",
    "    return _safe_infixes(prev[-WORDLEN:], post[:WORDLEN], n)\n",
    "\n",
    "def f(n):\n",
    "    return set(''.join(ls) for ls in itertools.product(*[LETTERS]*n) if is_minimal(''.join(ls)))"
   ]
  },
  {
   "cell_type": "code",
   "execution_count": 891,
   "id": "26c77708",
   "metadata": {},
   "outputs": [],
   "source": [
    "solutions_10 = f(10)\n",
    "#solutions_11 = f(11)\n",
    "solutions_12 = f(12)"
   ]
  },
  {
   "cell_type": "code",
   "execution_count": 892,
   "id": "bbe2c0e9",
   "metadata": {},
   "outputs": [
    {
     "data": {
      "text/plain": [
       "450"
      ]
     },
     "execution_count": 892,
     "metadata": {},
     "output_type": "execute_result"
    }
   ],
   "source": [
    "len(f(12))"
   ]
  },
  {
   "cell_type": "code",
   "execution_count": 584,
   "id": "e974c2e0",
   "metadata": {},
   "outputs": [
    {
     "data": {
      "text/plain": [
       "16"
      ]
     },
     "execution_count": 584,
     "metadata": {},
     "output_type": "execute_result"
    }
   ],
   "source": [
    "safe_suffixes('REA', 2)"
   ]
  },
  {
   "cell_type": "code",
   "execution_count": 585,
   "id": "d1acb065",
   "metadata": {},
   "outputs": [
    {
     "data": {
      "text/plain": [
       "249"
      ]
     },
     "execution_count": 585,
     "metadata": {},
     "output_type": "execute_result"
    }
   ],
   "source": [
    "safe_prefixes('FRE', 4)"
   ]
  },
  {
   "cell_type": "code",
   "execution_count": 597,
   "id": "663c8299",
   "metadata": {},
   "outputs": [
    {
     "data": {
      "text/plain": [
       "1"
      ]
     },
     "execution_count": 597,
     "metadata": {},
     "output_type": "execute_result"
    }
   ],
   "source": [
    "safe_infixes('REE', 'A', 0)"
   ]
  },
  {
   "cell_type": "code",
   "execution_count": 522,
   "id": "8e95cad8",
   "metadata": {},
   "outputs": [
    {
     "data": {
      "text/plain": [
       "['AREA', 'AREA']"
      ]
     },
     "execution_count": 522,
     "metadata": {},
     "output_type": "execute_result"
    }
   ],
   "source": [
    "re.findall(r'(?=(AREA))', 'AREAREA')"
   ]
  },
  {
   "cell_type": "code",
   "execution_count": 866,
   "id": "d8e88884",
   "metadata": {},
   "outputs": [],
   "source": [
    "def overlap_ordered(words, limit):\n",
    "    overlaps = [words[0]]\n",
    "    for word in words[1:]:\n",
    "        new_overlaps = []\n",
    "        for prefix in overlaps:\n",
    "            #new_overlaps.append(prefix + word)\n",
    "            new_overlaps.extend(apply_overlaps(prefix, word, find_overlaps(prefix, word)))\n",
    "        new_overlaps = limit_len(new_overlaps, limit)\n",
    "        if len(new_overlaps) == 0:\n",
    "            return []\n",
    "        overlaps = new_overlaps\n",
    "    return overlaps\n",
    "                    \n",
    "def overlapping_solutions(keywords, limit):\n",
    "    overlaps = set()\n",
    "    for words in itertools.permutations(keywords):\n",
    "        overlaps.update(overlap_ordered(words, maxlen))\n",
    "    return {o for o in overlaps if is_minimal(o)}\n",
    "\n",
    "def partitions(xs):\n",
    "    if len(xs) == 1:\n",
    "        yield [ xs ]\n",
    "        return\n",
    "\n",
    "    first = xs[0]\n",
    "    for smaller in partitions(xs[1:]):\n",
    "        for n, subset in enumerate(smaller):\n",
    "            yield smaller[:n] + [[ first ] + subset]  + smaller[n+1:]\n",
    "        yield [ [ first ] ] + smaller\n",
    "\n",
    "def placements(keywords, limit):\n",
    "    placements = set()\n",
    "    for partition in partitions(keywords):\n",
    "        for partition in itertools.product(*(itertools.permutations(c) for c in partition)):\n",
    "            for placement in itertools.product(*(overlap_ordered(ws, limit) if len(ws) > 1 else ws for ws in partition)):\n",
    "                if num_blanks(placement, limit) < 0: continue\n",
    "                placements.update(itertools.permutations(placement))\n",
    "    return placements\n",
    "\n",
    "def num_blanks(placement, limit):\n",
    "    return limit - sum(len(w) for w in placement)\n",
    "\n",
    "def distribute_blanks(blanks, gaps):\n",
    "    if gaps == 1: \n",
    "        return [[blanks]]\n",
    "    elif blanks <= 0:\n",
    "        return [[blanks]*gaps]\n",
    "    solutions = []\n",
    "    for i in range(blanks+1):\n",
    "        solutions.extend([i] + remainder for remainder in distribute_blanks(blanks - i, gaps - 1))\n",
    "    return solutions"
   ]
  },
  {
   "cell_type": "code",
   "execution_count": 726,
   "id": "b52af0bb",
   "metadata": {},
   "outputs": [
    {
     "data": {
      "text/plain": [
       "[('FREEFAREA',), ('FREEF', 'FAREA'), ('FAREA', 'FREEF')]"
      ]
     },
     "execution_count": 726,
     "metadata": {},
     "output_type": "execute_result"
    }
   ],
   "source": [
    "list(placements(list(KEYWORDS), 10))"
   ]
  },
  {
   "cell_type": "code",
   "execution_count": 914,
   "id": "bdf441fd",
   "metadata": {},
   "outputs": [
    {
     "name": "stdout",
     "output_type": "stream",
     "text": [
      "644997092988678\n"
     ]
    }
   ],
   "source": [
    "solutions = 0\n",
    "LIMIT = 30\n",
    "\n",
    "for placement in placements(list(KEYWORDS), LIMIT):\n",
    "    blanks = num_blanks(placement, LIMIT)\n",
    "    solution = ''.join(placement)\n",
    "    # Multiple parts to place amid blanks.\n",
    "    for dist in distribute_blanks(blanks, len(placement)+1):\n",
    "        terms = []\n",
    "        for i, blanks in enumerate(dist):\n",
    "            if i == 0:\n",
    "                term = safe_prefixes(placement[0][:WORDLEN], blanks)\n",
    "            elif i == len(placement):\n",
    "                term = safe_suffixes(placement[-1][-WORDLEN:], blanks)\n",
    "            else:\n",
    "                term = safe_infixes(placement[i-1], placement[i], blanks)\n",
    "            terms.append(term)\n",
    "        results = util.product(terms)\n",
    "#             print(solution, placement, dist, '->', results)\n",
    "        solutions += results\n",
    "\n",
    "print(solutions)"
   ]
  },
  {
   "cell_type": "code",
   "execution_count": 906,
   "id": "222b69dc",
   "metadata": {},
   "outputs": [
    {
     "data": {
      "text/plain": [
       "450"
      ]
     },
     "execution_count": 906,
     "metadata": {},
     "output_type": "execute_result"
    }
   ],
   "source": [
    "len(solutions_12)"
   ]
  },
  {
   "cell_type": "code",
   "execution_count": 6,
   "id": "03e8145b",
   "metadata": {},
   "outputs": [
    {
     "name": "stdout",
     "output_type": "stream",
     "text": [
      "FREE FARE\n",
      "FREE AREA\n",
      "FREE REEF\n",
      "  FREEF\n",
      "  RFREE\n",
      "FARE AREA\n",
      "  FAREA\n",
      "FARE REEF\n",
      "  FAREEF\n",
      "  REFARE\n",
      "AREA REEF\n"
     ]
    }
   ],
   "source": [
    "for k1, k2 in itertools.combinations(keywords, 2):\n",
    "    print(k1, k2)\n",
    "    for i in find_overlaps(k1, k2):\n",
    "        print(' ', k1[:i] + k2)\n",
    "    for j in find_overlaps(k2, k1):\n",
    "        print(' ', k2[:i] + k1)"
   ]
  },
  {
   "cell_type": "code",
   "execution_count": 497,
   "id": "9357945d",
   "metadata": {},
   "outputs": [
    {
     "name": "stdout",
     "output_type": "stream",
     "text": [
      "['FREE', 'FARE', 'AREA', 'REEF']\n",
      "['FREEFAREAREEF', 'FREEFAREEFAREA', 'FREEAREAFAREEF', 'FREEAREAREEFARE', 'FREEREEFFAREA', 'FREEREEFAREAREA', 'FREEREEFAREA', 'FREEFFAREAREA', 'FREEFFAREA', 'FREEFAREAREA', 'FREEFAREA', 'FREEFAREAFARE', 'FAREFREEFAREA', 'FAREAREAFREEF', 'FAREAFREEREEF', 'FAREAFREEF', 'FAREAREAREEFREE', 'FAREAREEFFREE', 'FAREAREEFREE', 'FAREREEFREEAREA', 'FAREEFFREEAREA', 'FAREEFREEAREA', 'FAREEFAREAFREE', 'AREAFREEFAREEF', 'AREAFREEREEFARE', 'AREAFREEFFARE', 'AREAFREEFARE', 'AREAFAREFREEF', 'AREAFAREREEFREE', 'AREAFAREEFFREE', 'AREAFAREEFREE', 'AREAREEFREEFARE', 'AREAREEFAREFREE', 'REEFFREEFAREA', 'REEFREEFAREAREA', 'REEFREEFAREA', 'REEFREEAREAFARE', 'REEFAREFREEAREA', 'REEFFAREAFREE', 'REEFAREAREAFREE', 'REEFAREAFREE']\n",
      "41\n"
     ]
    }
   ],
   "source": []
  },
  {
   "cell_type": "code",
   "execution_count": 57,
   "id": "b7a42b2d",
   "metadata": {},
   "outputs": [
    {
     "name": "stdout",
     "output_type": "stream",
     "text": [
      "30\n",
      "{'FREEFFAREA', 'FREEFAREEFAREA', 'FREEAREAREEFARE', 'FAREREEFREEAREA', 'REEFREEAREAFARE', 'AREAFREEREEFARE', 'FREEREEFAREA', 'AREAFREEFARE', 'AREAFAREREEFREE', 'FREEREEFFAREA', 'FAREAREEFREE', 'AREAFREEFFARE', 'FAREAFREEREEF', 'REEFFAREAFREE', 'FAREAREAFREEF', 'AREAREEFAREFREE', 'AREAFAREFREEF', 'REEFAREAREAFREE', 'FAREAFREEF', 'REEFAREFREEAREA', 'FAREAREAREEFREE', 'AREAREEFREEFARE', 'AREAFAREEFFREE', 'FREEAREAFAREEF', 'AREAFAREEFREE', 'FAREEFFREEAREA', 'REEFAREAFREE', 'FREEFAREA', 'FAREEFREEAREA', 'FAREAREEFFREE'}\n"
     ]
    }
   ],
   "source": [
    "def minimize(overlaps):\n",
    "    minimal_overlaps = set()\n",
    "    for w1 in overlaps:\n",
    "        if all((w1 == w2 or w2 not in w1) for w2 in overlaps):\n",
    "            minimal_overlaps.add(w1)\n",
    "    return minimal_overlaps\n",
    "\n",
    "minimal_overlaps = minimize(overlaps)\n",
    "print(len(minimal_overlaps))\n",
    "print(minimal_overlaps)"
   ]
  },
  {
   "cell_type": "code",
   "execution_count": 10,
   "id": "83435077",
   "metadata": {},
   "outputs": [
    {
     "name": "stdout",
     "output_type": "stream",
     "text": [
      "FREEFFAREA 5 737280\n",
      "FREEFAREEFAREA 1 8\n",
      "FREEAREAREEFARE 0 1\n",
      "FAREREEFREEAREA 0 1\n",
      "REEFREEAREAFARE 0 1\n",
      "AREAFREEREEFARE 0 1\n",
      "FREEREEFAREA 3 1536\n",
      "AREAFREEFARE 3 1536\n",
      "AREAFAREREEFREE 0 1\n",
      "FREEREEFFAREA 2 96\n",
      "FAREAREEFREE 3 1536\n",
      "AREAFREEFFARE 2 96\n",
      "FAREAFREEREEF 2 96\n",
      "REEFFAREAFREE 2 96\n",
      "FAREAREAFREEF 2 96\n",
      "AREAREEFAREFREE 0 1\n",
      "AREAFAREFREEF 2 96\n",
      "REEFAREAREAFREE 0 1\n",
      "FAREAFREEF 5 737280\n",
      "REEFAREFREEAREA 0 1\n",
      "FAREAREAREEFREE 0 1\n",
      "AREAREEFREEFARE 0 1\n",
      "AREAFAREEFFREE 1 8\n",
      "FREEAREAFAREEF 1 8\n",
      "AREAFAREEFREE 2 96\n",
      "FAREEFFREEAREA 1 8\n",
      "REEFAREAFREE 3 1536\n",
      "FREEFAREA 6 20643840\n",
      "FAREEFREEAREA 2 96\n",
      "FAREAREEFFREE 2 96\n"
     ]
    }
   ],
   "source": [
    "from math import perm\n",
    "\n",
    "count = 0\n",
    "for overlap in minimal_overlaps:\n",
    "    r = maxlen - len(overlap)\n",
    "    c = perm(r+1) * 4 ** r\n",
    "    print(overlap, r, c)"
   ]
  },
  {
   "cell_type": "code",
   "execution_count": null,
   "id": "d2d0d2dc",
   "metadata": {},
   "outputs": [],
   "source": [
    "# Failed "
   ]
  },
  {
   "cell_type": "code",
   "execution_count": 370,
   "id": "1be40409",
   "metadata": {},
   "outputs": [],
   "source": [
    "from functools import lru_cache\n",
    "\n",
    "minlen = 4\n",
    "os = sorted(minimize(all_overlaps(keywords, maxlen)), key=len)\n",
    "letters = 'FARE'\n",
    "s1, s2 = None, None\n",
    "@lru_cache(maxsize=None)\n",
    "def num_safe_strings(n):\n",
    "    if n <= minlen:\n",
    "        return 4**n - sum(len(w) == n for w in words)\n",
    "    base = (num_safe_strings(n - 1) * 4 - \n",
    "            num_safe_strings(n - minlen) * len(keywords))\n",
    "    print('add', num_safe_strings(n - 1) * 4)\n",
    "    sub = {w1+w2 for w1 in safe_strings(n-minlen) for w2 in keywords}\n",
    "    print('sub', num_safe_strings(n - minlen) * len(keywords), len(sub))\n",
    "    extras = set()\n",
    "    for w in keywords:\n",
    "        for o1 in os:\n",
    "            if not o1.endswith(w) or len(o1) > n: continue\n",
    "            base += num_safe_strings(n - len(o1))\n",
    "            print('add', w, o1, len(o1), num_safe_strings(n - len(o1)))\n",
    "            for s in safe_strings(n - len(o1)):\n",
    "#                 if s+o1 in extras or s+o1 in sub:\n",
    "#                     print('AHHH!', s+o1, w, o1)\n",
    "#                 else:\n",
    "                print(n-len(o1))\n",
    "                extras.add(s+o1)\n",
    "    prev = {s+l for s in safe_strings(n-1) for l in letters}\n",
    "    global s1\n",
    "    s1 = extras\n",
    "    print(prev & extras, len(prev), len(extras))\n",
    "\n",
    "#             for o2 in os:\n",
    "#                 if o1 == o2 or not o2.endswith(o1) or len(o2) > n: continue\n",
    "#                 base -= num_safe_strings(n - len(o2))\n",
    "#                 print('sub', num_safe_strings(n - len(o2)))\n",
    "#                 break\n",
    "    return base\n",
    "\n",
    "@lru_cache(maxsize=None)\n",
    "def safe_strings(n):\n",
    "    if n <= minlen:\n",
    "        everything = set(''.join(ls) for ls in itertools.product(*[letters]*n))\n",
    "        return everything - set(keywords)\n",
    "    everything = {s+l for s in safe_strings(n - 1) for l in letters}\n",
    "    print('add', len(everything))\n",
    "    sub1 = {w for w in everything if any(w.endswith(kw) for kw in keywords)}\n",
    "    sub2 = {w1+w2 for w1 in safe_strings(n-minlen) for w2 in keywords}\n",
    "    print('sub', len(sub1), len(sub2))\n",
    "    sub3 = set()\n",
    "    for w in keywords:\n",
    "        for o1 in os:\n",
    "            if not o1.endswith(w) or len(o1) > n: continue\n",
    "            sub3.update(s+o1 for s in safe_strings(n - len(o1)))\n",
    "            #print('add', w, o1, len(o1), num_safe_strings(n - len(o1)))\n",
    "    print(sub2 - (sub1 | sub3))\n",
    "    global s2\n",
    "    s2 = sub2 - sub1\n",
    "    return everything - sub1"
   ]
  },
  {
   "cell_type": "code",
   "execution_count": 371,
   "id": "490a9d64",
   "metadata": {},
   "outputs": [
    {
     "ename": "TypeError",
     "evalue": "unsupported operand type(s) for -: 'NoneType' and 'NoneType'",
     "output_type": "error",
     "traceback": [
      "\u001b[0;31m---------------------------------------------------------------------------\u001b[0m",
      "\u001b[0;31mTypeError\u001b[0m                                 Traceback (most recent call last)",
      "\u001b[0;32m/tmp/ipykernel_3431423/1155266932.py\u001b[0m in \u001b[0;36m<module>\u001b[0;34m\u001b[0m\n\u001b[0;32m----> 1\u001b[0;31m \u001b[0ms1\u001b[0m \u001b[0;34m-\u001b[0m \u001b[0ms2\u001b[0m\u001b[0;34m\u001b[0m\u001b[0;34m\u001b[0m\u001b[0m\n\u001b[0m",
      "\u001b[0;31mTypeError\u001b[0m: unsupported operand type(s) for -: 'NoneType' and 'NoneType'"
     ]
    }
   ],
   "source": [
    "s1 - s2"
   ]
  },
  {
   "cell_type": "code",
   "execution_count": 372,
   "id": "e5b901d7",
   "metadata": {},
   "outputs": [
    {
     "data": {
      "text/plain": [
       "17"
      ]
     },
     "execution_count": 372,
     "metadata": {},
     "output_type": "execute_result"
    }
   ],
   "source": [
    "len(os)"
   ]
  },
  {
   "cell_type": "code",
   "execution_count": 458,
   "id": "57685d5b",
   "metadata": {},
   "outputs": [
    {
     "data": {
      "text/plain": [
       "994"
      ]
     },
     "execution_count": 458,
     "metadata": {},
     "output_type": "execute_result"
    }
   ],
   "source": [
    "len(safe_strings(5))"
   ]
  },
  {
   "cell_type": "code",
   "execution_count": 355,
   "id": "efbb2604",
   "metadata": {},
   "outputs": [
    {
     "data": {
      "text/plain": [
       "151"
      ]
     },
     "execution_count": 355,
     "metadata": {},
     "output_type": "execute_result"
    }
   ],
   "source": [
    "1008-857"
   ]
  },
  {
   "cell_type": "code",
   "execution_count": 459,
   "id": "0b70f935",
   "metadata": {},
   "outputs": [
    {
     "data": {
      "text/plain": [
       "994"
      ]
     },
     "execution_count": 459,
     "metadata": {},
     "output_type": "execute_result"
    }
   ],
   "source": [
    "num_safe_strings(5)"
   ]
  },
  {
   "cell_type": "code",
   "execution_count": 322,
   "id": "8eae538f",
   "metadata": {},
   "outputs": [
    {
     "data": {
      "text/plain": [
       "61027"
      ]
     },
     "execution_count": 322,
     "metadata": {},
     "output_type": "execute_result"
    }
   ],
   "source": [
    "61868-1008+167"
   ]
  },
  {
   "cell_type": "code",
   "execution_count": 282,
   "id": "73327771",
   "metadata": {},
   "outputs": [
    {
     "name": "stdout",
     "output_type": "stream",
     "text": [
      "61011 61011\n"
     ]
    }
   ],
   "source": [
    "total = 0\n",
    "letters = 'FARE'\n",
    "everything = set()\n",
    "for ls in itertools.product(*[letters]*8):\n",
    "    w1 = ''.join(ls)\n",
    "    if all(w2 not in w1 for w2 in keywords):\n",
    "        everything.add(w1)\n",
    "        total += 1\n",
    "print(total, len(everything))"
   ]
  },
  {
   "cell_type": "code",
   "execution_count": 198,
   "id": "bc358d05",
   "metadata": {},
   "outputs": [
    {
     "name": "stdout",
     "output_type": "stream",
     "text": [
      "15467\n"
     ]
    }
   ],
   "source": [
    "for w in sorted(everything):\n",
    "    if any(w.startswith(word) for word in keywords):\n",
    "        everything.remove(w)\n",
    "print(len(everything))"
   ]
  },
  {
   "cell_type": "code",
   "execution_count": 258,
   "id": "b568d4d8",
   "metadata": {},
   "outputs": [
    {
     "data": {
      "text/plain": [
       "[('FREE', 4), ('FARE', 4), ('AREA', 4), ('REEF', 4)]"
      ]
     },
     "execution_count": 258,
     "metadata": {},
     "output_type": "execute_result"
    }
   ],
   "source": [
    "[(o, len(o)) for o in os]"
   ]
  },
  {
   "cell_type": "code",
   "execution_count": 164,
   "id": "90691061",
   "metadata": {},
   "outputs": [
    {
     "data": {
      "text/plain": [
       "[('REEFFREE', 8),\n",
       " ('REEFFARE', 8),\n",
       " ('AREAFREE', 8),\n",
       " ('FAREEF', 6),\n",
       " ('AREAREEF', 8),\n",
       " ('AREAFARE', 8),\n",
       " ('REEFREE', 7),\n",
       " ('REEFARE', 7),\n",
       " ('FREEAREA', 8),\n",
       " ('FREEF', 5),\n",
       " ('FREEREEF', 8),\n",
       " ('FAREREEF', 8),\n",
       " ('FAREFREE', 8),\n",
       " ('FAREA', 5)]"
      ]
     },
     "execution_count": 164,
     "metadata": {},
     "output_type": "execute_result"
    }
   ],
   "source": [
    "[(o, len(o)) for o in os]"
   ]
  },
  {
   "cell_type": "code",
   "execution_count": 96,
   "id": "bceeebba",
   "metadata": {},
   "outputs": [
    {
     "name": "stdout",
     "output_type": "stream",
     "text": [
      "['REEFAREA']\n",
      "['REEFFARE', 'REEFARE']\n",
      "['REEFFREE', 'REEFREE']\n",
      "['AREAREEF']\n",
      "['AREAFARE']\n",
      "['AREAFREE']\n",
      "['FAREREEF', 'FAREEF']\n",
      "['FAREAREA', 'FAREA']\n",
      "['FAREFREE']\n",
      "['FREEREEF', 'FREEF']\n",
      "['FREEAREA']\n",
      "['FREEFARE']\n"
     ]
    }
   ],
   "source": [
    "for w1, w2 in itertools.product(words, words):\n",
    "    if w1 == w2: continue\n",
    "    print(overlap_ordered([w1, w2], maxlen))"
   ]
  },
  {
   "cell_type": "code",
   "execution_count": null,
   "id": "c73940c6",
   "metadata": {},
   "outputs": [],
   "source": []
  }
 ],
 "metadata": {
  "kernelspec": {
   "display_name": "Python 3 (ipykernel)",
   "language": "python",
   "name": "python3"
  },
  "language_info": {
   "codemirror_mode": {
    "name": "ipython",
    "version": 3
   },
   "file_extension": ".py",
   "mimetype": "text/x-python",
   "name": "python",
   "nbconvert_exporter": "python",
   "pygments_lexer": "ipython3",
   "version": "3.8.10"
  }
 },
 "nbformat": 4,
 "nbformat_minor": 5
}
